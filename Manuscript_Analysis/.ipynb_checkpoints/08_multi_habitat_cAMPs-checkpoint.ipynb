{
 "cells": [
  {
   "cell_type": "markdown",
   "id": "b5c6d720",
   "metadata": {},
   "source": [
    "# AMPSphere v.2022-03\n",
    "\n",
    "This is a notebook meant to form the set of notebooks used to analyze the data in AMPSphere and write the manuscript:\n",
    "\n",
    "__AMPSphere: Global survey of prokaryotic antimicrobial peptides shaping microbiomes__"
   ]
  },
  {
   "cell_type": "markdown",
   "id": "16f5a72a",
   "metadata": {},
   "source": [
    "### Analysis of abundance and diversity of c_AMPs\n",
    "\n",
    "c_AMPs are distributed as gene variants through many species. Here, we will test:\n",
    "    \n",
    "    I. Is there multi-habitat c_AMPs?\n",
    "    II. Are multi-habitat c_AMPs clonal?"
   ]
  },
  {
   "cell_type": "code",
   "execution_count": 1,
   "id": "add68fe9",
   "metadata": {},
   "outputs": [],
   "source": [
    "import lzma\n",
    "import random\n",
    "import numpy as np\n",
    "import pandas as pd\n",
    "import seaborn as sns\n",
    "import matplotlib.pyplot as plt\n",
    "\n",
    "from Bio import SeqIO\n",
    "from tqdm import tqdm\n",
    "from scipy.stats import norm\n",
    "from scipy.stats import shapiro\n",
    "from scipy.stats import pearsonr, spearmanr"
   ]
  },
  {
   "cell_type": "code",
   "execution_count": 2,
   "id": "35d8d17c",
   "metadata": {},
   "outputs": [],
   "source": [
    "higher_level = {'sediment' : 'other',\n",
    "        'bird gut' : 'other animal',\n",
    "        'cat gut' : 'non-human mammal gut',\n",
    "        'insect associated' : 'other animal',\n",
    "        'human urogenital tract' : 'other human',\n",
    "        'dog gut' : 'non-human mammal gut',\n",
    "        'fermented food' : 'anthropogenic',\n",
    "        'groundwater' : 'aquatic',\n",
    "        'coral associated' : 'other animal',\n",
    "        'rat gut' : 'non-human mammal gut',\n",
    "        'human associated' : 'other human',\n",
    "        'cattle gut' : 'non-human mammal gut',\n",
    "        'deer gut' : 'non-human mammal gut',\n",
    "        'mouse gut' : 'non-human mammal gut',\n",
    "        'river associated' : 'aquatic',\n",
    "        'primate gut' : 'non-human mammal gut',\n",
    "        'human respiratory tract' : 'other human',\n",
    "        'cattle rumen' : 'other animal',\n",
    "        'human saliva' : 'other human',\n",
    "        'activated sludge' : 'anthropogenic',\n",
    "        'lake associated' : 'aquatic',\n",
    "        'wastewater' : 'anthropogenic',\n",
    "        'chicken gut' : 'other animal',\n",
    "        'air' : 'other',\n",
    "        'human mouth' : 'other human',\n",
    "        'plant associated' : 'soil/plant',\n",
    "        'water associated' : 'aquatic',\n",
    "        'pig gut' : 'non-human mammal gut',\n",
    "        'human skin' : 'other human',\n",
    "        'marine' : 'aquatic',\n",
    "        'soil' : 'soil/plant',\n",
    "        'built environment' : 'anthropogenic',\n",
    "        'human gut' : 'human gut',\n",
    "        'anthropogenic': 'anthropogenic',\n",
    "        'bear gut' : 'non-human mammal gut',\n",
    "        'bee gut': 'other animal',\n",
    "        'bat gut': 'non-human mammal gut',\n",
    "        'dog associated': 'other animal',\n",
    "        'cattle associated': 'other animal',\n",
    "        'crustacean associated': 'other animal',\n",
    "        'insect gut': 'other animal',\n",
    "        'goat gut': 'non-human mammal gut', \n",
    "        'rodent gut': 'non-human mammal gut',\n",
    "        'fisher gut': 'non-human mammal gut',\n",
    "        'human digestive tract': 'other human',\n",
    "        'coyote gut': 'non-human mammal gut',\n",
    "        'planarian associated': 'other animal',\n",
    "        'sponge associated': 'other animal',\n",
    "        'goat rumen': 'other animal',\n",
    "        'crustacean gut': 'other animal',\n",
    "        'annelidae associated': 'other animal',\n",
    "        'bird skin': 'other animal',\n",
    "        'beatle gut': 'other animal',\n",
    "        'termite gut': 'other animal', \n",
    "        'fish gut': 'other animal',\n",
    "        'mollusc associated': 'other animal',\n",
    "        'ship worm associated': 'other animal',\n",
    "        'rabbit gut': 'non-human mammal gut',\n",
    "        'tunicate associated': 'other animal',\n",
    "        'mussel associated': 'other animal',\n",
    "        'horse gut': 'non-human mammal gut',\n",
    "        'wasp gut': 'other animal',\n",
    "        'guinea pig gut': 'non-human mammal gut'}"
   ]
  },
  {
   "cell_type": "code",
   "execution_count": 3,
   "id": "095a431c",
   "metadata": {},
   "outputs": [],
   "source": [
    "# load data\n",
    "data = pd.read_table('../data_folder/gmsc_amp_genes_envohr_source.tsv.gz')"
   ]
  },
  {
   "cell_type": "code",
   "execution_count": 4,
   "id": "89d52d2f",
   "metadata": {},
   "outputs": [],
   "source": [
    "# eliminate genes/amps without environment (from ProGenomes)\n",
    "data = data[~data.general_envo_name.isna()]\n",
    "\n",
    "# attribut high-level habitat to genes/amps\n",
    "data['high'] = data.general_envo_name.map(lambda x: higher_level.get(x, 'other'))"
   ]
  },
  {
   "cell_type": "code",
   "execution_count": 5,
   "id": "4479397f",
   "metadata": {},
   "outputs": [],
   "source": [
    "# testing multihabitat AMPs\n",
    "def get_multihabitat(df, level=None):\n",
    "    '''\n",
    "    counts the number of multi-habitat AMPs (present in at least 3 environments)\n",
    "    \n",
    "    :inputs:\n",
    "    data frame containing at least AMP, general_envo_name, high-level habitat\n",
    "    level which stats for the habitat or high-level environment\n",
    "    \n",
    "    :outputs:\n",
    "    length of the list of multi-habitat c_AMPs\n",
    "    '''\n",
    "    if level == None:\n",
    "        level = 'high'\n",
    "    if level == 'low':\n",
    "        level = 'general_envo_name'\n",
    "        \n",
    "    h = df[['amp', level]].drop_duplicates()\n",
    "    h = h.amp.value_counts()\n",
    "    h = h[h > 1].index\n",
    "    \n",
    "    return h"
   ]
  },
  {
   "cell_type": "code",
   "execution_count": 6,
   "id": "316b8f88",
   "metadata": {},
   "outputs": [
    {
     "name": "stdout",
     "output_type": "stream",
     "text": [
      "Multi-habitat AMPs: 173955\n",
      "Multi-high-level-habitat: 93280\n"
     ]
    }
   ],
   "source": [
    "l = get_multihabitat(data, 'high')\n",
    "l0 = get_multihabitat(data, 'low')\n",
    "print(f'Multi-habitat AMPs: {len(l0)}\\nMulti-high-level-habitat: {len(l)}')"
   ]
  },
  {
   "cell_type": "code",
   "execution_count": 7,
   "id": "a4dbf013",
   "metadata": {},
   "outputs": [],
   "source": [
    "k = data[['amp', 'high']].drop_duplicates()['amp'].value_counts()\n",
    "k = k[k>1].index\n",
    "\n",
    "with open('multihabitat_highlevel.txt', 'wt') as out:\n",
    "    for i in k: out.write(f'{i}\\n')\n",
    "\n",
    "k = data[['amp', 'general_envo_name']].drop_duplicates()['amp'].value_counts()\n",
    "k = k[k>1].index\n",
    "\n",
    "with open('multihabitat_generalenvo.txt', 'wt') as out:\n",
    "    for i in k: out.write(f'{i}\\n')"
   ]
  },
  {
   "cell_type": "markdown",
   "id": "7831cff3",
   "metadata": {},
   "source": [
    "### Permutation test\n",
    "\n",
    "We shuffle the high-level habitat annotation for the samples, and then, calculate the number of multi-habitat c_AMPs. This operation is repeated 100 times, and then we calculate the average and standard deviation of the distribution of random results. Using Shapiro-Wilk test, we check if the random distribution is normal, and if it is, we calculate the Z-score for the result obtained for AMPSphere. The Z-score is then converted into a p-value to support our conclusions."
   ]
  },
  {
   "cell_type": "code",
   "execution_count": 8,
   "id": "f914e625",
   "metadata": {},
   "outputs": [],
   "source": [
    "# testing significance\n",
    "def shuffle_test(df, level=None):\n",
    "    if level == None: level = 'high'\n",
    "    elif level == 'low': level = 'general_envo_name'\n",
    "        \n",
    "    habitat = df.set_index('sample')[level].to_dict()\n",
    "    \n",
    "    values = [v for _, v in habitat.items()]\n",
    "    random.shuffle(values)\n",
    "    \n",
    "    for k, v in zip(habitat, values):\n",
    "        habitat[k] = v\n",
    "        \n",
    "    altdf = df.copy()\n",
    "    altdf[level] = altdf['sample'].map(lambda x: habitat.get(x))\n",
    "    \n",
    "    return altdf"
   ]
  },
  {
   "cell_type": "code",
   "execution_count": 9,
   "id": "f119087c",
   "metadata": {},
   "outputs": [
    {
     "name": "stderr",
     "output_type": "stream",
     "text": [
      "100%|█████████████████████████████████████████| 100/100 [24:49<00:00, 14.90s/it]"
     ]
    },
    {
     "name": "stdout",
     "output_type": "stream",
     "text": [
      "[676499, 674359, 671791, 675954, 672110, 678459, 666194, 677173, 681451, 668163, 676543, 676404, 671474, 680156, 671258, 675615, 674566, 663149, 677396, 670835, 669737, 684001, 681781, 675558, 674138, 678656, 679422, 678795, 678456, 676070, 678397, 677408, 671222, 682134, 673758, 675463, 678823, 678107, 678368, 676448, 678596, 678717, 673127, 673508, 673042, 672716, 679893, 680610, 678004, 670864, 673128, 680270, 677619, 676338, 682716, 681902, 672168, 679255, 677654, 674282, 673671, 678805, 679388, 684151, 681639, 682485, 679829, 683357, 668880, 673273, 668500, 669705, 674121, 677341, 677975, 678486, 677395, 682010, 680005, 674129, 670167, 682404, 681194, 679373, 675932, 683006, 678519, 673109, 673000, 672372, 670497, 677189, 674095, 682130, 673589, 680277, 683166, 680153, 679954, 672998]\n"
     ]
    },
    {
     "name": "stderr",
     "output_type": "stream",
     "text": [
      "\n"
     ]
    }
   ],
   "source": [
    "#test high level habitats\n",
    "test = []\n",
    "for _ in tqdm(range(100)):\n",
    "    altdf = shuffle_test(data, 'high')\n",
    "    altdf = len(get_multihabitat(altdf, 'high'))\n",
    "    test.append(altdf)\n",
    "\n",
    "print(test)"
   ]
  },
  {
   "cell_type": "code",
   "execution_count": 10,
   "id": "ae400d56",
   "metadata": {},
   "outputs": [
    {
     "name": "stdout",
     "output_type": "stream",
     "text": [
      "The Shapiro-Wilks test returned a p = 0.07779254764318466\n",
      "This means that the distribution is normal\n",
      "Average number of random multi-habitat AMPs - 676489.69, with std = 4281.78946165035\n",
      "The number of multi-habitat AMPs in AMPSphere was 93280\n",
      "It was -136.20699831775724 * std of the random distribution\n",
      "This gives us a p-value of 0.0\n"
     ]
    }
   ],
   "source": [
    "_, p = shapiro(test)\n",
    "\n",
    "if p < 0.05: res = 'not-normal'\n",
    "else: res = 'normal'\n",
    "\n",
    "print(f'The Shapiro-Wilks test returned a p = {p}')\n",
    "print(f'This means that the distribution is {res}')\n",
    "\n",
    "avg, std = np.mean(test), np.std(test)\n",
    "\n",
    "print(f'Average number of random multi-habitat AMPs - {avg}, with std = {std}')\n",
    "\n",
    "Z = (len(l) - avg) / std\n",
    "\n",
    "pz = norm.sf(abs(Z))\n",
    "\n",
    "print(f'The number of multi-habitat AMPs in AMPSphere was {len(l)}')\n",
    "print(f'It was {Z} * std of the random distribution')\n",
    "print(f'This gives us a p-value of {pz}')"
   ]
  },
  {
   "cell_type": "code",
   "execution_count": 17,
   "id": "9793a8cc",
   "metadata": {},
   "outputs": [
    {
     "name": "stderr",
     "output_type": "stream",
     "text": [
      "100%|█████████████████████████████████████████| 100/100 [33:36<00:00, 20.17s/it]"
     ]
    },
    {
     "name": "stdout",
     "output_type": "stream",
     "text": [
      "[680721, 688236, 679559, 683629, 685726, 685943, 691053, 684848, 676976, 682659, 686377, 694536, 677249, 688504, 682197, 688182, 689975, 681738, 683273, 685580, 680806, 685663, 678305, 682005, 681553, 686502, 681663, 679341, 683992, 680794, 686928, 684681, 676158, 688298, 686537, 683496, 681364, 686519, 691960, 683040, 691137, 686302, 688414, 680230, 686522, 685561, 687949, 681958, 682350, 685254, 695749, 679555, 689155, 682772, 683380, 686392, 684415, 685559, 680185, 689560, 686277, 683090, 690766, 692583, 691754, 689310, 679803, 687318, 688867, 683431, 690797, 686723, 683623, 689810, 688709, 695854, 681363, 686459, 688499, 687855, 687084, 676710, 688208, 686753, 686153, 690184, 684196, 681704, 686332, 687330, 685333, 690687, 677227, 690631, 677255, 681722, 687192, 690237, 695529, 685394]\n"
     ]
    },
    {
     "name": "stderr",
     "output_type": "stream",
     "text": [
      "\n"
     ]
    }
   ],
   "source": [
    "#test habitats\n",
    "test_low = []\n",
    "for _ in tqdm(range(100)):\n",
    "    altdf = shuffle_test(data, 'low')\n",
    "    altdf = len(get_multihabitat(altdf, 'low'))\n",
    "    test_low.append(altdf)\n",
    "\n",
    "print(test_low)"
   ]
  },
  {
   "cell_type": "code",
   "execution_count": 18,
   "id": "a3930c83",
   "metadata": {},
   "outputs": [
    {
     "name": "stdout",
     "output_type": "stream",
     "text": [
      "The Shapiro-Wilks test returned a p = 0.4874470829963684\n",
      "This means that the distribution is normal\n",
      "Average number of random multi-habitat AMPs - 685477.17, with std = 4369.610044511981\n",
      "The number of multi-habitat AMPs in AMPSphere was 173955\n",
      "It was -117.06357427534 * std of the random distribution\n",
      "This gives us a p-value of 0.0\n"
     ]
    }
   ],
   "source": [
    "_, p = shapiro(test_low)\n",
    "\n",
    "if p < 0.05: res = 'not-normal'\n",
    "else: res = 'normal'\n",
    "\n",
    "print(f'The Shapiro-Wilks test returned a p = {p}')\n",
    "print(f'This means that the distribution is {res}')\n",
    "\n",
    "avg, std = np.mean(test_low), np.std(test_low)\n",
    "\n",
    "print(f'Average number of random multi-habitat AMPs - {avg}, with std = {std}')\n",
    "\n",
    "Z = (len(l0) - avg) / std\n",
    "\n",
    "pz = norm.sf(abs(Z))\n",
    "\n",
    "print(f'The number of multi-habitat AMPs in AMPSphere was {len(l0)}')\n",
    "print(f'It was {Z} * std of the random distribution')\n",
    "print(f'This gives us a p-value of {pz}')"
   ]
  }
 ],
 "metadata": {
  "kernelspec": {
   "display_name": "Python 3 (ipykernel)",
   "language": "python",
   "name": "python3"
  },
  "language_info": {
   "codemirror_mode": {
    "name": "ipython",
    "version": 3
   },
   "file_extension": ".py",
   "mimetype": "text/x-python",
   "name": "python",
   "nbconvert_exporter": "python",
   "pygments_lexer": "ipython3",
   "version": "3.9.0"
  }
 },
 "nbformat": 4,
 "nbformat_minor": 5
}
