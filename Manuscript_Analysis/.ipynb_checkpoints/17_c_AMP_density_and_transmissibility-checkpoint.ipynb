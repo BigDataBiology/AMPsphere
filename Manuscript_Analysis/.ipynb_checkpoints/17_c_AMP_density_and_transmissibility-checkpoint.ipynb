{
 "cells": [
  {
   "cell_type": "markdown",
   "id": "c07825f5",
   "metadata": {},
   "source": [
    "## Correlation between AMP density per species versus their transmissibility measured as SGB coefficients\n",
    "\n",
    "We separated the species by their occurrences in human oral and gut habitats and then calculated their AMP densities using the total number of c_AMP genes per species and their accumulated assembled length. The density was then normalized to genes per assembled Mbp and were crossed by using the binomial nomenclature against the species previously reported by Valles-Colomer et al. (2023) that had their transmissibility measured using the SGB coefficient."
   ]
  },
  {
   "cell_type": "code",
   "execution_count": 1,
   "id": "5e5de82c",
   "metadata": {},
   "outputs": [],
   "source": [
    "import pandas as pd\n",
    "import seaborn as sns\n",
    "import matplotlib.pyplot as plt\n",
    "from scipy.stats import spearmanr\n",
    "from statsmodels.stats.multitest import multipletests"
   ]
  },
  {
   "cell_type": "markdown",
   "id": "445f5d8e",
   "metadata": {},
   "source": [
    "We fixed the columns to be correlated against the AMP density from the Valles-Colomer et al. (2023) study."
   ]
  },
  {
   "cell_type": "code",
   "execution_count": 2,
   "id": "b430968f",
   "metadata": {},
   "outputs": [],
   "source": [
    "# getting the columns to correlate in the final test\n",
    "cols = ['SGB_mother-offspring_transmissibility_until1y',\n",
    "        'SGB_mother-offspring_transmissibility_until3y',\n",
    "        'SGB_mother-offspring_transmissibility_until18y',\n",
    "        'SGB_household_transmissibility',\n",
    "        'SGB_intradataset_transmissibility', \n",
    "        'SGB_mother-infant_transmissibility']"
   ]
  },
  {
   "cell_type": "markdown",
   "id": "87887d2a",
   "metadata": {},
   "source": [
    "Then, we set some functions to obtain the genes related to microbial species, as well as filter them by environment and correlate them against the transmissibility data from Valles-Colomer and colleagues."
   ]
  },
  {
   "cell_type": "code",
   "execution_count": 3,
   "id": "e65c277e",
   "metadata": {},
   "outputs": [],
   "source": [
    "def convdict(x: str):\n",
    "    '''\n",
    "    convdict is a function to convert a taxonomy lineage\n",
    "    string into a dictionary returning the corresponding\n",
    "    species or a None\n",
    "    \n",
    "    input:\n",
    "    \n",
    "    taxonomy lineage string with fields separated by | \n",
    "    with the different taxonomy levels separated by __\n",
    "    \n",
    "    output:\n",
    "    \n",
    "    string corresponding to the species or None in case\n",
    "    it is not available\n",
    "    ''' \n",
    "    f = dict()\n",
    "    x = x.split('|')\n",
    "    for j in x:\n",
    "        j = j.split('__')\n",
    "        f[j[0]] = j[1]\n",
    "    return f.get('s', None)\n",
    "\n",
    "\n",
    "def corrs(df, output:str):\n",
    "    '''\n",
    "    corrs - Calculates and plot the correlations between \n",
    "    species density of AMPs and their transmissibility\n",
    "    \n",
    "    input:\n",
    "        df = dataframe of pandas containing different columns\n",
    "        with transmissibility measures and one called density\n",
    "        containing number of AMP genes per assembled base pairs\n",
    "        also needs to contain a column named species, which is\n",
    "        used as reference in correlation\n",
    "        \n",
    "        output = string used to save the data\n",
    "    \n",
    "    output:\n",
    "        corrs = dataframe object with correlation measures\n",
    "    '''\n",
    "    corrs = []   \n",
    "    for j in cols:\n",
    "        if j in df.columns:\n",
    "            r, p = spearmanr(df['density'],\n",
    "                             df[j],\n",
    "                             nan_policy='omit')\n",
    "            L = len(df[j].dropna())\n",
    "            corrs.append((j, r, p, L))\n",
    "    corrs = pd.DataFrame(corrs,\n",
    "                         columns=['Transmissibility', 'SpearmanR',\n",
    "                                  'p-value', 'N'])\n",
    "    for j in cols:\n",
    "        if j in df.columns:\n",
    "            x = df[['density', j]].dropna()\n",
    "            x = x['density']\n",
    "            y = df[j].dropna()\n",
    "            sns.scatterplot(x=x, y=y)\n",
    "            plt.xscale('log')\n",
    "            plt.xlabel(\"AMP density per Mbp\")\n",
    "            plt.yscale('log')\n",
    "            plt.ylabel(\"Transmissibility\")\n",
    "            plt.tight_layout()\n",
    "            plt.savefig(f'{output}_{j}.svg')\n",
    "            plt.close()\n",
    "    df.to_csv(f'results_table_{output}.tsv',\n",
    "              sep='\\t',\n",
    "              header=True,\n",
    "              index=True)           \n",
    "    corrs.to_csv(f'results_corr_{output}.tsv',\n",
    "                 sep='\\t',\n",
    "                 header=True,\n",
    "                 index=None)\n",
    "    return corrs         "
   ]
  },
  {
   "cell_type": "markdown",
   "id": "bb34aae1",
   "metadata": {},
   "source": [
    "First, by analyzing the human gut data:"
   ]
  },
  {
   "cell_type": "code",
   "execution_count": 4,
   "id": "4d2d3a4f",
   "metadata": {},
   "outputs": [],
   "source": [
    "# getting species AMP density from guts\n",
    "dens = pd.read_table('../data_folder/species_amp_density_per_sample.tsv.gz')\n",
    "dens = dens[dens.general_envo_name.str.contains('human gut')]  # filter only human-associated envo\n",
    "dens = dens.groupby('name').apply(lambda x: x[['amp_genes', 'nbps']].sum(axis=0))  # sum values for the same species\n",
    "dens['density'] = 1_000_000 * dens.amp_genes / dens.nbps  # generates density per Mbp\n",
    "dens = dens.reset_index(drop=False)\n",
    "dens.rename({'name': 'species'}, axis=1, inplace=True)  # fix column name to merging it later\n",
    "\n",
    "# getting species from the paper\n",
    "#s4 - description of taxonomy for stool species\n",
    "s4 = pd.read_excel('../data_folder/41586_2022_5620_MOESM3_ESM.xlsx',\n",
    "                   sheet_name='Table S4')\n",
    "\n",
    "s4['species'] = s4.Taxonomy.apply(lambda x: convdict(x))\n",
    "\n",
    "s4 = s4[['SGB', 'species']]\n",
    "s4 = s4[s4.species != None]\n",
    "\n",
    "s4.species = s4.species.apply(lambda x: ' '.join(x.split('_')[0:2]))\n",
    "\n",
    "# getting transmissibility measures for gut samples\n",
    "s9 = pd.read_excel('../data_folder/41586_2022_5620_MOESM3_ESM.xlsx', sheet_name='Table S9')\n",
    "\n",
    "s4 = s4.merge(on='SGB', right=s9)\n",
    "s4 = s4.merge(on='species', right=dens)\n",
    "\n",
    "df1 = corrs(s4, 'gut_only_gut')\n",
    "df1['habitat'] = 'gut_vs_gut'"
   ]
  },
  {
   "cell_type": "markdown",
   "id": "29a812a0",
   "metadata": {},
   "source": [
    "Then, analyzing the human oral species:"
   ]
  },
  {
   "cell_type": "code",
   "execution_count": 5,
   "id": "975c3fba",
   "metadata": {},
   "outputs": [],
   "source": [
    "# getting species AMP density\n",
    "dens = pd.read_table('../data_folder/species_amp_density_per_sample.tsv.gz')\n",
    "dens = dens[dens.general_envo_name.str.contains('human mouth')]  # filter only human-associated envo\n",
    "dens = dens.groupby('name').apply(lambda x: x[['amp_genes', 'nbps']].sum(axis=0))  # sum values for the same species\n",
    "dens['density'] = 1_000_000 * dens.amp_genes / dens.nbps  # generates density per Mbp\n",
    "dens = dens.reset_index(drop=False)\n",
    "dens.rename({'name': 'species'}, axis=1, inplace=True)  # fix column name to merging it later\n",
    "\n",
    "#s5 - description of taxonomy for saliva species\n",
    "s5 = pd.read_excel('../data_folder/41586_2022_5620_MOESM3_ESM.xlsx',\n",
    "                   sheet_name='Table S5')\n",
    "\n",
    "s5['species'] = s5.Taxonomy.apply(lambda x: convdict(x))\n",
    "\n",
    "s5 = s5[['SGB', 'species']]\n",
    "s5 = s5[s5.species != None]\n",
    "\n",
    "s5.species = s5.species.apply(lambda x: ' '.join(x.split('_')[0:2]))\n",
    "\n",
    "# getting transmissibility measures for oral samples\n",
    "s30 = pd.read_excel('../data_folder/41586_2022_5620_MOESM3_ESM.xlsx',\n",
    "                    sheet_name='Table S30')\n",
    "\n",
    "s5 = s5.merge(on='SGB', right=s30)\n",
    "s5 = s5.merge(on='species', right=dens)\n",
    "\n",
    "df2 = corrs(s5, 'oral_only_mouth')\n",
    "df2['habitat'] = 'oral_vs_oral'"
   ]
  },
  {
   "cell_type": "markdown",
   "id": "bf89e24c",
   "metadata": {},
   "source": [
    "Finally, we add the two results to a final dataframe structure and correct their p-values using Holm-Sidak method. The corrected data is then saved."
   ]
  },
  {
   "cell_type": "code",
   "execution_count": 6,
   "id": "4b328c94",
   "metadata": {},
   "outputs": [
    {
     "name": "stdout",
     "output_type": "stream",
     "text": [
      "                                 Transmissibility  SpearmanR   p-value    N  \\\n",
      "0                  SGB_household_transmissibility  -0.170880  0.092507   98   \n",
      "1               SGB_intradataset_transmissibility  -0.063930  0.499199  114   \n",
      "2              SGB_mother-infant_transmissibility  -0.441523  0.002396   45   \n",
      "0   SGB_mother-offspring_transmissibility_until1y  -0.535340  0.000151   45   \n",
      "1   SGB_mother-offspring_transmissibility_until3y  -0.384097  0.000564   77   \n",
      "2  SGB_mother-offspring_transmissibility_until18y  -0.353199  0.000595   91   \n",
      "3                  SGB_household_transmissibility  -0.332952  0.001261   91   \n",
      "4               SGB_intradataset_transmissibility   0.141249  0.181709   91   \n",
      "\n",
      "        habitat     P_adj  \n",
      "0    gut_vs_gut  0.252640  \n",
      "1    gut_vs_gut  0.499199  \n",
      "2    gut_vs_gut  0.009549  \n",
      "0  oral_vs_oral  0.001209  \n",
      "1  oral_vs_oral  0.003938  \n",
      "2  oral_vs_oral  0.003938  \n",
      "3  oral_vs_oral  0.006287  \n",
      "4  oral_vs_oral  0.330400  \n"
     ]
    }
   ],
   "source": [
    "df = pd.concat([df1, df2])\n",
    "\n",
    "_, df['P_adj'], _, _ = multipletests(df['p-value'])\n",
    "\n",
    "df.to_csv('summary_results_separated_niche.tsv',\n",
    "         sep='\\t',\n",
    "         header=True,\n",
    "         index=None)\n",
    "\n",
    "print(df)"
   ]
  }
 ],
 "metadata": {
  "kernelspec": {
   "display_name": "Python 3 (ipykernel)",
   "language": "python",
   "name": "python3"
  },
  "language_info": {
   "codemirror_mode": {
    "name": "ipython",
    "version": 3
   },
   "file_extension": ".py",
   "mimetype": "text/x-python",
   "name": "python",
   "nbconvert_exporter": "python",
   "pygments_lexer": "ipython3",
   "version": "3.9.0"
  }
 },
 "nbformat": 4,
 "nbformat_minor": 5
}
