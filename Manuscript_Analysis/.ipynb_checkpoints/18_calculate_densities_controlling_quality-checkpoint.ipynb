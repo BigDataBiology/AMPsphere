{
 "cells": [
  {
   "cell_type": "markdown",
   "id": "8568898d",
   "metadata": {},
   "source": [
    "# AMPSphere v.2022-03\n",
    "\n",
    "This is a notebook meant to form the set of notebooks used to analyze the data in AMPSphere and write the manuscript:\n",
    "\n",
    "__AMPSphere: Global survey of prokaryotic antimicrobial peptides shaping microbiomes__\n",
    "\n",
    "### Check the c_AMP density of species through different environments\n",
    "\n",
    "We generate sets of c_AMPs by species and sample. Then group them by environment and select those species happening in at least 2 habitats with at least 10 samples in each. The number of non-redundant c_AMPs attributed to a given species per sample in each sample is compared using Mann-Whitney U test and later the p-values are adjusted using Holm-Sidak."
   ]
  },
  {
   "cell_type": "code",
   "execution_count": 1,
   "id": "8fb71654",
   "metadata": {},
   "outputs": [],
   "source": [
    "import numpy as np\n",
    "import pandas as pd\n",
    "import seaborn as sns\n",
    "import matplotlib.pyplot as plt\n",
    "\n",
    "from itertools import combinations, chain\n",
    "from scipy.stats import spearmanr, mannwhitneyu\n",
    "from statsmodels.stats.multitest import multipletests as mt"
   ]
  },
  {
   "cell_type": "code",
   "execution_count": 2,
   "id": "d5707b3e",
   "metadata": {},
   "outputs": [],
   "source": [
    "# load data\n",
    "data = pd.read_table('../data_folder/complete_amps_associated_taxonomy.tsv.gz')\n",
    "\n",
    "metadata = pd.read_table(\"../data_folder/metadata.tsv.xz\")\n",
    "metadata = metadata.rename({'sample_accession': 'sample'}, axis=1)\n",
    "\n",
    "quality = pd.read_table('../data_folder/quality_assessment.tsv.xz')"
   ]
  },
  {
   "cell_type": "code",
   "execution_count": 3,
   "id": "2962097c",
   "metadata": {},
   "outputs": [],
   "source": [
    "# preparing data\n",
    "quality.set_index('AMP', inplace=True)\n",
    "quality = quality == 'Passed'\n",
    "quality['exp'] = quality.metaproteomes + quality.metatranscriptomes\n",
    "quality['exp'] = [False if x == 0 else True for x in quality.exp]\n",
    "quality.drop(['metaproteomes', 'metatranscriptomes'], axis=1, inplace=True)\n",
    "quality = quality[quality.sum(axis=1) == 4]\n",
    "quality = list(quality.index)"
   ]
  },
  {
   "cell_type": "code",
   "execution_count": 4,
   "id": "03b47dbd",
   "metadata": {},
   "outputs": [],
   "source": [
    "# filter species-specific genes\n",
    "data = data[data.amp.isin(quality)]\n",
    "data = data.loc[data.level == 'species', ['sample', 'source']]\n",
    "data = data.groupby(['sample', 'source']).agg('size')\n",
    "data = data.reset_index()\n",
    "data = data.rename({'source': 'name',\n",
    "                    0: 'amp_genes'}, axis=1)"
   ]
  },
  {
   "cell_type": "code",
   "execution_count": 5,
   "id": "173962e7",
   "metadata": {},
   "outputs": [],
   "source": [
    "genenvo = pd.read_table('../data_folder/general_envo_names.tsv.xz')\n",
    "\n",
    "metadata = metadata.merge(on=['microontology', 'host_scientific_name', 'host_tax_id'],\n",
    "                          right=genenvo,\n",
    "                          how='outer')\n",
    "\n",
    "metadata = metadata[['sample', 'general_envo_name']]"
   ]
  },
  {
   "cell_type": "code",
   "execution_count": 6,
   "id": "ee6d94fc",
   "metadata": {},
   "outputs": [],
   "source": [
    "# calculate densities\n",
    "sps = pd.read_table('../data_folder/bps-per-sample-per-species.tsv.xz',\n",
    "                    sep='\\t',\n",
    "                    header='infer')\n",
    "\n",
    "data = data.merge(on=['sample', 'name'], right=sps)\n",
    "\n",
    "data['amp_density'] = data['amp_genes'] * 1e6 / data['nbps']\n",
    "\n",
    "# add metadata\n",
    "data = data.merge(on='sample', right=metadata)\n",
    "data.general_envo_name = data.general_envo_name.replace('human saliva', 'human mouth')"
   ]
  },
  {
   "cell_type": "code",
   "execution_count": 7,
   "id": "7e7b5a18",
   "metadata": {},
   "outputs": [],
   "source": [
    "def tukeyfence(df):\n",
    "    itdf = pd.DataFrame()\n",
    "    for record in df.groupby(['name', 'general_envo_name']):\n",
    "        record = record[1]\n",
    "        if len(record) > 9:\n",
    "            q1, q3 = record['amp_density'].quantile([0.25,0.75])\n",
    "            iqr = q3-q1\n",
    "            ul, ll = q3+(1.5*iqr), q1-(1.5*iqr)\n",
    "            record = record[(record.amp_density <= ul) & (record.amp_density >= ll)]\n",
    "            itdf = pd.concat([itdf, record])\n",
    "    return itdf"
   ]
  },
  {
   "cell_type": "code",
   "execution_count": null,
   "id": "7663382d",
   "metadata": {},
   "outputs": [],
   "source": [
    "# remove outliers\n",
    "df = tukeyfence(data)\n",
    "df['p'] = df.amp_density / 1e6\n",
    "df['moe'] = np.sqrt(df.p*(1-df.p)/df.nbps) * 1.96 * 1e6\n",
    "df.drop('p', axis=1, inplace=True)\n",
    "df['moe_pct'] = df.moe * 100 / df.amp_density\n",
    "df.to_csv('species_amp_density_per_sample.tsv.gz',\n",
    "          sep='\\t',\n",
    "          header=True,\n",
    "          index=None)\n",
    "df"
   ]
  },
  {
   "cell_type": "code",
   "execution_count": null,
   "id": "1653ed08",
   "metadata": {},
   "outputs": [],
   "source": [
    "# select species present in >=10 samples per habitats\n",
    "k = df.groupby(['name', 'general_envo_name']).agg('size')\n",
    "k = k[k >= 10]\n",
    "\n",
    "# select species present in more than 1 habitat\n",
    "k = k.reset_index().groupby('name').apply(lambda x: x.general_envo_name.tolist())\n",
    "k = k[k.apply(lambda x: len(x)) > 1]\n",
    "k = k.reset_index()"
   ]
  },
  {
   "cell_type": "markdown",
   "id": "30ccefdf",
   "metadata": {},
   "source": [
    "### Supplementary Table S8"
   ]
  },
  {
   "cell_type": "code",
   "execution_count": null,
   "id": "2f719233",
   "metadata": {},
   "outputs": [],
   "source": [
    "# test difference in the amp_densitys among samples of\n",
    "# the same species through different environments\n",
    "test = []\n",
    "for _, s, env in k.itertuples():\n",
    "    combs = combinations(env, 2)\n",
    "    for i, j in combs:\n",
    "        n1 = df[(df.name == s) & (df.general_envo_name == i)]\n",
    "        n2 = df[(df.name == s) & (df.general_envo_name == j)]\n",
    "        u, p = mannwhitneyu(n1['amp_density'], n2['amp_density'])\n",
    "        test.append((s, i, len(n1),\n",
    "                     n1.amp_density.mean(), n1.amp_density.std(),\n",
    "                     j, len(n2), n2.amp_density.mean(),\n",
    "                     n2.amp_density.std(), p))\n",
    "\n",
    "# format results\n",
    "test = pd.DataFrame(test, columns=['species',\n",
    "                                   'env1',\n",
    "                                   'env1_samples',\n",
    "                                   'amp_density_avg_e1',\n",
    "                                   'amp_density_std_e1',\n",
    "                                   'env2',\n",
    "                                   'env2_samples',\n",
    "                                   'amp_density_avg_e2',\n",
    "                                   'amp_density_std_e2',\n",
    "                                   'p_value'])\n",
    "\n",
    "test\n",
    "\n",
    "# adjust p-values\n",
    "_, test['p_adj'], _, _ = mt(test['p_value'], method='hs')\n",
    "\n",
    "# export\n",
    "test.to_csv('species_amp_density_crossenvironment.tsv.gz', sep='\\t', header=True, index=None)\n",
    "test"
   ]
  },
  {
   "cell_type": "code",
   "execution_count": null,
   "id": "7e5281a4",
   "metadata": {},
   "outputs": [],
   "source": [
    "### Generating statistics\n",
    "\n",
    "# select environments with at least 100 samples containing AMPs\n",
    "k = data[['sample', 'general_envo_name']].drop_duplicates()\n",
    "k = k.general_envo_name.value_counts()\n",
    "k = k[k>=100].index\n",
    "\n",
    "# select pairs containing both environments in the list\n",
    "x = test[(test.env1.isin(k)) & (test.env2.isin(k))]\n",
    "\n",
    "n1 = len(set(x.species))\n",
    "print(f'It was tested {n1} species')\n",
    "\n",
    "n2 = len(set(x.loc[test.p_adj < 0.05, 'species']))\n",
    "print(f'''Only {round((n2*100/n1), 2)}% ({n2}) of them\n",
    "presented significant differences in their AMP density\n",
    "across different environments''')\n",
    "\n",
    "savg = (x.amp_density_avg_e1.sum() + x.amp_density_avg_e2.sum()) / (2*len(x))\n",
    "\n",
    "mmax, mmin = [max(x.amp_density_avg_e1.max(), x.amp_density_avg_e2.max()),\n",
    "              min(x.amp_density_avg_e1.min(), x.amp_density_avg_e2.min())]\n",
    "\n",
    "print(f'''In average, it was observed {savg:.2} c_AMP genes per assembled Mbp for each species\n",
    "per sample, ranging between {mmax:.4}-{mmin:.2}.''')"
   ]
  }
 ],
 "metadata": {
  "kernelspec": {
   "display_name": "Python 3 (ipykernel)",
   "language": "python",
   "name": "python3"
  },
  "language_info": {
   "codemirror_mode": {
    "name": "ipython",
    "version": 3
   },
   "file_extension": ".py",
   "mimetype": "text/x-python",
   "name": "python",
   "nbconvert_exporter": "python",
   "pygments_lexer": "ipython3",
   "version": "3.9.0"
  }
 },
 "nbformat": 4,
 "nbformat_minor": 5
}
