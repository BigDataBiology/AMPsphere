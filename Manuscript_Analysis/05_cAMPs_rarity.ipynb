{
 "cells": [
  {
   "cell_type": "markdown",
   "id": "ac0de1c4",
   "metadata": {},
   "source": [
    "# AMPSphere v.2022-03\n",
    "\n",
    "This is a notebook meant to form the set of notebooks used to analyze the data in AMPSphere and write the manuscript:\n",
    "\n",
    "__AMPSphere: Global survey of prokaryotic antimicrobial peptides shaping microbiomes__\n",
    "\n",
    "\n",
    "## Infinite genes model - Rarity\n",
    "\n",
    "Here we will show how rare the c_AMPs from different environments was computed."
   ]
  },
  {
   "cell_type": "code",
   "execution_count": 1,
   "id": "63e8c12c",
   "metadata": {},
   "outputs": [],
   "source": [
    "import pickle\n",
    "import pandas as pd\n",
    "import seaborn as sns\n",
    "import matplotlib.pyplot as plt\n",
    "from collections import Counter\n",
    "from scipy.stats import pearsonr"
   ]
  },
  {
   "cell_type": "code",
   "execution_count": 2,
   "id": "303755ce",
   "metadata": {},
   "outputs": [],
   "source": [
    "color_map = {'human gut' : (0.8509803921568627, 0.37254901960784315, 0.00784313725490196, 0.5),\n",
    "             'soil/plant' : (0.10588235294117647, 0.6196078431372549, 0.4666666666666667, 0.5),\n",
    "             'aquatic' : (0.4588235294117647, 0.4392156862745098, 0.7019607843137254, 0.5),\n",
    "             'anthropogenic' : (0.9058823529411765, 0.1607843137254902, 0.5411764705882353, 0.5),\n",
    "             'other human' : (0.4, 0.6509803921568628, 0.11764705882352941, 0.5),\n",
    "             'mammal gut' : (0.9019607843137255, 0.6705882352941176, 0.00784313725490196, 0.5),\n",
    "             'other animal' : (0.6509803921568628, 0.4627450980392157, 0.11372549019607843, 0.5),\n",
    "             'other' : (0.4, 0.4, 0.4, 0.5)}"
   ]
  },
  {
   "cell_type": "code",
   "execution_count": 3,
   "id": "dfbb29a3",
   "metadata": {},
   "outputs": [],
   "source": [
    "def metadata():\n",
    "    '''\n",
    "    Import metadata\n",
    "    Outputs:\n",
    "    1 = dictionary with keys as samples and values as the general environments\n",
    "    2 = dictionary with keys as samples and values as the high-level environments\n",
    "    '''\n",
    "    with open('../data_folder/envo.pkl', 'rb') as handle:\n",
    "        envo = pickle.load(handle)\n",
    "    return (envo['general_envo_name'], envo['high'])    "
   ]
  },
  {
   "cell_type": "code",
   "execution_count": 4,
   "id": "7d62c345",
   "metadata": {},
   "outputs": [],
   "source": [
    "def calc_rare(infile):\n",
    "    print('# counting nsamples')\n",
    "    df = pd.read_table(infile)\n",
    "    m = df['nsamples'].mean()\n",
    "    n = sum(df['nsamples'] < m)\n",
    "    q50 = df['nsamples'].median()\n",
    "    print(f'It was observed that the median number of samples in which a AMP is detected is {q50}')\n",
    "    print(f'It was observed that the mean number of samples in which a AMP is detected is {m}')\n",
    "    print(f'It was observed that {n} AMPs were detected less than or equal to the mean number of detections across all AMPSphere candidates')\n",
    "    print(f'It represents {n*100/len(df):.2f}% of all AMPs')"
   ]
  },
  {
   "cell_type": "code",
   "execution_count": 5,
   "id": "1d92f014",
   "metadata": {},
   "outputs": [],
   "source": [
    "def plot_test_rare(infile, envdict, ofile):\n",
    "    cutoffs = [0.01, 0.1, 1, 10] \n",
    "    envdict['total'] = sum(envdict.values())\n",
    "    df = pd.read_table(infile, sep='\\t', header='infer')\n",
    "    df = df.set_index('AMP')\n",
    "    df['total'] = df.sum(axis=1)\n",
    "    headers = ['Habitat',\n",
    "               'Pearson_R',\n",
    "               'P-value',\n",
    "               'N samples',\n",
    "               'Total AMPs detected',\n",
    "               '0.01%_samples',\n",
    "               '0.1%_samples',\n",
    "               '1%_samples',\n",
    "               '10%_samples']\n",
    "    with open(f'{ofile}.tsv', 'w') as handle:\n",
    "        handle.write('\\t'.join(headers)+'\\n')\n",
    "        for col in df.columns:\n",
    "            if envdict[col] >= 100:\n",
    "                ncs = [int(envdict[col]*c/100) for c in cutoffs]\n",
    "                totamps = len(df[df[col] > 0])\n",
    "                a = df.loc[df[col] > 0, col].value_counts()\n",
    "                a = a.sort_index()\n",
    "                a = a.reset_index()\n",
    "                a.columns = ['samples', 'amps']\n",
    "                a['1/k'] = 1/a['samples']\n",
    "                r, p = pearsonr(a.amps, a['1/k'])\n",
    "                n = []\n",
    "                for c in ncs:\n",
    "                    i = a.loc[a['samples'] <= c, 'amps'].sum()\n",
    "                    n.append(i)\n",
    "                n = [str(x) for x in n]\n",
    "                vals = [col, f'{r:.3f}', f'{p:.2E}',\n",
    "                        str(envdict[col]),\n",
    "                        str(totamps),\n",
    "                        n[0], n[1], n[2], n[3]]\n",
    "                handle.write('\\t'.join(vals)+'\\n')\n",
    "                if col in color_map:\n",
    "                    sns.scatterplot(y=a['amps'],\n",
    "                                    x=a['samples'],\n",
    "                                    label=col,\n",
    "                                    alpha=0.25,\n",
    "                                    color=color_map.get(col),\n",
    "                                    s=3)    \n",
    "                else:\n",
    "                    sns.scatterplot(y=a['amps'],\n",
    "                                    x=a['samples'],\n",
    "                                    label=col,\n",
    "                                    alpha=0.25,\n",
    "                                    s=3)    \n",
    "        plt.yscale('log')\n",
    "        plt.xscale('log')\n",
    "        plt.xlabel('Detections\\n(Number of samples)')\n",
    "        plt.ylabel('c_AMPs')\n",
    "        plt.tight_layout()\n",
    "        plt.savefig(f'{ofile}.svg')\n",
    "        plt.close()\n",
    "        _ = envdict.pop('total')"
   ]
  },
  {
   "cell_type": "code",
   "execution_count": 6,
   "id": "352537e1",
   "metadata": {},
   "outputs": [],
   "source": [
    "h, hi = metadata()\n",
    "h = dict(Counter(h.values()))\n",
    "hi = dict(Counter(hi.values()))    "
   ]
  },
  {
   "cell_type": "code",
   "execution_count": 7,
   "id": "c2a08078",
   "metadata": {},
   "outputs": [
    {
     "name": "stdout",
     "output_type": "stream",
     "text": [
      "# counting nsamples\n",
      "It was observed that the median number of samples in which a AMP is detected is 99.0\n",
      "It was observed that the mean number of samples in which a AMP is detected is 681.84019302882\n",
      "It was observed that 725093 AMPs were detected less than or equal to the mean number of detections across all AMPSphere candidates\n",
      "It represents 83.97% of all AMPs\n"
     ]
    }
   ],
   "source": [
    "calc_rare('../data_folder/unique_map_cAMPs_nsamples.tsv.xz')"
   ]
  },
  {
   "cell_type": "code",
   "execution_count": 8,
   "id": "43d08fc5",
   "metadata": {},
   "outputs": [],
   "source": [
    "plot_test_rare('../data_folder/unique_map_cAMPs_high_habs.tsv.xz',\n",
    "               hi,\n",
    "               'output_hi')"
   ]
  },
  {
   "cell_type": "code",
   "execution_count": 9,
   "id": "1604be02",
   "metadata": {},
   "outputs": [],
   "source": [
    "plot_test_rare('../data_folder/unique_map_cAMPs_general_habs.tsv.xz',\n",
    "               h,\n",
    "               'output_gen')"
   ]
  }
 ],
 "metadata": {
  "kernelspec": {
   "display_name": "Python 3 (ipykernel)",
   "language": "python",
   "name": "python3"
  },
  "language_info": {
   "codemirror_mode": {
    "name": "ipython",
    "version": 3
   },
   "file_extension": ".py",
   "mimetype": "text/x-python",
   "name": "python",
   "nbconvert_exporter": "python",
   "pygments_lexer": "ipython3",
   "version": "3.9.0"
  }
 },
 "nbformat": 4,
 "nbformat_minor": 5
}
