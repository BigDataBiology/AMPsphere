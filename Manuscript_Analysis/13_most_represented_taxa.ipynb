{
 "cells": [
  {
   "cell_type": "markdown",
   "id": "f8993385",
   "metadata": {},
   "source": [
    "# AMPSphere v.2022-03\n",
    "\n",
    "This is a notebook meant to form the set of notebooks used to analyze the data in AMPSphere and write the manuscript:\n",
    "\n",
    "__AMPSphere: Global survey of prokaryotic antimicrobial peptides shaping microbiomes__\n",
    "\n",
    "Figures generated in this script formed the panel shown in Figure 2B.\n",
    "\n",
    "### Taxonomy distribution of c_AMPs\n",
    "\n",
    "Here we show the microbial sources of c_AMPs and how they are distributed in the taxonomy levels."
   ]
  },
  {
   "cell_type": "code",
   "execution_count": 1,
   "id": "2053f1b4",
   "metadata": {},
   "outputs": [],
   "source": [
    "# load libraries\n",
    "import pandas as pd\n",
    "import matplotlib.pyplot as plt"
   ]
  },
  {
   "cell_type": "code",
   "execution_count": 2,
   "id": "64172a9c",
   "metadata": {},
   "outputs": [],
   "source": [
    "def selector(i: tuple):\n",
    "        '''\n",
    "        Classify the lowest taxonomical level associated to a given AMP\n",
    "        '''\n",
    "        if i[1]['level'].isin(['species']).sum() == 1: return ({i[0]}, 'species')\n",
    "        if i[1]['level'].isin(['genus']).sum() == 1: return (i[0], 'genus')\n",
    "        if i[1]['level'].isin(['family']).sum() == 1: return (i[0], 'family')\n",
    "        if i[1]['level'].isin(['order']).sum() == 1: return (i[0], 'order')\n",
    "        if i[1]['level'].isin(['class']).sum() == 1: return (i[0], 'class')\n",
    "        if i[1]['level'].isin(['phylum']).sum() == 1: return (i[0], 'phylum')\n",
    "        if i[1]['level'].isin(['superkingdom']).sum() == 1: return (i[0], 'superkingdom')"
   ]
  },
  {
   "cell_type": "code",
   "execution_count": 3,
   "id": "086657c5",
   "metadata": {},
   "outputs": [
    {
     "name": "stdout",
     "output_type": "stream",
     "text": [
      "# number of AMPs annotated at some level: 752648\n"
     ]
    }
   ],
   "source": [
    "# load data of metagenomic c_AMP genes\n",
    "data = pd.read_table('../data_folder/complete_amps_associated_taxonomy.tsv.gz', sep='\\t', header='infer')\n",
    "\n",
    "# filter dataframe and drop duplicates\n",
    "dd = data[['amp', 'level', 'source', 'specI']].drop_duplicates()\n",
    "\n",
    "# getting annotated AMPs\n",
    "annotated_amps = dd[~dd['level'].isna()]\n",
    "annotated_amps = annotated_amps['amp']\n",
    "annotated_amps = annotated_amps.drop_duplicates()\n",
    "\n",
    "print(f'# number of AMPs annotated at some level: {len(annotated_amps)}')"
   ]
  },
  {
   "cell_type": "code",
   "execution_count": 4,
   "id": "392a7cc9",
   "metadata": {},
   "outputs": [],
   "source": [
    "# filter AMPs not associated to any origin\n",
    "ds = (~dd['level'].isna()) & (dd['level'] != 'no rank')\n",
    "ds = dd[ds]\n",
    "ds = ds[['amp', 'level']]\n",
    "ds = ds.drop_duplicates()\n",
    "ds = ds.sort_values(by=['amp', 'level'])\n",
    "ds = ds.reset_index(drop=True)"
   ]
  },
  {
   "cell_type": "code",
   "execution_count": 5,
   "id": "85157032",
   "metadata": {},
   "outputs": [
    {
     "data": {
      "text/html": [
       "<div>\n",
       "<style scoped>\n",
       "    .dataframe tbody tr th:only-of-type {\n",
       "        vertical-align: middle;\n",
       "    }\n",
       "\n",
       "    .dataframe tbody tr th {\n",
       "        vertical-align: top;\n",
       "    }\n",
       "\n",
       "    .dataframe thead th {\n",
       "        text-align: right;\n",
       "    }\n",
       "</style>\n",
       "<table border=\"1\" class=\"dataframe\">\n",
       "  <thead>\n",
       "    <tr style=\"text-align: right;\">\n",
       "      <th></th>\n",
       "      <th>amp</th>\n",
       "      <th>taxonomy</th>\n",
       "    </tr>\n",
       "  </thead>\n",
       "  <tbody>\n",
       "    <tr>\n",
       "      <th>0</th>\n",
       "      <td>{AMP10.000_000}</td>\n",
       "      <td>species</td>\n",
       "    </tr>\n",
       "    <tr>\n",
       "      <th>1</th>\n",
       "      <td>{AMP10.000_001}</td>\n",
       "      <td>species</td>\n",
       "    </tr>\n",
       "    <tr>\n",
       "      <th>2</th>\n",
       "      <td>{AMP10.000_002}</td>\n",
       "      <td>species</td>\n",
       "    </tr>\n",
       "    <tr>\n",
       "      <th>3</th>\n",
       "      <td>{AMP10.000_003}</td>\n",
       "      <td>species</td>\n",
       "    </tr>\n",
       "    <tr>\n",
       "      <th>4</th>\n",
       "      <td>{AMP10.000_004}</td>\n",
       "      <td>species</td>\n",
       "    </tr>\n",
       "    <tr>\n",
       "      <th>...</th>\n",
       "      <td>...</td>\n",
       "      <td>...</td>\n",
       "    </tr>\n",
       "    <tr>\n",
       "      <th>737569</th>\n",
       "      <td>AMP10.863_483</td>\n",
       "      <td>superkingdom</td>\n",
       "    </tr>\n",
       "    <tr>\n",
       "      <th>737570</th>\n",
       "      <td>AMP10.863_488</td>\n",
       "      <td>superkingdom</td>\n",
       "    </tr>\n",
       "    <tr>\n",
       "      <th>737571</th>\n",
       "      <td>AMP10.863_493</td>\n",
       "      <td>superkingdom</td>\n",
       "    </tr>\n",
       "    <tr>\n",
       "      <th>737572</th>\n",
       "      <td>{AMP10.863_496}</td>\n",
       "      <td>species</td>\n",
       "    </tr>\n",
       "    <tr>\n",
       "      <th>737573</th>\n",
       "      <td>AMP10.863_497</td>\n",
       "      <td>order</td>\n",
       "    </tr>\n",
       "  </tbody>\n",
       "</table>\n",
       "<p>737574 rows × 2 columns</p>\n",
       "</div>"
      ],
      "text/plain": [
       "                    amp      taxonomy\n",
       "0       {AMP10.000_000}       species\n",
       "1       {AMP10.000_001}       species\n",
       "2       {AMP10.000_002}       species\n",
       "3       {AMP10.000_003}       species\n",
       "4       {AMP10.000_004}       species\n",
       "...                 ...           ...\n",
       "737569    AMP10.863_483  superkingdom\n",
       "737570    AMP10.863_488  superkingdom\n",
       "737571    AMP10.863_493  superkingdom\n",
       "737572  {AMP10.863_496}       species\n",
       "737573    AMP10.863_497         order\n",
       "\n",
       "[737574 rows x 2 columns]"
      ]
     },
     "execution_count": 5,
     "metadata": {},
     "output_type": "execute_result"
    }
   ],
   "source": [
    "# classify AMPs according lowest known levels   \n",
    "# and save results as a table\n",
    "newdf = []\n",
    "for i in ds.groupby('amp'):\n",
    "    newdf.append(selector(i))\n",
    "    \n",
    "newdf = pd.DataFrame(newdf, columns=['amp', 'taxonomy'])\n",
    "newdf"
   ]
  },
  {
   "cell_type": "code",
   "execution_count": 6,
   "id": "a8edd308",
   "metadata": {},
   "outputs": [
    {
     "data": {
      "text/plain": [
       "species         53.264744\n",
       "genus           12.767488\n",
       "family           7.104822\n",
       "superkingdom     5.628965\n",
       "class            3.056405\n",
       "order            2.221314\n",
       "phylum           1.373252\n",
       "none            14.583010\n",
       "Name: taxonomy, dtype: float64"
      ]
     },
     "execution_count": 6,
     "metadata": {},
     "output_type": "execute_result"
    }
   ],
   "source": [
    "# organizing taxonomy levels\n",
    "newdf = newdf['taxonomy'].value_counts()\n",
    "newdf.loc['none'] = 863_498 - newdf.sum()\n",
    "newdf = newdf * 100 / newdf.sum()\n",
    "newdf"
   ]
  },
  {
   "cell_type": "code",
   "execution_count": 7,
   "id": "f1f9f6e2",
   "metadata": {},
   "outputs": [
    {
     "data": {
      "text/plain": [
       "Text(38.097222222222214, 0.5, 'AMPSphere candidates - %')"
      ]
     },
     "execution_count": 7,
     "metadata": {},
     "output_type": "execute_result"
    },
    {
     "data": {
      "image/png": "[encoded data removed]",
      "text/plain": [
       "<Figure size 640x480 with 1 Axes>"
      ]
     },
     "metadata": {},
     "output_type": "display_data"
    }
   ],
   "source": [
    "# plot\n",
    "colsorder = ['none','superkingdom',\n",
    "             'phylum', 'class',\n",
    "             'order', 'family',\n",
    "             'genus', 'species']\n",
    "\n",
    "pivot = pd.pivot_table(data=newdf.reset_index(),\n",
    "                       columns='index',\n",
    "                       values='taxonomy')\n",
    "\n",
    "pivot = pivot[colsorder]\n",
    "\n",
    "pivot.plot.bar(stacked=True, cmap='Dark2')\n",
    "plt.tight_layout()\n",
    "plt.ylabel('AMPSphere candidates - %')"
   ]
  },
  {
   "cell_type": "code",
   "execution_count": 8,
   "id": "e08d725e",
   "metadata": {},
   "outputs": [],
   "source": [
    "# select AMPs assigned to genus or species\n",
    "ds = ds[ds.level.isin(['species', 'genus'])]\n",
    "ds = ds.groupby('level')['amp'].apply(lambda x: set(x))\n",
    "selected_group = ds.loc['genus'].union(ds.loc['species'])\n",
    "\n",
    "# convert dataframe of AMPs with annotated origins\n",
    "sp = data[(data['amp'].isin(selected_group)) & (data['level'].isin(['species', 'genus']))]\n",
    "sp = sp[['amp', 'taxid', 'level', 'source']]\n",
    "sp = sp.sort_values(by=['amp', 'taxid', 'source'])\n",
    "sp = sp.drop_duplicates()\n",
    "sp['fixed'] = [x.split(' ')[0] for x in sp.source.values]"
   ]
  },
  {
   "cell_type": "code",
   "execution_count": 9,
   "id": "b09bbb89",
   "metadata": {},
   "outputs": [
    {
     "data": {
      "text/html": [
       "<div>\n",
       "<style scoped>\n",
       "    .dataframe tbody tr th:only-of-type {\n",
       "        vertical-align: middle;\n",
       "    }\n",
       "\n",
       "    .dataframe tbody tr th {\n",
       "        vertical-align: top;\n",
       "    }\n",
       "\n",
       "    .dataframe thead th {\n",
       "        text-align: right;\n",
       "    }\n",
       "</style>\n",
       "<table border=\"1\" class=\"dataframe\">\n",
       "  <thead>\n",
       "    <tr style=\"text-align: right;\">\n",
       "      <th></th>\n",
       "      <th>amp</th>\n",
       "      <th>fixed</th>\n",
       "    </tr>\n",
       "  </thead>\n",
       "  <tbody>\n",
       "    <tr>\n",
       "      <th>2764</th>\n",
       "      <td>AMP10.000_000</td>\n",
       "      <td>Bacteroides</td>\n",
       "    </tr>\n",
       "    <tr>\n",
       "      <th>0</th>\n",
       "      <td>AMP10.000_000</td>\n",
       "      <td>Phocaeicola</td>\n",
       "    </tr>\n",
       "    <tr>\n",
       "      <th>9653</th>\n",
       "      <td>AMP10.000_000</td>\n",
       "      <td>Parabacteroides</td>\n",
       "    </tr>\n",
       "    <tr>\n",
       "      <th>2547</th>\n",
       "      <td>AMP10.000_000</td>\n",
       "      <td>Prevotella</td>\n",
       "    </tr>\n",
       "    <tr>\n",
       "      <th>3817</th>\n",
       "      <td>AMP10.000_000</td>\n",
       "      <td>Barnesiella</td>\n",
       "    </tr>\n",
       "    <tr>\n",
       "      <th>...</th>\n",
       "      <td>...</td>\n",
       "      <td>...</td>\n",
       "    </tr>\n",
       "    <tr>\n",
       "      <th>5427587</th>\n",
       "      <td>AMP10.863_461</td>\n",
       "      <td>Georhizobium</td>\n",
       "    </tr>\n",
       "    <tr>\n",
       "      <th>5427588</th>\n",
       "      <td>AMP10.863_462</td>\n",
       "      <td>Porticoccus</td>\n",
       "    </tr>\n",
       "    <tr>\n",
       "      <th>5427591</th>\n",
       "      <td>AMP10.863_465</td>\n",
       "      <td>MGIIa-L1</td>\n",
       "    </tr>\n",
       "    <tr>\n",
       "      <th>5427596</th>\n",
       "      <td>AMP10.863_470</td>\n",
       "      <td>MGIIa-L1</td>\n",
       "    </tr>\n",
       "    <tr>\n",
       "      <th>5427622</th>\n",
       "      <td>AMP10.863_496</td>\n",
       "      <td>MGIIa-I</td>\n",
       "    </tr>\n",
       "  </tbody>\n",
       "</table>\n",
       "<p>647450 rows × 2 columns</p>\n",
       "</div>"
      ],
      "text/plain": [
       "                   amp            fixed\n",
       "2764     AMP10.000_000      Bacteroides\n",
       "0        AMP10.000_000      Phocaeicola\n",
       "9653     AMP10.000_000  Parabacteroides\n",
       "2547     AMP10.000_000       Prevotella\n",
       "3817     AMP10.000_000      Barnesiella\n",
       "...                ...              ...\n",
       "5427587  AMP10.863_461     Georhizobium\n",
       "5427588  AMP10.863_462      Porticoccus\n",
       "5427591  AMP10.863_465         MGIIa-L1\n",
       "5427596  AMP10.863_470         MGIIa-L1\n",
       "5427622  AMP10.863_496          MGIIa-I\n",
       "\n",
       "[647450 rows x 2 columns]"
      ]
     },
     "execution_count": 9,
     "metadata": {},
     "output_type": "execute_result"
    }
   ],
   "source": [
    "sp_next = sp[['amp', 'fixed']].drop_duplicates()\n",
    "sp_next"
   ]
  },
  {
   "cell_type": "code",
   "execution_count": 10,
   "id": "ce05843a",
   "metadata": {},
   "outputs": [
    {
     "name": "stdout",
     "output_type": "stream",
     "text": [
      "The number of AMPs actually associated to more than 1 genus is: 62717\n"
     ]
    }
   ],
   "source": [
    "k = sp_next.amp.value_counts()\n",
    "notunigenus = k[k > 1].index\n",
    "print(f'The number of AMPs actually associated to more than 1 genus is: {len(notunigenus)}')"
   ]
  },
  {
   "cell_type": "code",
   "execution_count": 11,
   "id": "f9866c7b",
   "metadata": {},
   "outputs": [
    {
     "data": {
      "text/plain": [
       "Pseudomonas         0.457442\n",
       "UBA7541             0.457442\n",
       "CAG-83              0.495195\n",
       "Oscillibacter       0.522294\n",
       "Bacteroides         0.552520\n",
       "CAG-110             0.608455\n",
       "Faecalibacterium    0.685236\n",
       "Pelagibacter        0.773019\n",
       "Bradyrhizobium      1.371862\n",
       "Prevotella          2.153219\n",
       "Name: fixed, dtype: float64"
      ]
     },
     "execution_count": 11,
     "metadata": {},
     "output_type": "execute_result"
    }
   ],
   "source": [
    "# finding 10 most common genera:\n",
    "k = sp_next.fixed.value_counts()\n",
    "k = k.sort_values()\n",
    "k = k * 100 / 863_498  # percent of AMPSphere\n",
    "k.tail(10)"
   ]
  },
  {
   "cell_type": "code",
   "execution_count": 12,
   "id": "e6ea7518",
   "metadata": {},
   "outputs": [
    {
     "data": {
      "image/png": "[encoded data removed]",
      "text/plain": [
       "<Figure size 640x480 with 1 Axes>"
      ]
     },
     "metadata": {},
     "output_type": "display_data"
    }
   ],
   "source": [
    "k.tail(10).plot.bar(rot=30, legend=False)\n",
    "plt.ylabel('% of AMPSphere candidates')\n",
    "plt.xlabel('Top 10 genera in AMPSphere')\n",
    "plt.tight_layout()"
   ]
  },
  {
   "cell_type": "markdown",
   "id": "40fcae8d",
   "metadata": {},
   "source": [
    "### Calculate the family taxonomy distribution of c_AMPs\n",
    "\n",
    "Here we show the families taxnomy assignment and the microbial sources distribution of c_AMP families."
   ]
  },
  {
   "cell_type": "code",
   "execution_count": 13,
   "id": "445c1ba2",
   "metadata": {},
   "outputs": [],
   "source": [
    "# load data\n",
    "amp_fam = pd.read_table('../data_folder/SPHERE_v.2022-03.levels_assessment.tsv.gz', sep='\\t', header='infer')\n",
    "amp_fam = amp_fam[['AMP accession', 'SPHERE_fam level III']]\n",
    "amp_fam = amp_fam.rename({'AMP accession': 'amp',\n",
    "                          'SPHERE_fam level III': 'family'},\n",
    "                          axis=1)"
   ]
  },
  {
   "cell_type": "code",
   "execution_count": 14,
   "id": "82508a1f",
   "metadata": {},
   "outputs": [],
   "source": [
    "# merge families to taxonomy\n",
    "data = sp_next.merge(on='amp', right=amp_fam)\n",
    "data = data.sort_values('family')\n",
    "data = data.drop_duplicates()"
   ]
  },
  {
   "cell_type": "code",
   "execution_count": 15,
   "id": "c3f53cb8",
   "metadata": {},
   "outputs": [
    {
     "data": {
      "text/html": [
       "<div>\n",
       "<style scoped>\n",
       "    .dataframe tbody tr th:only-of-type {\n",
       "        vertical-align: middle;\n",
       "    }\n",
       "\n",
       "    .dataframe tbody tr th {\n",
       "        vertical-align: top;\n",
       "    }\n",
       "\n",
       "    .dataframe thead th {\n",
       "        text-align: right;\n",
       "    }\n",
       "</style>\n",
       "<table border=\"1\" class=\"dataframe\">\n",
       "  <thead>\n",
       "    <tr style=\"text-align: right;\">\n",
       "      <th></th>\n",
       "      <th>family</th>\n",
       "      <th>number of genera</th>\n",
       "    </tr>\n",
       "  </thead>\n",
       "  <tbody>\n",
       "    <tr>\n",
       "      <th>167613</th>\n",
       "      <td>SPHERE-III.409_680</td>\n",
       "      <td>1</td>\n",
       "    </tr>\n",
       "    <tr>\n",
       "      <th>223490</th>\n",
       "      <td>SPHERE-III.114_950</td>\n",
       "      <td>1</td>\n",
       "    </tr>\n",
       "    <tr>\n",
       "      <th>223489</th>\n",
       "      <td>SPHERE-III.114_948</td>\n",
       "      <td>1</td>\n",
       "    </tr>\n",
       "    <tr>\n",
       "      <th>223488</th>\n",
       "      <td>SPHERE-III.114_947</td>\n",
       "      <td>1</td>\n",
       "    </tr>\n",
       "    <tr>\n",
       "      <th>223487</th>\n",
       "      <td>SPHERE-III.114_946</td>\n",
       "      <td>1</td>\n",
       "    </tr>\n",
       "    <tr>\n",
       "      <th>...</th>\n",
       "      <td>...</td>\n",
       "      <td>...</td>\n",
       "    </tr>\n",
       "    <tr>\n",
       "      <th>4</th>\n",
       "      <td>SPHERE-III.000_004</td>\n",
       "      <td>128</td>\n",
       "    </tr>\n",
       "    <tr>\n",
       "      <th>3</th>\n",
       "      <td>SPHERE-III.000_040</td>\n",
       "      <td>129</td>\n",
       "    </tr>\n",
       "    <tr>\n",
       "      <th>2</th>\n",
       "      <td>SPHERE-III.000_002</td>\n",
       "      <td>144</td>\n",
       "    </tr>\n",
       "    <tr>\n",
       "      <th>1</th>\n",
       "      <td>SPHERE-III.000_008</td>\n",
       "      <td>207</td>\n",
       "    </tr>\n",
       "    <tr>\n",
       "      <th>0</th>\n",
       "      <td>SPHERE-III.000_000</td>\n",
       "      <td>626</td>\n",
       "    </tr>\n",
       "  </tbody>\n",
       "</table>\n",
       "<p>335228 rows × 2 columns</p>\n",
       "</div>"
      ],
      "text/plain": [
       "                    family  number of genera\n",
       "167613  SPHERE-III.409_680                 1\n",
       "223490  SPHERE-III.114_950                 1\n",
       "223489  SPHERE-III.114_948                 1\n",
       "223488  SPHERE-III.114_947                 1\n",
       "223487  SPHERE-III.114_946                 1\n",
       "...                    ...               ...\n",
       "4       SPHERE-III.000_004               128\n",
       "3       SPHERE-III.000_040               129\n",
       "2       SPHERE-III.000_002               144\n",
       "1       SPHERE-III.000_008               207\n",
       "0       SPHERE-III.000_000               626\n",
       "\n",
       "[335228 rows x 2 columns]"
      ]
     },
     "execution_count": 15,
     "metadata": {},
     "output_type": "execute_result"
    }
   ],
   "source": [
    "# organize taxonomy of families\n",
    "gen_per_fam = data[['family', 'fixed']]\n",
    "gen_per_fam = gen_per_fam.drop_duplicates()\n",
    "gen_per_fam = gen_per_fam['family'].value_counts()\n",
    "gen_per_fam = gen_per_fam.reset_index()\n",
    "\n",
    "gen_per_fam.rename({'index': 'family',\n",
    "                    'family': 'number of genera'},\n",
    "                  axis=1,\n",
    "                  inplace=True)\n",
    "\n",
    "gen_per_fam = gen_per_fam.sort_values(by='number of genera')\n",
    "\n",
    "gen_per_fam"
   ]
  },
  {
   "cell_type": "code",
   "execution_count": 18,
   "id": "dc214276",
   "metadata": {},
   "outputs": [],
   "source": [
    "# retrieving quality-controlled families\n",
    "qual = pd.read_table('../data_folder/quality_families.txt.xz', sep='\\t', header='infer')\n",
    "\n",
    "# make sure families have a min size of 8 AMPs\n",
    "f = (qual.experimental_evidence == True) | (qual.perc >= 75)\n",
    "qual = qual[f]\n",
    "qual = qual[(qual.total >= 8)]"
   ]
  },
  {
   "cell_type": "code",
   "execution_count": 19,
   "id": "05d77889",
   "metadata": {},
   "outputs": [
    {
     "data": {
      "image/png": "[encoded data removed]",
      "text/plain": [
       "<Figure size 640x480 with 1 Axes>"
      ]
     },
     "metadata": {},
     "output_type": "display_data"
    }
   ],
   "source": [
    "# plot pannel c (big plot)\n",
    "import seaborn as sns\n",
    "\n",
    "ndf = gen_per_fam.loc[gen_per_fam.family.isin(qual.family)]\n",
    "\n",
    "fsize = amp_fam.family.value_counts()\n",
    "fsize = fsize.reset_index()\n",
    "fsize = fsize.rename({'index': 'family',\n",
    "                      'family': 'number of c_AMPs'},\n",
    "                     axis=1)\n",
    "\n",
    "ndf = ndf.merge(on='family', right=fsize)\n",
    "\n",
    "sns.scatterplot(data=ndf, x='number of genera', y='number of c_AMPs', s=5)\n",
    "plt.ylabel('c_AMPs in high quality families')\n",
    "plt.xlabel('Number of different genera')\n",
    "plt.xscale('log')\n",
    "plt.yscale('log')\n",
    "#plt.xlim(0, 100)"
   ]
  },
  {
   "cell_type": "code",
   "execution_count": 20,
   "id": "fa6573da",
   "metadata": {},
   "outputs": [
    {
     "data": {
      "text/plain": [
       "SpearmanrResult(correlation=0.5437300425522279, pvalue=0.0)"
      ]
     },
     "execution_count": 20,
     "metadata": {},
     "output_type": "execute_result"
    }
   ],
   "source": [
    "from scipy.stats import spearmanr\n",
    "spearmanr(ndf['number of genera'],\n",
    "         ndf['number of c_AMPs'])"
   ]
  },
  {
   "cell_type": "code",
   "execution_count": 21,
   "id": "c5eecc91",
   "metadata": {},
   "outputs": [
    {
     "data": {
      "text/plain": [
       "Text(0, 0.5, 'High quality families')"
      ]
     },
     "execution_count": 21,
     "metadata": {},
     "output_type": "execute_result"
    },
    {
     "data": {
      "image/png": "[encoded data removed]",
      "text/plain": [
       "<Figure size 640x480 with 1 Axes>"
      ]
     },
     "metadata": {},
     "output_type": "display_data"
    }
   ],
   "source": [
    "# plot pannel c (detailed plot)\n",
    "ndf = gen_per_fam.loc[gen_per_fam.family.isin(qual.family)]\n",
    "ndf = ndf.loc[(ndf['number of genera'] > 100), 'number of genera']\n",
    "ndf.hist(bins=100, grid=False)\n",
    "plt.xlabel('Number of different genera')\n",
    "plt.ylabel('High quality families')"
   ]
  },
  {
   "cell_type": "code",
   "execution_count": 22,
   "id": "e1254239",
   "metadata": {},
   "outputs": [],
   "source": [
    "# select quality families affiliating to \n",
    "# 1 genus\n",
    "k = data[['family', 'fixed']].drop_duplicates()\n",
    "k = k[k.family.isin(qual.family)]\n",
    "k = k.family.value_counts()\n",
    "k = k[k == 1].index"
   ]
  },
  {
   "cell_type": "code",
   "execution_count": 23,
   "id": "deadcaf0",
   "metadata": {
    "scrolled": true
   },
   "outputs": [
    {
     "data": {
      "text/plain": [
       "CAG-110             12\n",
       "Pseudomonas         12\n",
       "CAG-83              13\n",
       "Bacteroides         13\n",
       "Gemmiger            14\n",
       "Streptococcus       15\n",
       "Pelagibacter        28\n",
       "Bradyrhizobium      33\n",
       "Faecalibacterium    36\n",
       "Prevotella          57\n",
       "Name: fixed, dtype: int64"
      ]
     },
     "execution_count": 23,
     "metadata": {},
     "output_type": "execute_result"
    }
   ],
   "source": [
    "# get the number of families specific for each genus\n",
    "# shows top 10 most represented genera in terms of \n",
    "# c_AMPs families\n",
    "k2 = data[['family', 'fixed']]\n",
    "k2 = k2[k2.family.isin(k)].drop_duplicates()\n",
    "k2 = k2.fixed.value_counts()\n",
    "k2.sort_values().tail(10)"
   ]
  }
 ],
 "metadata": {
  "kernelspec": {
   "display_name": "Python 3 (ipykernel)",
   "language": "python",
   "name": "python3"
  },
  "language_info": {
   "codemirror_mode": {
    "name": "ipython",
    "version": 3
   },
   "file_extension": ".py",
   "mimetype": "text/x-python",
   "name": "python",
   "nbconvert_exporter": "python",
   "pygments_lexer": "ipython3",
   "version": "3.9.0"
  }
 },
 "nbformat": 4,
 "nbformat_minor": 5
}
