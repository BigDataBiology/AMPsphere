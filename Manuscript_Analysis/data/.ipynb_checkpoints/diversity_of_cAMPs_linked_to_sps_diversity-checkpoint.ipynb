{
 "cells": [
  {
   "cell_type": "markdown",
   "id": "d68dfd99",
   "metadata": {},
   "source": [
    "# AMPSphere v.2022-03"
   ]
  },
  {
   "cell_type": "markdown",
   "id": "e36e4bc2",
   "metadata": {},
   "source": [
    "This is a notebook meant to form the set of notebooks used to analyze the data in AMPSphere and write the manuscript:\n",
    "\n",
    "__AMPSphere: Global survey of prokaryotic antimicrobial peptides shaping microbiomes__"
   ]
  },
  {
   "cell_type": "markdown",
   "id": "f0bf037a",
   "metadata": {},
   "source": [
    "### The diversity of c_AMPs is directly linked to the diversity of microbes\n",
    "\n",
    "We show that normalized measures of diversity of c_AMPs and microbes are highly correlated."
   ]
  },
  {
   "cell_type": "markdown",
   "id": "dcec6428",
   "metadata": {},
   "source": [
    "First, we calculate the diversity of c_AMPs per sample:"
   ]
  },
  {
   "cell_type": "code",
   "execution_count": 1,
   "id": "a79543cc",
   "metadata": {},
   "outputs": [],
   "source": [
    "# import libraries\n",
    "import pandas as pd\n",
    "import numpy as np\n",
    "import seaborn as sns\n",
    "import matplotlib.pyplot as plt\n",
    "\n",
    "from collections import Counter\n",
    "from scipy.stats import spearmanr\n",
    "from skbio.diversity import alpha_diversity"
   ]
  },
  {
   "cell_type": "code",
   "execution_count": 2,
   "id": "afe27941",
   "metadata": {},
   "outputs": [],
   "source": [
    "# define the Shannon entropy formula\n",
    "def shannon(df):\n",
    "    f1 = df[0]/df[0].sum()\n",
    "    f2 = np.log(f1)\n",
    "    return -sum(f1*f2)"
   ]
  },
  {
   "cell_type": "code",
   "execution_count": 3,
   "id": "438202fc",
   "metadata": {},
   "outputs": [],
   "source": [
    "# load data\n",
    "gmsc = pd.read_table('data/gmsc_amp_genes_envohr_source.tsv.gz')\n",
    "\n",
    "# sample info\n",
    "sta = pd.read_table('data/samples-min500k-assembly-prodigal-stats.tsv.gz')\n",
    "\n",
    "sta = sta[['sample_accession',\n",
    "           'assembly_total_length']]\n",
    "\n",
    "sta = sta.rename({'sample_accession': 'sample',\n",
    "                  'assembly_total_length': 'assembled_bp'},\n",
    "                 axis=1)"
   ]
  },
  {
   "cell_type": "code",
   "execution_count": 4,
   "id": "00f1774a",
   "metadata": {},
   "outputs": [],
   "source": [
    "# shannon H diversity for c_AMPs\n",
    "d = gmsc.groupby(['amp', 'sample'])\n",
    "d = d.agg('size')\n",
    "d = d.reset_index()\n",
    "d = d.sort_values(by='sample')\n",
    "\n",
    "d = d.groupby('sample')\n",
    "d = d.apply(lambda x: shannon(x))\n",
    "d = d.reset_index().rename({0: 'shannon_H_amp'}, axis=1)"
   ]
  },
  {
   "cell_type": "code",
   "execution_count": 5,
   "id": "57840a76",
   "metadata": {},
   "outputs": [],
   "source": [
    "# amp counts - redundant and nr\n",
    "d2 = gmsc.groupby('sample').agg('size').reset_index()\n",
    "d2 = d2.rename({0: 'redundant_amps'}, axis=1)\n",
    "\n",
    "d3 = gmsc[['sample', 'amp']].drop_duplicates()\n",
    "d3 = d3.groupby('sample').agg('size').reset_index()\n",
    "d3 = d3.rename({0: 'nr_amps'}, axis=1)"
   ]
  },
  {
   "cell_type": "code",
   "execution_count": 6,
   "id": "6124c54c",
   "metadata": {},
   "outputs": [],
   "source": [
    "# merge intermediate files\n",
    "d = d.merge(on='sample', right=d2)\n",
    "d = d.merge(on='sample', right=d3)"
   ]
  },
  {
   "cell_type": "code",
   "execution_count": 7,
   "id": "daf7c958",
   "metadata": {},
   "outputs": [
    {
     "data": {
      "text/html": [
       "<div>\n",
       "<style scoped>\n",
       "    .dataframe tbody tr th:only-of-type {\n",
       "        vertical-align: middle;\n",
       "    }\n",
       "\n",
       "    .dataframe tbody tr th {\n",
       "        vertical-align: top;\n",
       "    }\n",
       "\n",
       "    .dataframe thead th {\n",
       "        text-align: right;\n",
       "    }\n",
       "</style>\n",
       "<table border=\"1\" class=\"dataframe\">\n",
       "  <thead>\n",
       "    <tr style=\"text-align: right;\">\n",
       "      <th></th>\n",
       "      <th>sample</th>\n",
       "      <th>general_envo_name</th>\n",
       "      <th>assembled_bp</th>\n",
       "      <th>redundant_amps</th>\n",
       "      <th>nr_amps</th>\n",
       "      <th>shannon_H_amp</th>\n",
       "    </tr>\n",
       "  </thead>\n",
       "  <tbody>\n",
       "    <tr>\n",
       "      <th>0</th>\n",
       "      <td>100822046-x-0-x-ST</td>\n",
       "      <td>human gut</td>\n",
       "      <td>110512142</td>\n",
       "      <td>62</td>\n",
       "      <td>60</td>\n",
       "      <td>4.082415</td>\n",
       "    </tr>\n",
       "    <tr>\n",
       "      <th>1</th>\n",
       "      <td>103092734-palatinetonsils3</td>\n",
       "      <td>human mouth</td>\n",
       "      <td>197407958</td>\n",
       "      <td>98</td>\n",
       "      <td>97</td>\n",
       "      <td>4.570822</td>\n",
       "    </tr>\n",
       "    <tr>\n",
       "      <th>2</th>\n",
       "      <td>103092734-subgingivalplaque3</td>\n",
       "      <td>human mouth</td>\n",
       "      <td>136837353</td>\n",
       "      <td>73</td>\n",
       "      <td>72</td>\n",
       "      <td>4.271469</td>\n",
       "    </tr>\n",
       "    <tr>\n",
       "      <th>3</th>\n",
       "      <td>103092734-supragingivalplaque3</td>\n",
       "      <td>human mouth</td>\n",
       "      <td>106787798</td>\n",
       "      <td>50</td>\n",
       "      <td>50</td>\n",
       "      <td>3.912023</td>\n",
       "    </tr>\n",
       "    <tr>\n",
       "      <th>4</th>\n",
       "      <td>1062629-24-0-0</td>\n",
       "      <td>human gut</td>\n",
       "      <td>180877636</td>\n",
       "      <td>114</td>\n",
       "      <td>114</td>\n",
       "      <td>4.736198</td>\n",
       "    </tr>\n",
       "    <tr>\n",
       "      <th>...</th>\n",
       "      <td>...</td>\n",
       "      <td>...</td>\n",
       "      <td>...</td>\n",
       "      <td>...</td>\n",
       "      <td>...</td>\n",
       "      <td>...</td>\n",
       "    </tr>\n",
       "    <tr>\n",
       "      <th>61388</th>\n",
       "      <td>tigress_HD.S14-x-392-x-OR</td>\n",
       "      <td>human saliva</td>\n",
       "      <td>227034094</td>\n",
       "      <td>92</td>\n",
       "      <td>91</td>\n",
       "      <td>4.506720</td>\n",
       "    </tr>\n",
       "    <tr>\n",
       "      <th>61389</th>\n",
       "      <td>tigress_HD.S14-x-392-x-ST</td>\n",
       "      <td>human gut</td>\n",
       "      <td>170456936</td>\n",
       "      <td>70</td>\n",
       "      <td>69</td>\n",
       "      <td>4.228691</td>\n",
       "    </tr>\n",
       "    <tr>\n",
       "      <th>61390</th>\n",
       "      <td>tigress_HD.S14-x-60-x-ST</td>\n",
       "      <td>human gut</td>\n",
       "      <td>176591235</td>\n",
       "      <td>86</td>\n",
       "      <td>85</td>\n",
       "      <td>4.438228</td>\n",
       "    </tr>\n",
       "    <tr>\n",
       "      <th>61391</th>\n",
       "      <td>tigress_HD.S14-x-7-x-OR</td>\n",
       "      <td>human saliva</td>\n",
       "      <td>73749208</td>\n",
       "      <td>20</td>\n",
       "      <td>20</td>\n",
       "      <td>2.995732</td>\n",
       "    </tr>\n",
       "    <tr>\n",
       "      <th>61392</th>\n",
       "      <td>tigress_HD.S14-x-7-x-ST</td>\n",
       "      <td>human gut</td>\n",
       "      <td>201973206</td>\n",
       "      <td>108</td>\n",
       "      <td>107</td>\n",
       "      <td>4.669295</td>\n",
       "    </tr>\n",
       "  </tbody>\n",
       "</table>\n",
       "<p>61393 rows × 6 columns</p>\n",
       "</div>"
      ],
      "text/plain": [
       "                               sample general_envo_name  assembled_bp  \\\n",
       "0                  100822046-x-0-x-ST         human gut     110512142   \n",
       "1          103092734-palatinetonsils3       human mouth     197407958   \n",
       "2        103092734-subgingivalplaque3       human mouth     136837353   \n",
       "3      103092734-supragingivalplaque3       human mouth     106787798   \n",
       "4                      1062629-24-0-0         human gut     180877636   \n",
       "...                               ...               ...           ...   \n",
       "61388       tigress_HD.S14-x-392-x-OR      human saliva     227034094   \n",
       "61389       tigress_HD.S14-x-392-x-ST         human gut     170456936   \n",
       "61390        tigress_HD.S14-x-60-x-ST         human gut     176591235   \n",
       "61391         tigress_HD.S14-x-7-x-OR      human saliva      73749208   \n",
       "61392         tigress_HD.S14-x-7-x-ST         human gut     201973206   \n",
       "\n",
       "       redundant_amps  nr_amps  shannon_H_amp  \n",
       "0                  62       60       4.082415  \n",
       "1                  98       97       4.570822  \n",
       "2                  73       72       4.271469  \n",
       "3                  50       50       3.912023  \n",
       "4                 114      114       4.736198  \n",
       "...               ...      ...            ...  \n",
       "61388              92       91       4.506720  \n",
       "61389              70       69       4.228691  \n",
       "61390              86       85       4.438228  \n",
       "61391              20       20       2.995732  \n",
       "61392             108      107       4.669295  \n",
       "\n",
       "[61393 rows x 6 columns]"
      ]
     },
     "execution_count": 7,
     "metadata": {},
     "output_type": "execute_result"
    }
   ],
   "source": [
    "d = d.merge(on='sample', right=sta)\n",
    "\n",
    "d4 = gmsc[['sample',\n",
    "           'is_metagenomic',\n",
    "           'general_envo_name']]\n",
    "\n",
    "d4 = d4.drop_duplicates()\n",
    "d = d.merge(on='sample', right=d4)\n",
    "d = d[d.is_metagenomic == True]\n",
    "\n",
    "amps = d[['sample',\n",
    "          'general_envo_name',\n",
    "          'assembled_bp',\n",
    "          'redundant_amps',\n",
    "          'nr_amps',\n",
    "          'shannon_H_amp']]\n",
    "\n",
    "amps"
   ]
  },
  {
   "cell_type": "markdown",
   "id": "aa738ac4",
   "metadata": {},
   "source": [
    "Secondly, we calculate the diversity of microbial species per sample:\n",
    "\n",
    "* As the size of this table is much larger, than it is better to compute using the C++ optimized option"
   ]
  },
  {
   "cell_type": "code",
   "execution_count": 8,
   "id": "bd1c447d",
   "metadata": {},
   "outputs": [],
   "source": [
    "# load motus\n",
    "motus = pd.read_table('data/freeze.v2.motusv2_5.mg3.insertcount.tsv.xz',\n",
    "                      sep='\\t', \n",
    "                      header='infer')\n",
    "\n",
    "motus.rename({'Unnamed: 0': 'sample'},\n",
    "             axis=1,\n",
    "             inplace=True)\n",
    "\n",
    "motus = motus.set_index('sample')"
   ]
  },
  {
   "cell_type": "code",
   "execution_count": 12,
   "id": "6953a725",
   "metadata": {},
   "outputs": [],
   "source": [
    "# eliminate samples containing duplicates\n",
    "res = dict(Counter(motus.index))\n",
    "res = [k for k, v in res.items() if v > 1]\n",
    "motus = motus.drop(res, axis=0)"
   ]
  },
  {
   "cell_type": "code",
   "execution_count": 9,
   "id": "b36ffef1",
   "metadata": {},
   "outputs": [],
   "source": [
    "# cleaning all zero rows and columns\n",
    "motus = motus.loc[:, (motus != 0).any(axis=0)]  # all zero columns\n",
    "motus = motus.loc[(motus != 0).any(axis=1)]  # all zero rows\n",
    "df = np.asarray(motus)\n",
    "ids = motus.columns.tolist()"
   ]
  },
  {
   "cell_type": "code",
   "execution_count": 10,
   "id": "3c4bf4a1",
   "metadata": {},
   "outputs": [
    {
     "ename": "ValueError",
     "evalue": "Only 1-D and 2-D array-like objects can be provided as input. Provided object has 3 dimensions.",
     "output_type": "error",
     "traceback": [
      "\u001b[0;31m---------------------------------------------------------------------------\u001b[0m",
      "\u001b[0;31mValueError\u001b[0m                                Traceback (most recent call last)",
      "Input \u001b[0;32mIn [10]\u001b[0m, in \u001b[0;36m<cell line: 2>\u001b[0;34m()\u001b[0m\n\u001b[1;32m      1\u001b[0m \u001b[38;5;66;03m# calculating diversity\u001b[39;00m\n\u001b[0;32m----> 2\u001b[0m shannonH \u001b[38;5;241m=\u001b[39m \u001b[43malpha_diversity\u001b[49m\u001b[43m(\u001b[49m\u001b[38;5;124;43m'\u001b[39;49m\u001b[38;5;124;43mshannon\u001b[39;49m\u001b[38;5;124;43m'\u001b[39;49m\u001b[43m,\u001b[49m\u001b[43m \u001b[49m\u001b[43mdf\u001b[49m\u001b[43m,\u001b[49m\u001b[43m \u001b[49m\u001b[43mids\u001b[49m\u001b[43m)\u001b[49m\n\u001b[1;32m      3\u001b[0m x \u001b[38;5;241m=\u001b[39m alpha_diversity(\u001b[38;5;124m'\u001b[39m\u001b[38;5;124mosd\u001b[39m\u001b[38;5;124m'\u001b[39m, df, ids)\n\u001b[1;32m      4\u001b[0m otus \u001b[38;5;241m=\u001b[39m [ o \u001b[38;5;28;01mfor\u001b[39;00m (o, _, _) \u001b[38;5;129;01min\u001b[39;00m x ]\n",
      "File \u001b[0;32m~/miniconda3/lib/python3.9/site-packages/skbio/diversity/_driver.py:165\u001b[0m, in \u001b[0;36malpha_diversity\u001b[0;34m(metric, counts, ids, validate, **kwargs)\u001b[0m\n\u001b[1;32m    162\u001b[0m metric_map \u001b[38;5;241m=\u001b[39m _get_alpha_diversity_metric_map()\n\u001b[1;32m    164\u001b[0m \u001b[38;5;28;01mif\u001b[39;00m validate:\n\u001b[0;32m--> 165\u001b[0m     counts \u001b[38;5;241m=\u001b[39m \u001b[43m_validate_counts_matrix\u001b[49m\u001b[43m(\u001b[49m\u001b[43mcounts\u001b[49m\u001b[43m,\u001b[49m\u001b[43m \u001b[49m\u001b[43mids\u001b[49m\u001b[38;5;241;43m=\u001b[39;49m\u001b[43mids\u001b[49m\u001b[43m)\u001b[49m\n\u001b[1;32m    167\u001b[0m \u001b[38;5;28;01mif\u001b[39;00m metric \u001b[38;5;241m==\u001b[39m \u001b[38;5;124m'\u001b[39m\u001b[38;5;124mfaith_pd\u001b[39m\u001b[38;5;124m'\u001b[39m:\n\u001b[1;32m    168\u001b[0m     otu_ids, tree, kwargs \u001b[38;5;241m=\u001b[39m _get_phylogenetic_kwargs(counts, \u001b[38;5;241m*\u001b[39m\u001b[38;5;241m*\u001b[39mkwargs)\n",
      "File \u001b[0;32m~/miniconda3/lib/python3.9/site-packages/skbio/diversity/_util.py:54\u001b[0m, in \u001b[0;36m_validate_counts_matrix\u001b[0;34m(counts, ids, suppress_cast)\u001b[0m\n\u001b[1;32m     52\u001b[0m counts \u001b[38;5;241m=\u001b[39m np\u001b[38;5;241m.\u001b[39masarray(counts)\n\u001b[1;32m     53\u001b[0m \u001b[38;5;28;01mif\u001b[39;00m counts\u001b[38;5;241m.\u001b[39mndim \u001b[38;5;241m>\u001b[39m \u001b[38;5;241m2\u001b[39m:\n\u001b[0;32m---> 54\u001b[0m     \u001b[38;5;28;01mraise\u001b[39;00m \u001b[38;5;167;01mValueError\u001b[39;00m(\n\u001b[1;32m     55\u001b[0m         \u001b[38;5;124m\"\u001b[39m\u001b[38;5;124mOnly 1-D and 2-D array-like objects can be provided \u001b[39m\u001b[38;5;124m\"\u001b[39m\n\u001b[1;32m     56\u001b[0m         \u001b[38;5;124m\"\u001b[39m\u001b[38;5;124mas input. Provided object has \u001b[39m\u001b[38;5;132;01m%d\u001b[39;00m\u001b[38;5;124m dimensions.\u001b[39m\u001b[38;5;124m\"\u001b[39m \u001b[38;5;241m%\u001b[39m\n\u001b[1;32m     57\u001b[0m         counts\u001b[38;5;241m.\u001b[39mndim)\n\u001b[1;32m     59\u001b[0m \u001b[38;5;28;01mif\u001b[39;00m ids \u001b[38;5;129;01mis\u001b[39;00m \u001b[38;5;129;01mnot\u001b[39;00m \u001b[38;5;28;01mNone\u001b[39;00m \u001b[38;5;129;01mand\u001b[39;00m \u001b[38;5;28mlen\u001b[39m(counts) \u001b[38;5;241m!=\u001b[39m \u001b[38;5;28mlen\u001b[39m(ids):\n\u001b[1;32m     60\u001b[0m     \u001b[38;5;28;01mraise\u001b[39;00m \u001b[38;5;167;01mValueError\u001b[39;00m(\n\u001b[1;32m     61\u001b[0m         \u001b[38;5;124m\"\u001b[39m\u001b[38;5;124mNumber of rows in ``counts`` must be equal \u001b[39m\u001b[38;5;124m\"\u001b[39m\n\u001b[1;32m     62\u001b[0m         \u001b[38;5;124m\"\u001b[39m\u001b[38;5;124mto number of provided ``ids``.\u001b[39m\u001b[38;5;124m\"\u001b[39m\n\u001b[1;32m     63\u001b[0m     )\n",
      "\u001b[0;31mValueError\u001b[0m: Only 1-D and 2-D array-like objects can be provided as input. Provided object has 3 dimensions."
     ]
    }
   ],
   "source": [
    "# calculating diversity\n",
    "shannonH = alpha_diversity('shannon', df, ids)\n",
    "x = alpha_diversity('osd', df, ids)\n",
    "otus = [ o for (o, _, _) in x ]\n",
    "sing = [ s for (_, s, _) in x ]\n",
    "doub = [ p for (_, _, p) in x ]"
   ]
  },
  {
   "cell_type": "code",
   "execution_count": null,
   "id": "e7572bba",
   "metadata": {},
   "outputs": [],
   "source": [
    "df = np.array([ids,\n",
    "               otus,\n",
    "               sing,\n",
    "               doub, \n",
    "               shannonH])\n",
    "\n",
    "df = df.T"
   ]
  },
  {
   "cell_type": "code",
   "execution_count": null,
   "id": "000e2eaf",
   "metadata": {},
   "outputs": [],
   "source": [
    "#for otus\n",
    "motus = pd.DataFrame(df,\n",
    "                     columns=['sample',\n",
    "                              'OTUs',\n",
    "                              'singletons',\n",
    "                              'doubletons',\n",
    "                              'shannon_H'])\n",
    "\n",
    "motus"
   ]
  },
  {
   "cell_type": "markdown",
   "id": "e728b21f",
   "metadata": {},
   "source": [
    "Then, using the both diversity matrices, we calculate the tests:"
   ]
  },
  {
   "cell_type": "code",
   "execution_count": null,
   "id": "ccfea3f5",
   "metadata": {},
   "outputs": [],
   "source": [
    "div = amps.merge(on='sample',\n",
    "                 right=motus)\n",
    "\n",
    "div['amp_density'] = div.redundant_amps * 1e9 / div.assembled_bp"
   ]
  },
  {
   "cell_type": "code",
   "execution_count": null,
   "id": "f5d951b5",
   "metadata": {},
   "outputs": [],
   "source": [
    "sns.jointplot(data=div.sample(5000),\n",
    "              x='shannon_H',\n",
    "              y='shannon_H_amp',\n",
    "              s=3)\n",
    "\n",
    "plt.xlabel('Species diversity - Shannon H')\n",
    "plt.ylabel('AMPs diversity - Shannon H')"
   ]
  },
  {
   "cell_type": "code",
   "execution_count": null,
   "id": "5afb2ec3",
   "metadata": {},
   "outputs": [],
   "source": [
    "spearmanr(div.shannon_H_amp, div.shannon_H)\n",
    "## SpearmanrResult(correlation=0.4679178079882997, pvalue=0.0)"
   ]
  },
  {
   "cell_type": "code",
   "execution_count": null,
   "id": "f8383ec5",
   "metadata": {},
   "outputs": [],
   "source": [
    "spearmanr(div.OTUs, div.redundant_amps)\n",
    "## SpearmanrResult(correlation=0.6287666912682447, pvalue=0.0)"
   ]
  },
  {
   "cell_type": "code",
   "execution_count": null,
   "id": "85c15ce9",
   "metadata": {},
   "outputs": [],
   "source": [
    "spearmanr(div.shannon_H, div.nr_amps)\n",
    "## SpearmanrResult(correlation=0.46741093627128366, pvalue=0.0)"
   ]
  },
  {
   "cell_type": "code",
   "execution_count": null,
   "id": "6a84183a",
   "metadata": {},
   "outputs": [],
   "source": [
    "spearmanr(div.shannon_H, div.redundant_amps)\n",
    "## SpearmanrResult(correlation=0.4662465067984268, pvalue=0.0)"
   ]
  },
  {
   "cell_type": "code",
   "execution_count": null,
   "id": "a472bbce",
   "metadata": {},
   "outputs": [],
   "source": [
    "spearmanr(div.shannon_H, div.amp_density)\n",
    "## SpearmanrResult(correlation=0.07109297647828566, pvalue=1.7047089362702838e-67)"
   ]
  },
  {
   "cell_type": "code",
   "execution_count": null,
   "id": "7781b1f0",
   "metadata": {},
   "outputs": [],
   "source": [
    "spearmanr(div.OTUs, div.amp_density)\n",
    "## SpearmanrResult(correlation=0.1859735046363122, pvalue=0.0)"
   ]
  },
  {
   "cell_type": "code",
   "execution_count": null,
   "id": "e3eb9132",
   "metadata": {},
   "outputs": [],
   "source": [
    "spearmanr(div.singletons, div.amp_density)\n",
    "## SpearmanrResult(correlation=0.12678272864738688, pvalue=1.4630738253235345e-211)"
   ]
  },
  {
   "cell_type": "code",
   "execution_count": null,
   "id": "c92eaf0e",
   "metadata": {},
   "outputs": [],
   "source": [
    "spearmanr(div.doubletons, div.amp_density)\n",
    "## SpearmanrResult(correlation=0.08989888051788306, pvalue=5.980766621843995e-107)"
   ]
  },
  {
   "cell_type": "code",
   "execution_count": null,
   "id": "358e19a7",
   "metadata": {},
   "outputs": [],
   "source": [
    "spearmanr(div.assembled_bp, div.shannon_H_amp)\n",
    "## SpearmanrResult(correlation=0.9390838989154104, pvalue=0.0)"
   ]
  },
  {
   "cell_type": "code",
   "execution_count": null,
   "id": "347b425b",
   "metadata": {},
   "outputs": [],
   "source": [
    "spearmanr(div.assembled_bp, div.amp_density)\n",
    "## SpearmanrResult(correlation=-0.11880114166275109, pvalue=7.80750789022028e-186)"
   ]
  },
  {
   "cell_type": "code",
   "execution_count": null,
   "id": "7a729cc0",
   "metadata": {},
   "outputs": [],
   "source": [
    "spearmanr(div.shannon_H_amp, div.amp_density)\n",
    "## SpearmanrResult(correlation=0.16354565455715206, pvalue=0.0)"
   ]
  },
  {
   "cell_type": "code",
   "execution_count": null,
   "id": "49b2c692",
   "metadata": {},
   "outputs": [],
   "source": [
    "div = div.rename({'shannon_H': 'shannon_H_mOTUs'}, axis=1)\n",
    "\n",
    "div=div[['sample', 'general_envo_name', 'assembled_bp',\n",
    "         'OTUs', 'singletons', 'doubletons',\n",
    "         'redundant_amps', 'nr_amps', 'amp_density',\n",
    "         'shannon_H_amp', 'shannon_H_mOTUs']]\n",
    "\n",
    "div"
   ]
  }
 ],
 "metadata": {
  "kernelspec": {
   "display_name": "Python 3 (ipykernel)",
   "language": "python",
   "name": "python3"
  },
  "language_info": {
   "codemirror_mode": {
    "name": "ipython",
    "version": 3
   },
   "file_extension": ".py",
   "mimetype": "text/x-python",
   "name": "python",
   "nbconvert_exporter": "python",
   "pygments_lexer": "ipython3",
   "version": "3.9.0"
  }
 },
 "nbformat": 4,
 "nbformat_minor": 5
}
