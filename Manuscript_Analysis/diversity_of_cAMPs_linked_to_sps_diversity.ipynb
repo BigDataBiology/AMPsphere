{
 "cells": [
  {
   "cell_type": "markdown",
   "id": "d68dfd99",
   "metadata": {},
   "source": [
    "# AMPSphere v.2022-03"
   ]
  },
  {
   "cell_type": "markdown",
   "id": "e36e4bc2",
   "metadata": {},
   "source": [
    "This is a notebook meant to form the set of notebooks used to analyze the data in AMPSphere and write the manuscript:\n",
    "\n",
    "__AMPSphere: Global survey of prokaryotic antimicrobial peptides shaping microbiomes__"
   ]
  },
  {
   "cell_type": "markdown",
   "id": "f0bf037a",
   "metadata": {},
   "source": [
    "### The diversity of c_AMPs is directly linked to the diversity of microbes\n",
    "\n",
    "We show that normalized measures of diversity of c_AMPs and microbes are highly correlated."
   ]
  },
  {
   "cell_type": "markdown",
   "id": "dcec6428",
   "metadata": {},
   "source": [
    "First, we calculate the diversity of c_AMPs per sample:"
   ]
  },
  {
   "cell_type": "code",
   "execution_count": 1,
   "id": "a79543cc",
   "metadata": {},
   "outputs": [],
   "source": [
    "# import libraries\n",
    "import pandas as pd\n",
    "import numpy as np\n",
    "import seaborn as sns\n",
    "import matplotlib.pyplot as plt\n",
    "\n",
    "from collections import Counter\n",
    "from scipy.stats import spearmanr"
   ]
  },
  {
   "cell_type": "code",
   "execution_count": 2,
   "id": "afe27941",
   "metadata": {},
   "outputs": [],
   "source": [
    "# define the Shannon entropy formula\n",
    "def shannon(df):\n",
    "    f1 = df[0]/df[0].sum()\n",
    "    f2 = np.log(f1)\n",
    "    return -sum(f1*f2)"
   ]
  },
  {
   "cell_type": "code",
   "execution_count": 3,
   "id": "438202fc",
   "metadata": {},
   "outputs": [],
   "source": [
    "# load data\n",
    "gmsc = pd.read_table('data/gmsc_amp_genes_envohr_source.tsv.gz')\n",
    "\n",
    "# sample info\n",
    "sta = pd.read_table('data/samples-min500k-assembly-prodigal-stats.tsv.gz')\n",
    "\n",
    "sta = sta[['sample_accession',\n",
    "           'assembly_total_length']]\n",
    "\n",
    "sta = sta.rename({'sample_accession': 'sample',\n",
    "                  'assembly_total_length': 'assembled_bp'},\n",
    "                 axis=1)"
   ]
  },
  {
   "cell_type": "code",
   "execution_count": 4,
   "id": "00f1774a",
   "metadata": {},
   "outputs": [],
   "source": [
    "# shannon H diversity for c_AMPs\n",
    "d = gmsc.groupby(['amp', 'sample'])\n",
    "d = d.agg('size')\n",
    "d = d.reset_index()\n",
    "d = d.sort_values(by='sample')\n",
    "\n",
    "d = d.groupby('sample')\n",
    "d = d.apply(lambda x: shannon(x))\n",
    "d = d.reset_index().rename({0: 'shannon_H_amp'}, axis=1)"
   ]
  },
  {
   "cell_type": "code",
   "execution_count": 5,
   "id": "57840a76",
   "metadata": {},
   "outputs": [],
   "source": [
    "# amp counts - redundant and nr\n",
    "d2 = gmsc.groupby('sample').agg('size').reset_index()\n",
    "d2 = d2.rename({0: 'redundant_amps'}, axis=1)\n",
    "\n",
    "d3 = gmsc[['sample', 'amp']].drop_duplicates()\n",
    "d3 = d3.groupby('sample').agg('size').reset_index()\n",
    "d3 = d3.rename({0: 'nr_amps'}, axis=1)"
   ]
  },
  {
   "cell_type": "code",
   "execution_count": 6,
   "id": "6124c54c",
   "metadata": {},
   "outputs": [],
   "source": [
    "# merge intermediate files\n",
    "d = d.merge(on='sample', right=d2)\n",
    "d = d.merge(on='sample', right=d3)"
   ]
  },
  {
   "cell_type": "code",
   "execution_count": 7,
   "id": "daf7c958",
   "metadata": {},
   "outputs": [
    {
     "data": {
      "text/html": [
       "<div>\n",
       "<style scoped>\n",
       "    .dataframe tbody tr th:only-of-type {\n",
       "        vertical-align: middle;\n",
       "    }\n",
       "\n",
       "    .dataframe tbody tr th {\n",
       "        vertical-align: top;\n",
       "    }\n",
       "\n",
       "    .dataframe thead th {\n",
       "        text-align: right;\n",
       "    }\n",
       "</style>\n",
       "<table border=\"1\" class=\"dataframe\">\n",
       "  <thead>\n",
       "    <tr style=\"text-align: right;\">\n",
       "      <th></th>\n",
       "      <th>sample</th>\n",
       "      <th>general_envo_name</th>\n",
       "      <th>assembled_bp</th>\n",
       "      <th>redundant_amps</th>\n",
       "      <th>nr_amps</th>\n",
       "      <th>shannon_H_amp</th>\n",
       "    </tr>\n",
       "  </thead>\n",
       "  <tbody>\n",
       "    <tr>\n",
       "      <th>0</th>\n",
       "      <td>100822046-x-0-x-ST</td>\n",
       "      <td>human gut</td>\n",
       "      <td>110512142</td>\n",
       "      <td>62</td>\n",
       "      <td>60</td>\n",
       "      <td>4.082415</td>\n",
       "    </tr>\n",
       "    <tr>\n",
       "      <th>1</th>\n",
       "      <td>103092734-palatinetonsils3</td>\n",
       "      <td>human mouth</td>\n",
       "      <td>197407958</td>\n",
       "      <td>98</td>\n",
       "      <td>97</td>\n",
       "      <td>4.570822</td>\n",
       "    </tr>\n",
       "    <tr>\n",
       "      <th>2</th>\n",
       "      <td>103092734-subgingivalplaque3</td>\n",
       "      <td>human mouth</td>\n",
       "      <td>136837353</td>\n",
       "      <td>73</td>\n",
       "      <td>72</td>\n",
       "      <td>4.271469</td>\n",
       "    </tr>\n",
       "    <tr>\n",
       "      <th>3</th>\n",
       "      <td>103092734-supragingivalplaque3</td>\n",
       "      <td>human mouth</td>\n",
       "      <td>106787798</td>\n",
       "      <td>50</td>\n",
       "      <td>50</td>\n",
       "      <td>3.912023</td>\n",
       "    </tr>\n",
       "    <tr>\n",
       "      <th>4</th>\n",
       "      <td>1062629-24-0-0</td>\n",
       "      <td>human gut</td>\n",
       "      <td>180877636</td>\n",
       "      <td>114</td>\n",
       "      <td>114</td>\n",
       "      <td>4.736198</td>\n",
       "    </tr>\n",
       "    <tr>\n",
       "      <th>...</th>\n",
       "      <td>...</td>\n",
       "      <td>...</td>\n",
       "      <td>...</td>\n",
       "      <td>...</td>\n",
       "      <td>...</td>\n",
       "      <td>...</td>\n",
       "    </tr>\n",
       "    <tr>\n",
       "      <th>61388</th>\n",
       "      <td>tigress_HD.S14-x-392-x-OR</td>\n",
       "      <td>human saliva</td>\n",
       "      <td>227034094</td>\n",
       "      <td>92</td>\n",
       "      <td>91</td>\n",
       "      <td>4.506720</td>\n",
       "    </tr>\n",
       "    <tr>\n",
       "      <th>61389</th>\n",
       "      <td>tigress_HD.S14-x-392-x-ST</td>\n",
       "      <td>human gut</td>\n",
       "      <td>170456936</td>\n",
       "      <td>70</td>\n",
       "      <td>69</td>\n",
       "      <td>4.228691</td>\n",
       "    </tr>\n",
       "    <tr>\n",
       "      <th>61390</th>\n",
       "      <td>tigress_HD.S14-x-60-x-ST</td>\n",
       "      <td>human gut</td>\n",
       "      <td>176591235</td>\n",
       "      <td>86</td>\n",
       "      <td>85</td>\n",
       "      <td>4.438228</td>\n",
       "    </tr>\n",
       "    <tr>\n",
       "      <th>61391</th>\n",
       "      <td>tigress_HD.S14-x-7-x-OR</td>\n",
       "      <td>human saliva</td>\n",
       "      <td>73749208</td>\n",
       "      <td>20</td>\n",
       "      <td>20</td>\n",
       "      <td>2.995732</td>\n",
       "    </tr>\n",
       "    <tr>\n",
       "      <th>61392</th>\n",
       "      <td>tigress_HD.S14-x-7-x-ST</td>\n",
       "      <td>human gut</td>\n",
       "      <td>201973206</td>\n",
       "      <td>108</td>\n",
       "      <td>107</td>\n",
       "      <td>4.669295</td>\n",
       "    </tr>\n",
       "  </tbody>\n",
       "</table>\n",
       "<p>61393 rows × 6 columns</p>\n",
       "</div>"
      ],
      "text/plain": [
       "                               sample general_envo_name  assembled_bp  \\\n",
       "0                  100822046-x-0-x-ST         human gut     110512142   \n",
       "1          103092734-palatinetonsils3       human mouth     197407958   \n",
       "2        103092734-subgingivalplaque3       human mouth     136837353   \n",
       "3      103092734-supragingivalplaque3       human mouth     106787798   \n",
       "4                      1062629-24-0-0         human gut     180877636   \n",
       "...                               ...               ...           ...   \n",
       "61388       tigress_HD.S14-x-392-x-OR      human saliva     227034094   \n",
       "61389       tigress_HD.S14-x-392-x-ST         human gut     170456936   \n",
       "61390        tigress_HD.S14-x-60-x-ST         human gut     176591235   \n",
       "61391         tigress_HD.S14-x-7-x-OR      human saliva      73749208   \n",
       "61392         tigress_HD.S14-x-7-x-ST         human gut     201973206   \n",
       "\n",
       "       redundant_amps  nr_amps  shannon_H_amp  \n",
       "0                  62       60       4.082415  \n",
       "1                  98       97       4.570822  \n",
       "2                  73       72       4.271469  \n",
       "3                  50       50       3.912023  \n",
       "4                 114      114       4.736198  \n",
       "...               ...      ...            ...  \n",
       "61388              92       91       4.506720  \n",
       "61389              70       69       4.228691  \n",
       "61390              86       85       4.438228  \n",
       "61391              20       20       2.995732  \n",
       "61392             108      107       4.669295  \n",
       "\n",
       "[61393 rows x 6 columns]"
      ]
     },
     "execution_count": 7,
     "metadata": {},
     "output_type": "execute_result"
    }
   ],
   "source": [
    "d = d.merge(on='sample', right=sta)\n",
    "\n",
    "d4 = gmsc[['sample',\n",
    "           'is_metagenomic',\n",
    "           'general_envo_name']]\n",
    "\n",
    "d4 = d4.drop_duplicates()\n",
    "d = d.merge(on='sample', right=d4)\n",
    "d = d[d.is_metagenomic == True]\n",
    "\n",
    "amps = d[['sample',\n",
    "          'general_envo_name',\n",
    "          'assembled_bp',\n",
    "          'redundant_amps',\n",
    "          'nr_amps',\n",
    "          'shannon_H_amp']]\n",
    "\n",
    "amps"
   ]
  },
  {
   "cell_type": "markdown",
   "id": "aa738ac4",
   "metadata": {},
   "source": [
    "Secondly, we calculate the diversity of microbial species per sample:\n",
    "\n",
    "* As the size of this table is much larger, than it is better to compute using the C++ optimized option"
   ]
  },
  {
   "cell_type": "code",
   "execution_count": 8,
   "id": "bd1c447d",
   "metadata": {},
   "outputs": [
    {
     "data": {
      "text/plain": [
       "62406"
      ]
     },
     "execution_count": 8,
     "metadata": {},
     "output_type": "execute_result"
    }
   ],
   "source": [
    "# load motus --\n",
    "# this table is too big, so we will be computing\n",
    "# the diversity by rows\n",
    "\n",
    "def shannon_motus(i):\n",
    "    n = i[i.columns[0]].tolist()[0]\n",
    "    f1 = np.asarray(i[i.columns[1:]])\n",
    "    f1 = f1[(f1 != 0) & ~(np.isnan(f1))]\n",
    "    ft = sum(f1)\n",
    "    f1 = f1/ft\n",
    "    f2 = np.log(f1)\n",
    "    return (n, -sum(f1*f2))\n",
    "\n",
    "motus = []\n",
    "for i in pd.read_table('data/freeze.v2.motusv2_5.mg3.insertcount.tsv.xz',\n",
    "                       sep='\\t', \n",
    "                       header='infer', \n",
    "                       chunksize=1):\n",
    "    motus.append(shannon_motus(i))\n",
    "\n",
    "motus = pd.DataFrame(motus, columns=['sample', 'shannon_H'])\n",
    "\n",
    "len(motus)"
   ]
  },
  {
   "cell_type": "code",
   "execution_count": 9,
   "id": "6953a725",
   "metadata": {},
   "outputs": [
    {
     "data": {
      "text/html": [
       "<div>\n",
       "<style scoped>\n",
       "    .dataframe tbody tr th:only-of-type {\n",
       "        vertical-align: middle;\n",
       "    }\n",
       "\n",
       "    .dataframe tbody tr th {\n",
       "        vertical-align: top;\n",
       "    }\n",
       "\n",
       "    .dataframe thead th {\n",
       "        text-align: right;\n",
       "    }\n",
       "</style>\n",
       "<table border=\"1\" class=\"dataframe\">\n",
       "  <thead>\n",
       "    <tr style=\"text-align: right;\">\n",
       "      <th></th>\n",
       "      <th>sample</th>\n",
       "      <th>shannon_H</th>\n",
       "    </tr>\n",
       "  </thead>\n",
       "  <tbody>\n",
       "    <tr>\n",
       "      <th>0</th>\n",
       "      <td>SAMN04622706</td>\n",
       "      <td>3.259813</td>\n",
       "    </tr>\n",
       "    <tr>\n",
       "      <th>1</th>\n",
       "      <td>SAMN04622708</td>\n",
       "      <td>3.437713</td>\n",
       "    </tr>\n",
       "    <tr>\n",
       "      <th>2</th>\n",
       "      <td>SAMN04622709</td>\n",
       "      <td>2.534813</td>\n",
       "    </tr>\n",
       "    <tr>\n",
       "      <th>3</th>\n",
       "      <td>SAMN04622711</td>\n",
       "      <td>2.509970</td>\n",
       "    </tr>\n",
       "    <tr>\n",
       "      <th>4</th>\n",
       "      <td>SAMN04622713</td>\n",
       "      <td>2.050824</td>\n",
       "    </tr>\n",
       "    <tr>\n",
       "      <th>...</th>\n",
       "      <td>...</td>\n",
       "      <td>...</td>\n",
       "    </tr>\n",
       "    <tr>\n",
       "      <th>62401</th>\n",
       "      <td>G80292</td>\n",
       "      <td>1.842696</td>\n",
       "    </tr>\n",
       "    <tr>\n",
       "      <th>62402</th>\n",
       "      <td>G80293</td>\n",
       "      <td>3.003529</td>\n",
       "    </tr>\n",
       "    <tr>\n",
       "      <th>62403</th>\n",
       "      <td>G80294</td>\n",
       "      <td>3.225755</td>\n",
       "    </tr>\n",
       "    <tr>\n",
       "      <th>62404</th>\n",
       "      <td>G80295</td>\n",
       "      <td>2.685188</td>\n",
       "    </tr>\n",
       "    <tr>\n",
       "      <th>62405</th>\n",
       "      <td>G80296</td>\n",
       "      <td>2.566342</td>\n",
       "    </tr>\n",
       "  </tbody>\n",
       "</table>\n",
       "<p>62406 rows × 2 columns</p>\n",
       "</div>"
      ],
      "text/plain": [
       "             sample  shannon_H\n",
       "0      SAMN04622706   3.259813\n",
       "1      SAMN04622708   3.437713\n",
       "2      SAMN04622709   2.534813\n",
       "3      SAMN04622711   2.509970\n",
       "4      SAMN04622713   2.050824\n",
       "...             ...        ...\n",
       "62401        G80292   1.842696\n",
       "62402        G80293   3.003529\n",
       "62403        G80294   3.225755\n",
       "62404        G80295   2.685188\n",
       "62405        G80296   2.566342\n",
       "\n",
       "[62406 rows x 2 columns]"
      ]
     },
     "execution_count": 9,
     "metadata": {},
     "output_type": "execute_result"
    }
   ],
   "source": [
    "# eliminate samples containing duplicates\n",
    "res = dict(Counter(motus.index))\n",
    "res = [k for k, v in res.items() if v > 1]\n",
    "motus = motus.drop(res, axis=0)\n",
    "\n",
    "motus"
   ]
  },
  {
   "cell_type": "markdown",
   "id": "e728b21f",
   "metadata": {},
   "source": [
    "Then, using the both diversity matrices, we calculate the tests:"
   ]
  },
  {
   "cell_type": "code",
   "execution_count": 10,
   "id": "ccfea3f5",
   "metadata": {},
   "outputs": [],
   "source": [
    "div = amps.merge(on='sample',\n",
    "                 right=motus)\n",
    "\n",
    "div['amp_density'] = div.redundant_amps * 1e9 / div.assembled_bp"
   ]
  },
  {
   "cell_type": "code",
   "execution_count": 11,
   "id": "f5d951b5",
   "metadata": {},
   "outputs": [
    {
     "data": {
      "text/plain": [
       "Text(336.9714285714286, 0.5, 'AMPs diversity - Shannon H')"
      ]
     },
     "execution_count": 11,
     "metadata": {},
     "output_type": "execute_result"
    },
    {
     "data": {
      "image/png": "[encoded data removed]",
      "text/plain": [
       "<Figure size 432x432 with 3 Axes>"
      ]
     },
     "metadata": {
      "needs_background": "light"
     },
     "output_type": "display_data"
    }
   ],
   "source": [
    "sns.jointplot(data=div.sample(5000),\n",
    "              x='shannon_H',\n",
    "              y='shannon_H_amp',\n",
    "              s=3)\n",
    "\n",
    "plt.xlabel('Species diversity - Shannon H')\n",
    "plt.ylabel('AMPs diversity - Shannon H')"
   ]
  },
  {
   "cell_type": "code",
   "execution_count": 12,
   "id": "5afb2ec3",
   "metadata": {},
   "outputs": [
    {
     "data": {
      "text/plain": [
       "SpearmanrResult(correlation=0.4789007118181432, pvalue=0.0)"
      ]
     },
     "execution_count": 12,
     "metadata": {},
     "output_type": "execute_result"
    }
   ],
   "source": [
    "spearmanr(div.shannon_H_amp, div.shannon_H)\n",
    "## SpearmanrResult(correlation=0.4679178079882997, pvalue=0.0)"
   ]
  },
  {
   "cell_type": "code",
   "execution_count": 13,
   "id": "85c15ce9",
   "metadata": {},
   "outputs": [
    {
     "data": {
      "text/plain": [
       "SpearmanrResult(correlation=0.4784010299855933, pvalue=0.0)"
      ]
     },
     "execution_count": 13,
     "metadata": {},
     "output_type": "execute_result"
    }
   ],
   "source": [
    "spearmanr(div.shannon_H, div.nr_amps)\n",
    "## SpearmanrResult(correlation=0.46741093627128366, pvalue=0.0)"
   ]
  },
  {
   "cell_type": "code",
   "execution_count": 14,
   "id": "6a84183a",
   "metadata": {},
   "outputs": [
    {
     "data": {
      "text/plain": [
       "SpearmanrResult(correlation=0.4771680039836699, pvalue=0.0)"
      ]
     },
     "execution_count": 14,
     "metadata": {},
     "output_type": "execute_result"
    }
   ],
   "source": [
    "spearmanr(div.shannon_H, div.redundant_amps)\n",
    "## SpearmanrResult(correlation=0.4662465067984268, pvalue=0.0)"
   ]
  },
  {
   "cell_type": "code",
   "execution_count": 15,
   "id": "a472bbce",
   "metadata": {},
   "outputs": [
    {
     "data": {
      "text/plain": [
       "SpearmanrResult(correlation=0.07198413577228303, pvalue=3.184277952344457e-70)"
      ]
     },
     "execution_count": 15,
     "metadata": {},
     "output_type": "execute_result"
    }
   ],
   "source": [
    "spearmanr(div.shannon_H, div.amp_density)\n",
    "## SpearmanrResult(correlation=0.07109297647828566, pvalue=1.7047089362702838e-67)"
   ]
  },
  {
   "cell_type": "code",
   "execution_count": 16,
   "id": "358e19a7",
   "metadata": {},
   "outputs": [
    {
     "data": {
      "text/plain": [
       "SpearmanrResult(correlation=0.9397452748416225, pvalue=0.0)"
      ]
     },
     "execution_count": 16,
     "metadata": {},
     "output_type": "execute_result"
    }
   ],
   "source": [
    "spearmanr(div.assembled_bp, div.shannon_H_amp)\n",
    "## SpearmanrResult(correlation=0.9390838989154104, pvalue=0.0)"
   ]
  },
  {
   "cell_type": "code",
   "execution_count": 17,
   "id": "347b425b",
   "metadata": {},
   "outputs": [
    {
     "data": {
      "text/plain": [
       "SpearmanrResult(correlation=-0.11642159722107948, pvalue=2.688420030554117e-181)"
      ]
     },
     "execution_count": 17,
     "metadata": {},
     "output_type": "execute_result"
    }
   ],
   "source": [
    "spearmanr(div.assembled_bp, div.amp_density)\n",
    "## SpearmanrResult(correlation=-0.11880114166275109, pvalue=7.80750789022028e-186)"
   ]
  },
  {
   "cell_type": "code",
   "execution_count": 18,
   "id": "7a729cc0",
   "metadata": {},
   "outputs": [
    {
     "data": {
      "text/plain": [
       "SpearmanrResult(correlation=0.16425794445969033, pvalue=0.0)"
      ]
     },
     "execution_count": 18,
     "metadata": {},
     "output_type": "execute_result"
    }
   ],
   "source": [
    "spearmanr(div.shannon_H_amp, div.amp_density)\n",
    "## SpearmanrResult(correlation=0.16354565455715206, pvalue=0.0)"
   ]
  },
  {
   "cell_type": "code",
   "execution_count": 19,
   "id": "49b2c692",
   "metadata": {},
   "outputs": [
    {
     "data": {
      "text/html": [
       "<div>\n",
       "<style scoped>\n",
       "    .dataframe tbody tr th:only-of-type {\n",
       "        vertical-align: middle;\n",
       "    }\n",
       "\n",
       "    .dataframe tbody tr th {\n",
       "        vertical-align: top;\n",
       "    }\n",
       "\n",
       "    .dataframe thead th {\n",
       "        text-align: right;\n",
       "    }\n",
       "</style>\n",
       "<table border=\"1\" class=\"dataframe\">\n",
       "  <thead>\n",
       "    <tr style=\"text-align: right;\">\n",
       "      <th></th>\n",
       "      <th>sample</th>\n",
       "      <th>general_envo_name</th>\n",
       "      <th>assembled_bp</th>\n",
       "      <th>redundant_amps</th>\n",
       "      <th>nr_amps</th>\n",
       "      <th>amp_density</th>\n",
       "      <th>shannon_H_amp</th>\n",
       "      <th>shannon_H_mOTUs</th>\n",
       "    </tr>\n",
       "  </thead>\n",
       "  <tbody>\n",
       "    <tr>\n",
       "      <th>0</th>\n",
       "      <td>100822046-x-0-x-ST</td>\n",
       "      <td>human gut</td>\n",
       "      <td>110512142</td>\n",
       "      <td>62</td>\n",
       "      <td>60</td>\n",
       "      <td>561.024326</td>\n",
       "      <td>4.082415</td>\n",
       "      <td>3.386159</td>\n",
       "    </tr>\n",
       "    <tr>\n",
       "      <th>1</th>\n",
       "      <td>103092734-palatinetonsils3</td>\n",
       "      <td>human mouth</td>\n",
       "      <td>197407958</td>\n",
       "      <td>98</td>\n",
       "      <td>97</td>\n",
       "      <td>496.433887</td>\n",
       "      <td>4.570822</td>\n",
       "      <td>3.638471</td>\n",
       "    </tr>\n",
       "    <tr>\n",
       "      <th>2</th>\n",
       "      <td>103092734-subgingivalplaque3</td>\n",
       "      <td>human mouth</td>\n",
       "      <td>136837353</td>\n",
       "      <td>73</td>\n",
       "      <td>72</td>\n",
       "      <td>533.480065</td>\n",
       "      <td>4.271469</td>\n",
       "      <td>4.235631</td>\n",
       "    </tr>\n",
       "    <tr>\n",
       "      <th>3</th>\n",
       "      <td>103092734-supragingivalplaque3</td>\n",
       "      <td>human mouth</td>\n",
       "      <td>106787798</td>\n",
       "      <td>50</td>\n",
       "      <td>50</td>\n",
       "      <td>468.218288</td>\n",
       "      <td>3.912023</td>\n",
       "      <td>3.768959</td>\n",
       "    </tr>\n",
       "    <tr>\n",
       "      <th>4</th>\n",
       "      <td>1062629-24-0-0</td>\n",
       "      <td>human gut</td>\n",
       "      <td>180877636</td>\n",
       "      <td>114</td>\n",
       "      <td>114</td>\n",
       "      <td>630.260338</td>\n",
       "      <td>4.736198</td>\n",
       "      <td>4.030651</td>\n",
       "    </tr>\n",
       "    <tr>\n",
       "      <th>...</th>\n",
       "      <td>...</td>\n",
       "      <td>...</td>\n",
       "      <td>...</td>\n",
       "      <td>...</td>\n",
       "      <td>...</td>\n",
       "      <td>...</td>\n",
       "      <td>...</td>\n",
       "      <td>...</td>\n",
       "    </tr>\n",
       "    <tr>\n",
       "      <th>60407</th>\n",
       "      <td>tigress_HD.S14-x-392-x-OR</td>\n",
       "      <td>human saliva</td>\n",
       "      <td>227034094</td>\n",
       "      <td>92</td>\n",
       "      <td>91</td>\n",
       "      <td>405.225481</td>\n",
       "      <td>4.506720</td>\n",
       "      <td>4.043912</td>\n",
       "    </tr>\n",
       "    <tr>\n",
       "      <th>60408</th>\n",
       "      <td>tigress_HD.S14-x-392-x-ST</td>\n",
       "      <td>human gut</td>\n",
       "      <td>170456936</td>\n",
       "      <td>70</td>\n",
       "      <td>69</td>\n",
       "      <td>410.660907</td>\n",
       "      <td>4.228691</td>\n",
       "      <td>3.767198</td>\n",
       "    </tr>\n",
       "    <tr>\n",
       "      <th>60409</th>\n",
       "      <td>tigress_HD.S14-x-60-x-ST</td>\n",
       "      <td>human gut</td>\n",
       "      <td>176591235</td>\n",
       "      <td>86</td>\n",
       "      <td>85</td>\n",
       "      <td>487.000388</td>\n",
       "      <td>4.438228</td>\n",
       "      <td>3.654902</td>\n",
       "    </tr>\n",
       "    <tr>\n",
       "      <th>60410</th>\n",
       "      <td>tigress_HD.S14-x-7-x-OR</td>\n",
       "      <td>human saliva</td>\n",
       "      <td>73749208</td>\n",
       "      <td>20</td>\n",
       "      <td>20</td>\n",
       "      <td>271.189353</td>\n",
       "      <td>2.995732</td>\n",
       "      <td>3.779485</td>\n",
       "    </tr>\n",
       "    <tr>\n",
       "      <th>60411</th>\n",
       "      <td>tigress_HD.S14-x-7-x-ST</td>\n",
       "      <td>human gut</td>\n",
       "      <td>201973206</td>\n",
       "      <td>108</td>\n",
       "      <td>107</td>\n",
       "      <td>534.724393</td>\n",
       "      <td>4.669295</td>\n",
       "      <td>3.857525</td>\n",
       "    </tr>\n",
       "  </tbody>\n",
       "</table>\n",
       "<p>60412 rows × 8 columns</p>\n",
       "</div>"
      ],
      "text/plain": [
       "                               sample general_envo_name  assembled_bp  \\\n",
       "0                  100822046-x-0-x-ST         human gut     110512142   \n",
       "1          103092734-palatinetonsils3       human mouth     197407958   \n",
       "2        103092734-subgingivalplaque3       human mouth     136837353   \n",
       "3      103092734-supragingivalplaque3       human mouth     106787798   \n",
       "4                      1062629-24-0-0         human gut     180877636   \n",
       "...                               ...               ...           ...   \n",
       "60407       tigress_HD.S14-x-392-x-OR      human saliva     227034094   \n",
       "60408       tigress_HD.S14-x-392-x-ST         human gut     170456936   \n",
       "60409        tigress_HD.S14-x-60-x-ST         human gut     176591235   \n",
       "60410         tigress_HD.S14-x-7-x-OR      human saliva      73749208   \n",
       "60411         tigress_HD.S14-x-7-x-ST         human gut     201973206   \n",
       "\n",
       "       redundant_amps  nr_amps  amp_density  shannon_H_amp  shannon_H_mOTUs  \n",
       "0                  62       60   561.024326       4.082415         3.386159  \n",
       "1                  98       97   496.433887       4.570822         3.638471  \n",
       "2                  73       72   533.480065       4.271469         4.235631  \n",
       "3                  50       50   468.218288       3.912023         3.768959  \n",
       "4                 114      114   630.260338       4.736198         4.030651  \n",
       "...               ...      ...          ...            ...              ...  \n",
       "60407              92       91   405.225481       4.506720         4.043912  \n",
       "60408              70       69   410.660907       4.228691         3.767198  \n",
       "60409              86       85   487.000388       4.438228         3.654902  \n",
       "60410              20       20   271.189353       2.995732         3.779485  \n",
       "60411             108      107   534.724393       4.669295         3.857525  \n",
       "\n",
       "[60412 rows x 8 columns]"
      ]
     },
     "execution_count": 19,
     "metadata": {},
     "output_type": "execute_result"
    }
   ],
   "source": [
    "div = div.rename({'shannon_H': 'shannon_H_mOTUs'}, axis=1)\n",
    "\n",
    "div=div[['sample', 'general_envo_name', 'assembled_bp',\n",
    "         'redundant_amps', 'nr_amps', 'amp_density',\n",
    "         'shannon_H_amp', 'shannon_H_mOTUs']]\n",
    "\n",
    "# div.to_csv('diversity_samples_AMPSphere.tsv.gz', sep='\\t', header=True, index=None)\n",
    "\n",
    "div"
   ]
  },
  {
   "cell_type": "code",
   "execution_count": 20,
   "id": "a3e373ee",
   "metadata": {},
   "outputs": [
    {
     "data": {
      "text/plain": [
       "Text(336.9714285714286, 0.5, 'AMP density')"
      ]
     },
     "execution_count": 20,
     "metadata": {},
     "output_type": "execute_result"
    },
    {
     "data": {
      "image/png": "[encoded data removed]",
      "text/plain": [
       "<Figure size 432x432 with 3 Axes>"
      ]
     },
     "metadata": {
      "needs_background": "light"
     },
     "output_type": "display_data"
    }
   ],
   "source": [
    "sns.jointplot(data=div.sample(5000),\n",
    "              x='shannon_H_mOTUs',\n",
    "              y='amp_density',\n",
    "              s=3)\n",
    "\n",
    "plt.xlabel('Species diversity - Shannon H')\n",
    "plt.ylabel('AMP density')"
   ]
  },
  {
   "cell_type": "code",
   "execution_count": 21,
   "id": "0759ffcb",
   "metadata": {},
   "outputs": [
    {
     "data": {
      "text/plain": [
       "Text(336.9714285714286, 0.5, 'AMPs diversity - Shannon H')"
      ]
     },
     "execution_count": 21,
     "metadata": {},
     "output_type": "execute_result"
    },
    {
     "data": {
      "image/png": "[encoded data removed]",
      "text/plain": [
       "<Figure size 432x432 with 3 Axes>"
      ]
     },
     "metadata": {
      "needs_background": "light"
     },
     "output_type": "display_data"
    }
   ],
   "source": [
    "sns.jointplot(data=div.sample(5000),\n",
    "              x='amp_density',\n",
    "              y='shannon_H_amp',\n",
    "              s=3)\n",
    "\n",
    "plt.xlabel('AMP density')\n",
    "plt.ylabel('AMPs diversity - Shannon H')"
   ]
  }
 ],
 "metadata": {
  "kernelspec": {
   "display_name": "Python 3 (ipykernel)",
   "language": "python",
   "name": "python3"
  },
  "language_info": {
   "codemirror_mode": {
    "name": "ipython",
    "version": 3
   },
   "file_extension": ".py",
   "mimetype": "text/x-python",
   "name": "python",
   "nbconvert_exporter": "python",
   "pygments_lexer": "ipython3",
   "version": "3.9.0"
  }
 },
 "nbformat": 4,
 "nbformat_minor": 5
}
