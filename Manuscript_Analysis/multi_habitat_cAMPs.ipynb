{
 "cells": [
  {
   "cell_type": "markdown",
   "id": "b5c6d720",
   "metadata": {},
   "source": [
    "# AMPSphere v.2022-03\n",
    "\n",
    "This is a notebook meant to form the set of notebooks used to analyze the data in AMPSphere and write the manuscript:\n",
    "\n",
    "__AMPSphere: Global survey of prokaryotic antimicrobial peptides shaping microbiomes__"
   ]
  },
  {
   "cell_type": "markdown",
   "id": "16f5a72a",
   "metadata": {},
   "source": [
    "### Analysis of abundance and diversity of c_AMPs\n",
    "\n",
    "c_AMPs are distributed as gene variants through many species. Here, we will test:\n",
    "    \n",
    "    I. Is there multi-habitat c_AMPs?\n",
    "    II. Are multi-habitat c_AMPs clonal?"
   ]
  },
  {
   "cell_type": "code",
   "execution_count": 1,
   "id": "add68fe9",
   "metadata": {},
   "outputs": [],
   "source": [
    "import lzma\n",
    "import random\n",
    "import numpy as np\n",
    "import pandas as pd\n",
    "import seaborn as sns\n",
    "import matplotlib.pyplot as plt\n",
    "\n",
    "from Bio import SeqIO\n",
    "from tqdm import tqdm\n",
    "from scipy.stats import norm\n",
    "from scipy.stats import shapiro\n",
    "from scipy.stats import pearsonr, spearmanr"
   ]
  },
  {
   "cell_type": "code",
   "execution_count": 2,
   "id": "35d8d17c",
   "metadata": {},
   "outputs": [],
   "source": [
    "higher_level = {'sediment' : 'other',\n",
    "        'bird gut' : 'other animal',\n",
    "        'cat gut' : 'non-human mammal gut',\n",
    "        'insect associated' : 'other animal',\n",
    "        'human urogenital tract' : 'other human',\n",
    "        'dog gut' : 'non-human mammal gut',\n",
    "        'fermented food' : 'anthropogenic',\n",
    "        'groundwater' : 'aquatic',\n",
    "        'coral associated' : 'other animal',\n",
    "        'rat gut' : 'non-human mammal gut',\n",
    "        'human associated' : 'other human',\n",
    "        'cattle gut' : 'non-human mammal gut',\n",
    "        'deer gut' : 'non-human mammal gut',\n",
    "        'mouse gut' : 'non-human mammal gut',\n",
    "        'river associated' : 'aquatic',\n",
    "        'primate gut' : 'non-human mammal gut',\n",
    "        'human respiratory tract' : 'other human',\n",
    "        'cattle rumen' : 'other animal',\n",
    "        'human saliva' : 'other human',\n",
    "        'activated sludge' : 'anthropogenic',\n",
    "        'lake associated' : 'aquatic',\n",
    "        'wastewater' : 'anthropogenic',\n",
    "        'chicken gut' : 'other animal',\n",
    "        'air' : 'other',\n",
    "        'human mouth' : 'other human',\n",
    "        'plant associated' : 'soil/plant',\n",
    "        'water associated' : 'aquatic',\n",
    "        'pig gut' : 'non-human mammal gut',\n",
    "        'human skin' : 'other human',\n",
    "        'marine' : 'aquatic',\n",
    "        'soil' : 'soil/plant',\n",
    "        'built environment' : 'anthropogenic',\n",
    "        'human gut' : 'human gut',\n",
    "        'anthropogenic': 'anthropogenic',\n",
    "        'bear gut' : 'non-human mammal gut',\n",
    "        'bee gut': 'other animal',\n",
    "        'bat gut': 'non-human mammal gut',\n",
    "        'dog associated': 'other animal',\n",
    "        'cattle associated': 'other animal',\n",
    "        'crustacean associated': 'other animal',\n",
    "        'insect gut': 'other animal',\n",
    "        'goat gut': 'non-human mammal gut', \n",
    "        'rodent gut': 'non-human mammal gut',\n",
    "        'fisher gut': 'non-human mammal gut',\n",
    "        'human digestive tract': 'other human',\n",
    "        'coyote gut': 'non-human mammal gut',\n",
    "        'planarian associated': 'other animal',\n",
    "        'sponge associated': 'other animal',\n",
    "        'goat rumen': 'other animal',\n",
    "        'crustacean gut': 'other animal',\n",
    "        'annelidae associated': 'other animal',\n",
    "        'bird skin': 'other animal',\n",
    "        'beatle gut': 'other animal',\n",
    "        'termite gut': 'other animal', \n",
    "        'fish gut': 'other animal',\n",
    "        'mollusc associated': 'other animal',\n",
    "        'ship worm associated': 'other animal',\n",
    "        'rabbit gut': 'non-human mammal gut',\n",
    "        'tunicate associated': 'other animal',\n",
    "        'mussel associated': 'other animal',\n",
    "        'horse gut': 'non-human mammal gut',\n",
    "        'wasp gut': 'other animal',\n",
    "        'guinea pig gut': 'non-human mammal gut'}"
   ]
  },
  {
   "cell_type": "code",
   "execution_count": 3,
   "id": "095a431c",
   "metadata": {},
   "outputs": [],
   "source": [
    "# load data\n",
    "data = pd.read_table('data/gmsc_amp_genes_envohr_source.tsv.gz')"
   ]
  },
  {
   "cell_type": "code",
   "execution_count": 4,
   "id": "89d52d2f",
   "metadata": {},
   "outputs": [],
   "source": [
    "# eliminate genes/amps without environment (from ProGenomes)\n",
    "data = data[~data.general_envo_name.isna()]\n",
    "\n",
    "# attribut high-level habitat to genes/amps\n",
    "data['high'] = data.general_envo_name.map(lambda x: higher_level.get(x, 'other'))"
   ]
  },
  {
   "cell_type": "code",
   "execution_count": 5,
   "id": "4479397f",
   "metadata": {},
   "outputs": [],
   "source": [
    "# testing multihabitat AMPs\n",
    "def get_multihabitat(df, level=None):\n",
    "    '''\n",
    "    counts the number of multi-habitat AMPs (present in at least 3 environments)\n",
    "    \n",
    "    :inputs:\n",
    "    data frame containing at least AMP, general_envo_name, high-level habitat\n",
    "    level which stats for the habitat or high-level environment\n",
    "    \n",
    "    :outputs:\n",
    "    length of the list of multi-habitat c_AMPs\n",
    "    '''\n",
    "    if level == None:\n",
    "        level = 'high'\n",
    "    if level == 'low':\n",
    "        level = 'general_envo_name'\n",
    "        \n",
    "    h = df[['amp', level]].drop_duplicates()\n",
    "    h = h.amp.value_counts()\n",
    "    h = h[h > 2].index\n",
    "    \n",
    "    return h"
   ]
  },
  {
   "cell_type": "code",
   "execution_count": 6,
   "id": "316b8f88",
   "metadata": {},
   "outputs": [
    {
     "name": "stdout",
     "output_type": "stream",
     "text": [
      "Multi-habitat AMPs: 26346\n",
      "Multi-high-level-habitat: 10606\n"
     ]
    }
   ],
   "source": [
    "l = get_multihabitat(data, 'high')\n",
    "l0 = get_multihabitat(data, 'low')\n",
    "print(f'Multi-habitat AMPs: {len(l0)}\\nMulti-high-level-habitat: {len(l)}')"
   ]
  },
  {
   "cell_type": "code",
   "execution_count": 7,
   "id": "a4dbf013",
   "metadata": {},
   "outputs": [],
   "source": [
    "k = data[['amp', 'high']].drop_duplicates()['amp'].value_counts()\n",
    "k = k[k>2].index\n",
    "\n",
    "with open('multihabitat_highlevel.txt', 'wt') as out:\n",
    "    for i in k: out.write(f'{i}\\n')\n",
    "\n",
    "k = data[['amp', 'general_envo_name']].drop_duplicates()['amp'].value_counts()\n",
    "k = k[k>2].index\n",
    "\n",
    "with open('multihabitat_generalenvo.txt', 'wt') as out:\n",
    "    for i in k: out.write(f'{i}\\n')"
   ]
  },
  {
   "cell_type": "markdown",
   "id": "7831cff3",
   "metadata": {},
   "source": [
    "### Permutation test\n",
    "\n",
    "We shuffle the high-level habitat annotation for the samples, and then, calculate the number of multi-habitat c_AMPs. This operation is repeated 100 times, and then we calculate the average and standard deviation of the distribution of random results. Using Shapiro-Wilk test, we check if the random distribution is normal, and if it is, we calculate the Z-score for the result obtained for AMPSphere. The Z-score is then converted into a p-value to support our conclusions."
   ]
  },
  {
   "cell_type": "code",
   "execution_count": 8,
   "id": "f914e625",
   "metadata": {},
   "outputs": [],
   "source": [
    "# testing significance\n",
    "def shuffle_test(df, level=None):\n",
    "    if level == None: level = 'high'\n",
    "    elif level == 'low': level = 'general_envo_name'\n",
    "        \n",
    "    habitat = df.set_index('sample')[level].to_dict()\n",
    "    \n",
    "    values = [v for _, v in habitat.items()]\n",
    "    random.shuffle(values)\n",
    "    \n",
    "    for k, v in zip(habitat, values):\n",
    "        habitat[k] = v\n",
    "        \n",
    "    altdf = df.copy()\n",
    "    altdf[level] = altdf['sample'].map(lambda x: habitat.get(x))\n",
    "    \n",
    "    return altdf"
   ]
  },
  {
   "cell_type": "code",
   "execution_count": 9,
   "id": "f119087c",
   "metadata": {},
   "outputs": [
    {
     "name": "stderr",
     "output_type": "stream",
     "text": [
      "100%|███████████████████████████████████████████| 32/32 [13:15<00:00, 24.87s/it]"
     ]
    },
    {
     "name": "stdout",
     "output_type": "stream",
     "text": [
      "[247452, 253865, 253870, 252060, 255273, 254350, 255768, 250557, 250331, 253964, 255878, 254275, 252594, 257028, 257803, 254158, 257213, 254708, 250760, 258274, 254739, 250537, 254988, 252776, 254090, 253171, 260193, 251705, 257012, 258343, 255871, 254805]\n"
     ]
    },
    {
     "name": "stderr",
     "output_type": "stream",
     "text": [
      "\n"
     ]
    }
   ],
   "source": [
    "#test high level habitats\n",
    "test = []\n",
    "for _ in tqdm(range(32)):\n",
    "    altdf = shuffle_test(data, 'high')\n",
    "    altdf = len(get_multihabitat(altdf, 'high'))\n",
    "    test.append(altdf)\n",
    "\n",
    "print(test)"
   ]
  },
  {
   "cell_type": "code",
   "execution_count": 10,
   "id": "ae400d56",
   "metadata": {},
   "outputs": [
    {
     "name": "stdout",
     "output_type": "stream",
     "text": [
      "The Shapiro-Wilks test returned a p = 0.9087615609169006\n",
      "This means that the distribution is normal\n",
      "Average number of random multi-habitat AMPs - 254325.34375, with std = 2702.486871029337\n",
      "The number of multi-habitat AMPs in AMPSphere was 10606\n",
      "It was -90.18335902485659 * std of the random distribution\n",
      "This gives us a p-value of 0.0\n"
     ]
    }
   ],
   "source": [
    "_, p = shapiro(test)\n",
    "\n",
    "if p < 0.05: res = 'not-normal'\n",
    "else: res = 'normal'\n",
    "\n",
    "print(f'The Shapiro-Wilks test returned a p = {p}')\n",
    "print(f'This means that the distribution is {res}')\n",
    "\n",
    "avg, std = np.mean(test), np.std(test)\n",
    "\n",
    "print(f'Average number of random multi-habitat AMPs - {avg}, with std = {std}')\n",
    "\n",
    "Z = (len(l) - avg) / std\n",
    "\n",
    "pz = norm.sf(abs(Z))\n",
    "\n",
    "print(f'The number of multi-habitat AMPs in AMPSphere was {len(l)}')\n",
    "print(f'It was {Z} * std of the random distribution')\n",
    "print(f'This gives us a p-value of {pz}')"
   ]
  },
  {
   "cell_type": "code",
   "execution_count": 11,
   "id": "9793a8cc",
   "metadata": {},
   "outputs": [
    {
     "name": "stderr",
     "output_type": "stream",
     "text": [
      "100%|███████████████████████████████████████████| 32/32 [13:20<00:00, 25.00s/it]"
     ]
    },
    {
     "name": "stdout",
     "output_type": "stream",
     "text": [
      "[264118, 267295, 270065, 273581, 270293, 268954, 272104, 269219, 271854, 269617, 270630, 264865, 268658, 271951, 268026, 275134, 272292, 267355, 270904, 263027, 268803, 271308, 272162, 268219, 271158, 270246, 271824, 271884, 268741, 268316, 270421, 273183]\n"
     ]
    },
    {
     "name": "stderr",
     "output_type": "stream",
     "text": [
      "\n"
     ]
    }
   ],
   "source": [
    "#test habitats\n",
    "test_low = []\n",
    "for _ in tqdm(range(32)):\n",
    "    altdf = shuffle_test(data, 'low')\n",
    "    altdf = len(get_multihabitat(altdf, 'low'))\n",
    "    test_low.append(altdf)\n",
    "\n",
    "print(test_low)"
   ]
  },
  {
   "cell_type": "code",
   "execution_count": 12,
   "id": "a3930c83",
   "metadata": {},
   "outputs": [
    {
     "name": "stdout",
     "output_type": "stream",
     "text": [
      "The Shapiro-Wilks test returned a p = 0.23920124769210815\n",
      "This means that the distribution is normal\n",
      "Average number of random multi-habitat AMPs - 269881.46875, with std = 2636.3309374058936\n",
      "The number of multi-habitat AMPs in AMPSphere was 26346\n",
      "It was -92.37666838201842 * std of the random distribution\n",
      "This gives us a p-value of 0.0\n"
     ]
    }
   ],
   "source": [
    "_, p = shapiro(test_low)\n",
    "\n",
    "if p < 0.05: res = 'not-normal'\n",
    "else: res = 'normal'\n",
    "\n",
    "print(f'The Shapiro-Wilks test returned a p = {p}')\n",
    "print(f'This means that the distribution is {res}')\n",
    "\n",
    "avg, std = np.mean(test_low), np.std(test_low)\n",
    "\n",
    "print(f'Average number of random multi-habitat AMPs - {avg}, with std = {std}')\n",
    "\n",
    "Z = (len(l0) - avg) / std\n",
    "\n",
    "pz = norm.sf(abs(Z))\n",
    "\n",
    "print(f'The number of multi-habitat AMPs in AMPSphere was {len(l0)}')\n",
    "print(f'It was {Z} * std of the random distribution')\n",
    "print(f'This gives us a p-value of {pz}')"
   ]
  },
  {
   "cell_type": "markdown",
   "id": "7fd97631",
   "metadata": {},
   "source": [
    "### Testing gene variants enrichment in multi-habitat c_AMPs"
   ]
  },
  {
   "cell_type": "code",
   "execution_count": 13,
   "id": "d4f3219d",
   "metadata": {},
   "outputs": [],
   "source": [
    "def seqrev(seq):\n",
    "    '''\n",
    "    Checks if (1) sequence starts with an inverse complement of stop codon\n",
    "    and if (2) ends in a stop codon.\n",
    "     \n",
    "    If first is true and second is true - do nothing\n",
    "    If first is true and second is false - do reverse complement\n",
    "    If first is false - do nothing\n",
    "    '''\n",
    "    if (seq[0:3] in {'TTA', 'CTA', 'TCA'}):\n",
    "        if (seq[-3:] in {'TAA', 'TAG', 'TGA'}):\n",
    "            pass\n",
    "        else:\n",
    "            return seq.translate(str.maketrans('ACGT', 'TGCA'))[::-1]\n",
    "    return seq\n",
    "\n",
    "\n",
    "def enrichment(k, x, N, m):\n",
    "    '''\n",
    "    Enrichment test using hypergeometric distribution\n",
    "    :inputs:\n",
    "    k - number of differentially abundant proteins\n",
    "    x - number of genes in the input list with the annotation\n",
    "    N - background number of genes\n",
    "    m - background number of genes with annotation\n",
    "    '''\n",
    "    from scipy.stats import hypergeom\n",
    "    return hypergeom.sf(x, N, k, m)"
   ]
  },
  {
   "cell_type": "code",
   "execution_count": 14,
   "id": "65c10c8d",
   "metadata": {},
   "outputs": [],
   "source": [
    "ntseqs = 'data/AMPSphere_v.2022-03.fna.xz'\n",
    "\n",
    "# collecting genes\n",
    "hseqs = []\n",
    "with lzma.open(ntseqs, 'rt') as infile:\n",
    "    for record in SeqIO.parse(infile, 'fasta'):\n",
    "        h = record.description.split(' | ')[1]\n",
    "        s = seqrev(str(record.seq))\n",
    "        hseqs.append((h, s))\n",
    "\n",
    "# checking number of gene variants\n",
    "hseqs = set(hseqs)\n",
    "df = pd.DataFrame(hseqs, columns=['AMP', 'gene'])\n",
    "df = df.sort_values(by='AMP')\n",
    "vargenes = df.AMP.value_counts()"
   ]
  },
  {
   "cell_type": "code",
   "execution_count": 15,
   "id": "37e8fa1c",
   "metadata": {},
   "outputs": [
    {
     "name": "stdout",
     "output_type": "stream",
     "text": [
      "Enrichment of multi-variant AMPs among the multi-habitat -- general envo:\n",
      "Proportion: 55.83769832232597  Background proportion: 10.52972907870082\n",
      "Enrichment: 5.302861821513773        p-value: 0.0\n"
     ]
    }
   ],
   "source": [
    "# general habitat -- multihabitat AMPs\n",
    "x = vargenes.loc[l0]\n",
    "m = len(vargenes[vargenes > 2])\n",
    "N = len(vargenes)\n",
    "k, x = len(x), len(x[x>2])\n",
    "p = enrichment(k, x, N, m)\n",
    "enr = (x/k) / (m/N)\n",
    "\n",
    "print(f'''Enrichment of multi-variant AMPs among the multi-habitat -- general envo:\n",
    "Proportion: {x*100/k}  Background proportion: {m*100/N}\n",
    "Enrichment: {enr}        p-value: {p}''')"
   ]
  },
  {
   "cell_type": "code",
   "execution_count": 16,
   "id": "22df82ed",
   "metadata": {},
   "outputs": [
    {
     "name": "stdout",
     "output_type": "stream",
     "text": [
      "Enrichment of multi-variant AMPs among the multi-habitat -- high envo:\n",
      "Proportion: 59.2966245521403  Background proportion: 10.52972907870082\n",
      "Enrichment: 5.631353295887119        p-value: 0.0\n"
     ]
    }
   ],
   "source": [
    "# high-level habitats -- multihabitat AMPs\n",
    "x = vargenes.loc[l]\n",
    "m = len(vargenes[vargenes > 2])\n",
    "N = len(vargenes)\n",
    "k, x = len(x), len(x[x>2])\n",
    "p = enrichment(k, x, N, m)\n",
    "enr = (x/k) / (m/N)\n",
    "\n",
    "print(f'''Enrichment of multi-variant AMPs among the multi-habitat -- high envo:\n",
    "Proportion: {x*100/k}  Background proportion: {m*100/N}\n",
    "Enrichment: {enr}        p-value: {p}''')"
   ]
  }
 ],
 "metadata": {
  "kernelspec": {
   "display_name": "Python 3 (ipykernel)",
   "language": "python",
   "name": "python3"
  },
  "language_info": {
   "codemirror_mode": {
    "name": "ipython",
    "version": 3
   },
   "file_extension": ".py",
   "mimetype": "text/x-python",
   "name": "python",
   "nbconvert_exporter": "python",
   "pygments_lexer": "ipython3",
   "version": "3.9.0"
  }
 },
 "nbformat": 4,
 "nbformat_minor": 5
}
