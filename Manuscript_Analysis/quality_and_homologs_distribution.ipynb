{
 "cells": [
  {
   "cell_type": "markdown",
   "id": "3536c017",
   "metadata": {},
   "source": [
    "# AMPSphere v.2022-03\n",
    "\n",
    "This is a notebook meant to form the set of notebooks used to analyze the data in AMPSphere and write the manuscript:\n",
    "\n",
    "__AMPSphere: Global survey of prokaryotic antimicrobial peptides shaping microbiomes__\n",
    "\n",
    "Figures generated in this script formed the panel shown in Figure 1B.\n",
    "\n",
    "### Comparison of c_AMPs and other validated proteins\n",
    "\n",
    "Here we show the quality of homologs distributed by database.\n"
   ]
  },
  {
   "cell_type": "code",
   "execution_count": 1,
   "id": "a99a539b",
   "metadata": {},
   "outputs": [],
   "source": [
    "# import libraries\n",
    "import pandas as pd\n",
    "import seaborn as sns\n",
    "import matplotlib.pyplot as plt\n",
    "from scipy.stats import hypergeom"
   ]
  },
  {
   "cell_type": "code",
   "execution_count": 20,
   "id": "7452ab25",
   "metadata": {},
   "outputs": [],
   "source": [
    "# load data\n",
    "dramp = pd.read_table('data/dramp_candidates.txt.gz', header=None)\n",
    "smprot = pd.read_table('data/SmProt_candidates.txt.gz', header=None)\n",
    "starpep = pd.read_table('data/starPepDB_candidates.txt.gz', header=None)\n",
    "storfs = pd.read_table('data/STsORFs_candidates.txt.gz', header=None)\n",
    "gmgc = pd.read_table('data/gmgc_candidates.txt.gz', header=None)"
   ]
  },
  {
   "cell_type": "code",
   "execution_count": 3,
   "id": "0c48663c",
   "metadata": {},
   "outputs": [],
   "source": [
    "# proportion of quality candidates\n",
    "q = pd.read_table('data/high_quality_candidates.txt.gz', header=None)\n",
    "qq = pd.read_table('data/quality_candidates.txt.gz', header=None)\n",
    "q = pd.concat([q, qq])\n",
    "q = set(q[0])\n",
    "\n",
    "qualprop = []\n",
    "for k in [starpep, dramp, smprot, gmgc]:\n",
    "    n1 = len(set(k[0]).intersection(q))\n",
    "    qualprop.append(n1)"
   ]
  },
  {
   "cell_type": "code",
   "execution_count": 4,
   "id": "e03f3b2d",
   "metadata": {},
   "outputs": [
    {
     "data": {
      "text/plain": [
       "([<matplotlib.patches.Wedge at 0x7f0548650a00>,\n",
       "  <matplotlib.patches.Wedge at 0x7f05485e71c0>],\n",
       " [Text(-1.0606143793710532, 0.291714137935335, 'Unknown candidates'),\n",
       "  Text(1.15703386095599, -0.3182336321026974, 'Homologs')],\n",
       " [Text(-0.5785169342023926, 0.1591168025101827, '91%'),\n",
       "  Text(0.6749364188909942, -0.18563628539324015, '9%')])"
      ]
     },
     "execution_count": 4,
     "metadata": {},
     "output_type": "execute_result"
    },
    {
     "data": {
      "image/png": "[encoded data removed]",
      "text/plain": [
       "<Figure size 432x288 with 1 Axes>"
      ]
     },
     "metadata": {},
     "output_type": "display_data"
    }
   ],
   "source": [
    "# generate 1st graph\n",
    "total_amps = 863_498\n",
    "homologs = pd.concat([dramp, smprot, starpep, storfs, gmgc])\n",
    "homologs = set(homologs[0])\n",
    "data = [total_amps - len(homologs), len(homologs)]\n",
    "classes = ['Unknown candidates', 'Homologs']\n",
    "explode = [0, 0.1]\n",
    "\n",
    "palette_color = sns.color_palette('Dark2')\n",
    "plt.pie(data,\n",
    "        labels=classes,\n",
    "        colors=palette_color,\n",
    "        explode=explode,\n",
    "        autopct='%.0f%%')"
   ]
  },
  {
   "cell_type": "code",
   "execution_count": 5,
   "id": "a3de9ece",
   "metadata": {},
   "outputs": [],
   "source": [
    "# generate 2nd graph\n",
    "data = [len(dramp), len(smprot), len(starpep), len(storfs), len(gmgc)]\n",
    "classes = ['DRAMP v3', 'SmProt2', 'StarPepDB45k', 'STsORFs', 'GMGC v1']\n",
    "data = pd.DataFrame(data, index=classes)\n",
    "data = data.sort_values(by=0)\n",
    "data = data.drop('STsORFs', axis=0)\n",
    "\n",
    "data['high_quality'] = qualprop\n",
    "data.rename({0: 'total AMP candidates'}, axis=1, inplace=True)\n",
    "data['other'] = data['total AMP candidates'] - data['high_quality']\n",
    "\n",
    "pq = len(q) / 863498\n",
    "data['prop_ampsphere'] = data['total AMP candidates'] * pq"
   ]
  },
  {
   "cell_type": "code",
   "execution_count": 6,
   "id": "4024e8c7",
   "metadata": {},
   "outputs": [
    {
     "data": {
      "image/png": "[encoded data removed]",
      "text/plain": [
       "<Figure size 432x288 with 1 Axes>"
      ]
     },
     "metadata": {
      "needs_background": "light"
     },
     "output_type": "display_data"
    }
   ],
   "source": [
    "fig, ax = plt.subplots()\n",
    "sns.barplot(ax=ax,\n",
    "            data=data/1000,\n",
    "            y='total AMP candidates',\n",
    "            x=data.index,\n",
    "            color='gray',\n",
    "            label='Other AMP candidates')\n",
    "\n",
    "sns.barplot(ax=ax,\n",
    "            data=data/1000,\n",
    "            y='high_quality',\n",
    "            x=data.index,\n",
    "            color='black',\n",
    "            label='High quality AMP candidates')\n",
    "\n",
    "ax.set_xlabel('Databases')\n",
    "ax.set_ylabel('Thousands of AMP candidates')\n",
    "ax.set_xticklabels(data.index, rotation=35)\n",
    "\n",
    "for i, c in enumerate(data.prop_ampsphere):\n",
    "    if i == 0:\n",
    "        ax.hlines(y=c/1000, xmin=i-0.5,\n",
    "                  xmax=i+0.5, linestyles='dashed',\n",
    "                  color='red', label='Quality candidates in AMPSphere')\n",
    "    else:\n",
    "        ax.hlines(y=c/1000, xmin=i-0.5,\n",
    "                  xmax=i+0.5, linestyles='dashed',\n",
    "                  color='red')\n",
    "\n",
    "plt.legend()\n",
    "plt.tight_layout()"
   ]
  },
  {
   "cell_type": "code",
   "execution_count": 9,
   "id": "a79db939",
   "metadata": {},
   "outputs": [
    {
     "name": "stdout",
     "output_type": "stream",
     "text": [
      "Enrichment of quality candidates among the c_AMPs homologs to DRAMP v.3.0\n",
      "\n",
      "Proportion of quality candidates among the annotated: 23.599936898564444\n",
      "Proportion of quality candidates among the AMPSphere: 9.289309297763284\n",
      "Enrichment: 2.540548079742261 fold\n",
      "p-value: 4.220811718840738e-250\n"
     ]
    }
   ],
   "source": [
    "# calculate enrichment\n",
    "m = len(set(dramp[0]).intersection(q))\n",
    "M = len(dramp)\n",
    "n = len(q)\n",
    "N = 863_498\n",
    "p = hypergeom.sf(m, N, n, M)\n",
    "e = (m*N)/(n*M)\n",
    "\n",
    "print(f'''Enrichment of quality candidates among the c_AMPs homologs to DRAMP v.3.0\n",
    "\n",
    "Proportion of quality candidates among the annotated: {m*100/M}\n",
    "Proportion of quality candidates among the AMPSphere: {n*100/N}\n",
    "Enrichment: {e} fold\n",
    "p-value: {p}''')"
   ]
  },
  {
   "cell_type": "code",
   "execution_count": 10,
   "id": "b0961663",
   "metadata": {},
   "outputs": [],
   "source": [
    "def getproportions(amps, quality):\n",
    "    '''\n",
    "    Get percent of passing AMPs per test\n",
    "    in a given set of AMPs\n",
    "    \n",
    "    :inputs:\n",
    "    amps - list of amps\n",
    "    quality - pandas dataframe with the\n",
    "              quality assessment per AMP\n",
    "    \n",
    "    :output:\n",
    "    dataframe with the index as different quality\n",
    "    tests and the percent of homologs passing the\n",
    "    tests\n",
    "    '''\n",
    "    dftmp = quality[quality.AMP.isin(amps)]\n",
    "    dftmp = dftmp.drop('AMP', axis=1)\n",
    "    dftmp = dftmp.replace('Passed', 1)\n",
    "    dftmp = dftmp.replace('Failed', 0)\n",
    "    dftmp = dftmp.replace('Not tested', 0)\n",
    "    return dftmp.sum(axis=0) * 100 / len(amps)"
   ]
  },
  {
   "cell_type": "code",
   "execution_count": 23,
   "id": "e66d24e6",
   "metadata": {},
   "outputs": [],
   "source": [
    "# determine the proportion of AMPs passing each test\n",
    "# by homologs sets identified with different dbs\n",
    "qual = pd.read_table('data/quality_assessment.tsv.gz')\n",
    "\n",
    "dramp = getproportions(dramp[0], qual)\n",
    "gmgc = getproportions(gmgc[0], qual)\n",
    "smprot = getproportions(smprot[0], qual)\n",
    "starpep = getproportions(starpep[0], qual)\n",
    "storfs = getproportions(storfs[0], qual)"
   ]
  },
  {
   "cell_type": "code",
   "execution_count": 24,
   "id": "b03484d2",
   "metadata": {},
   "outputs": [
    {
     "data": {
      "text/html": [
       "<div>\n",
       "<style scoped>\n",
       "    .dataframe tbody tr th:only-of-type {\n",
       "        vertical-align: middle;\n",
       "    }\n",
       "\n",
       "    .dataframe tbody tr th {\n",
       "        vertical-align: top;\n",
       "    }\n",
       "\n",
       "    .dataframe thead th {\n",
       "        text-align: right;\n",
       "    }\n",
       "</style>\n",
       "<table border=\"1\" class=\"dataframe\">\n",
       "  <thead>\n",
       "    <tr style=\"text-align: right;\">\n",
       "      <th></th>\n",
       "      <th>Quality test</th>\n",
       "      <th>DRAMP v3.0</th>\n",
       "      <th>GMGC v1</th>\n",
       "      <th>SmProt 2</th>\n",
       "      <th>starPep45k</th>\n",
       "      <th>STsORFs</th>\n",
       "    </tr>\n",
       "  </thead>\n",
       "  <tbody>\n",
       "    <tr>\n",
       "      <th>0</th>\n",
       "      <td>Antifam</td>\n",
       "      <td>100.000000</td>\n",
       "      <td>99.429695</td>\n",
       "      <td>100.000000</td>\n",
       "      <td>100.000000</td>\n",
       "      <td>100.000000</td>\n",
       "    </tr>\n",
       "    <tr>\n",
       "      <th>1</th>\n",
       "      <td>RNAcode</td>\n",
       "      <td>92.869538</td>\n",
       "      <td>43.623402</td>\n",
       "      <td>85.193175</td>\n",
       "      <td>92.830912</td>\n",
       "      <td>63.636364</td>\n",
       "    </tr>\n",
       "    <tr>\n",
       "      <th>2</th>\n",
       "      <td>metaproteomes</td>\n",
       "      <td>9.717621</td>\n",
       "      <td>3.397247</td>\n",
       "      <td>10.492253</td>\n",
       "      <td>9.771675</td>\n",
       "      <td>0.000000</td>\n",
       "    </tr>\n",
       "    <tr>\n",
       "      <th>3</th>\n",
       "      <td>metatranscriptomes</td>\n",
       "      <td>11.926171</td>\n",
       "      <td>22.781055</td>\n",
       "      <td>19.768582</td>\n",
       "      <td>12.022992</td>\n",
       "      <td>36.363636</td>\n",
       "    </tr>\n",
       "    <tr>\n",
       "      <th>4</th>\n",
       "      <td>Coordinates</td>\n",
       "      <td>27.086291</td>\n",
       "      <td>100.000000</td>\n",
       "      <td>34.882657</td>\n",
       "      <td>27.031774</td>\n",
       "      <td>72.727273</td>\n",
       "    </tr>\n",
       "  </tbody>\n",
       "</table>\n",
       "</div>"
      ],
      "text/plain": [
       "         Quality test  DRAMP v3.0     GMGC v1    SmProt 2  starPep45k  \\\n",
       "0             Antifam  100.000000   99.429695  100.000000  100.000000   \n",
       "1             RNAcode   92.869538   43.623402   85.193175   92.830912   \n",
       "2       metaproteomes    9.717621    3.397247   10.492253    9.771675   \n",
       "3  metatranscriptomes   11.926171   22.781055   19.768582   12.022992   \n",
       "4         Coordinates   27.086291  100.000000   34.882657   27.031774   \n",
       "\n",
       "      STsORFs  \n",
       "0  100.000000  \n",
       "1   63.636364  \n",
       "2    0.000000  \n",
       "3   36.363636  \n",
       "4   72.727273  "
      ]
     },
     "execution_count": 24,
     "metadata": {},
     "output_type": "execute_result"
    }
   ],
   "source": [
    "# formatting data frame\n",
    "df = pd.concat([dramp,\n",
    "                gmgc,\n",
    "                smprot,\n",
    "                starpep,\n",
    "                storfs],\n",
    "               axis=1)\n",
    "\n",
    "df.columns = ['DRAMP v3.0', 'GMGC v1',\n",
    "              'SmProt 2', 'starPep45k',\n",
    "              'STsORFs']\n",
    "\n",
    "df = df.reset_index()\n",
    "df = df.rename({'index': 'Quality test'}, axis=1)\n",
    "df"
   ]
  },
  {
   "cell_type": "code",
   "execution_count": 25,
   "id": "3f9c2e86",
   "metadata": {},
   "outputs": [
    {
     "data": {
      "text/plain": [
       "{'Antifam': 99.95043416429453,\n",
       " 'RNAcode': 24.947481059597127,\n",
       " 'metaproteomes': 0.9980335796956101,\n",
       " 'metatranscriptomes': 19.314346993276185,\n",
       " 'Coordinates': 68.39726322469768}"
      ]
     },
     "execution_count": 25,
     "metadata": {},
     "output_type": "execute_result"
    }
   ],
   "source": [
    "# determined general parameters in the entire AMPSphere\n",
    "ampsphere_limits = getproportions(qual.AMP.tolist(), qual).to_dict()\n",
    "ampsphere_limits"
   ]
  },
  {
   "cell_type": "code",
   "execution_count": 26,
   "id": "79a6bdb8",
   "metadata": {},
   "outputs": [],
   "source": [
    "x = df.melt(id_vars=['Quality test'], value_vars=df.columns[1:])\n",
    "\n",
    "x.rename({'value': '% of homologs',\n",
    "          'variable': 'Database'},\n",
    "         axis=1,\n",
    "         inplace=True)"
   ]
  },
  {
   "cell_type": "code",
   "execution_count": 28,
   "id": "68b7de73",
   "metadata": {},
   "outputs": [
    {
     "data": {
      "image/png": "[encoded data removed]",
      "text/plain": [
       "<Figure size 432x288 with 1 Axes>"
      ]
     },
     "metadata": {
      "needs_background": "light"
     },
     "output_type": "display_data"
    }
   ],
   "source": [
    "# plot\n",
    "fig, ax = plt.subplots()\n",
    "sns.barplot(x='Quality test', y='% of homologs', hue='Database', data=x)\n",
    "\n",
    "# iterate over range of number of rows\n",
    "for i, c in enumerate(ampsphere_limits):\n",
    "    ax.hlines(y=ampsphere_limits[c], xmin=i-0.5,\n",
    "              xmax=i+0.5, linestyles='dashed',\n",
    "              color='black')\n",
    "\n",
    "plt.xlabel('')\n",
    "ax.set_xticklabels(ax.get_xticklabels(),rotation = 30)\n",
    "plt.tight_layout()"
   ]
  },
  {
   "cell_type": "code",
   "execution_count": 29,
   "id": "cbf8beba",
   "metadata": {},
   "outputs": [],
   "source": [
    "qual['Experimental evidence'] = 'Failed'\n",
    "a, b = (qual.metaproteomes == 'Passed'), (qual.metatranscriptomes == 'Passed')\n",
    "qual.loc[a | b, 'Experimental evidence'] = 'Passed'\n",
    "qual.drop(['metaproteomes', 'metatranscriptomes'], axis=1, inplace=True)"
   ]
  },
  {
   "cell_type": "code",
   "execution_count": 32,
   "id": "816a80b0",
   "metadata": {},
   "outputs": [],
   "source": [
    "# counting amps per class\n",
    "expevd = qual['Experimental evidence'].value_counts()\n",
    "antifam = qual.Antifam.value_counts()\n",
    "rna = qual.RNAcode.value_counts()\n",
    "terminal = qual.Coordinates.value_counts()"
   ]
  },
  {
   "cell_type": "code",
   "execution_count": 33,
   "id": "ff7cafc8",
   "metadata": {},
   "outputs": [
    {
     "data": {
      "text/html": [
       "<div>\n",
       "<style scoped>\n",
       "    .dataframe tbody tr th:only-of-type {\n",
       "        vertical-align: middle;\n",
       "    }\n",
       "\n",
       "    .dataframe tbody tr th {\n",
       "        vertical-align: top;\n",
       "    }\n",
       "\n",
       "    .dataframe thead th {\n",
       "        text-align: right;\n",
       "    }\n",
       "</style>\n",
       "<table border=\"1\" class=\"dataframe\">\n",
       "  <thead>\n",
       "    <tr style=\"text-align: right;\">\n",
       "      <th></th>\n",
       "      <th>Passed</th>\n",
       "      <th>Failed</th>\n",
       "      <th>Not tested</th>\n",
       "    </tr>\n",
       "  </thead>\n",
       "  <tbody>\n",
       "    <tr>\n",
       "      <th>Antifam</th>\n",
       "      <td>863070.0</td>\n",
       "      <td>428.0</td>\n",
       "      <td>0.0</td>\n",
       "    </tr>\n",
       "    <tr>\n",
       "      <th>Terminal placement</th>\n",
       "      <td>590609.0</td>\n",
       "      <td>272889.0</td>\n",
       "      <td>0.0</td>\n",
       "    </tr>\n",
       "    <tr>\n",
       "      <th>Experimental evidence</th>\n",
       "      <td>172840.0</td>\n",
       "      <td>690658.0</td>\n",
       "      <td>0.0</td>\n",
       "    </tr>\n",
       "    <tr>\n",
       "      <th>RNAcode</th>\n",
       "      <td>215421.0</td>\n",
       "      <td>188167.0</td>\n",
       "      <td>459910.0</td>\n",
       "    </tr>\n",
       "  </tbody>\n",
       "</table>\n",
       "</div>"
      ],
      "text/plain": [
       "                         Passed    Failed  Not tested\n",
       "Antifam                863070.0     428.0         0.0\n",
       "Terminal placement     590609.0  272889.0         0.0\n",
       "Experimental evidence  172840.0  690658.0         0.0\n",
       "RNAcode                215421.0  188167.0    459910.0"
      ]
     },
     "execution_count": 33,
     "metadata": {},
     "output_type": "execute_result"
    }
   ],
   "source": [
    "df = pd.concat([antifam, terminal, expevd, rna], axis=1).fillna(0)\n",
    "df.columns = ['Antifam', 'Terminal placement', 'Experimental evidence', 'RNAcode']\n",
    "df = df.T\n",
    "df"
   ]
  },
  {
   "cell_type": "code",
   "execution_count": 34,
   "id": "6064bbac",
   "metadata": {},
   "outputs": [
    {
     "data": {
      "image/png": "[encoded data removed]",
      "text/plain": [
       "<Figure size 432x288 with 1 Axes>"
      ]
     },
     "metadata": {
      "needs_background": "light"
     },
     "output_type": "display_data"
    }
   ],
   "source": [
    "df.plot.barh(stacked=True, cmap='Dark2')\n",
    "plt.xlabel('AMP candidates')\n",
    "plt.ylabel('Quality tests')\n",
    "plt.tight_layout()"
   ]
  }
 ],
 "metadata": {
  "kernelspec": {
   "display_name": "Python 3 (ipykernel)",
   "language": "python",
   "name": "python3"
  },
  "language_info": {
   "codemirror_mode": {
    "name": "ipython",
    "version": 3
   },
   "file_extension": ".py",
   "mimetype": "text/x-python",
   "name": "python",
   "nbconvert_exporter": "python",
   "pygments_lexer": "ipython3",
   "version": "3.9.0"
  }
 },
 "nbformat": 4,
 "nbformat_minor": 5
}
