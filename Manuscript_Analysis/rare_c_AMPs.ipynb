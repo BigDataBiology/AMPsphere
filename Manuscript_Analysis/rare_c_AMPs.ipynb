{
 "cells": [
  {
   "cell_type": "markdown",
   "id": "7b2946ef",
   "metadata": {},
   "source": [
    "### Studying prevalence and rarity\n",
    "\n",
    "c_AMPs were checked for their rarity, by verifying the number of samples they were present for each high level habitat group. After we plot the results and check the percent of c_AMPs are present in 10 or less samples (0.02% of AMPSphere samples), ergo rare c_AMPs."
   ]
  },
  {
   "cell_type": "code",
   "execution_count": null,
   "id": "3b6c86c5",
   "metadata": {},
   "outputs": [],
   "source": [
    "tf = data.groupby(['high', 'amp']).agg('size').reset_index()\n",
    "tf = tf.rename({0: 'number of detections'}, axis=1)\n",
    "tf = tf.groupby(['high', 'number of detections']).agg('size').reset_index()\n",
    "tf = tf.rename({0: 'number of c_AMPs'}, axis=1)"
   ]
  },
  {
   "cell_type": "code",
   "execution_count": null,
   "id": "04b7e8be",
   "metadata": {},
   "outputs": [],
   "source": [
    "_all = data.groupby('amp').agg('size').reset_index()\n",
    "_all = _all.rename({0: 'number of detections'}, axis=1)\n",
    "_all = _all.groupby('number of detections').agg('size').reset_index()\n",
    "_all = _all.rename({0: 'number of c_AMPs'}, axis=1)\n",
    "_all['high'] = 'all'\n",
    "\n",
    "tf = tf.append(_all, ignore_index=True)"
   ]
  },
  {
   "cell_type": "code",
   "execution_count": null,
   "id": "fc277ffc",
   "metadata": {},
   "outputs": [],
   "source": [
    "# adding prevalence\n",
    "metadata = pd.read_table('data/reduced_metadata.tsv.gz')\n",
    "metadata['high'] = metadata.general_envo_name.map(lambda x: higher_level.get(x))\n",
    "metadata = metadata.high.value_counts()\n",
    "metadata.loc['all'] = 63410\n",
    "\n",
    "tf['total'] = tf.high.map(lambda x: metadata.loc[x])\n",
    "tf['prevalence'] = 100 * tf['number of detections'] / tf['total']\n",
    "tf"
   ]
  },
  {
   "cell_type": "code",
   "execution_count": null,
   "id": "0ca86d81",
   "metadata": {},
   "outputs": [],
   "source": [
    "fig, axarr = plt.subplot_mosaic([['a', 'b']])\n",
    "\n",
    "sns.scatterplot(ax=axarr['a'],\n",
    "                data=tf,\n",
    "                x='number of detections',\n",
    "                y='number of c_AMPs',\n",
    "                hue='high',\n",
    "                s=5)\n",
    "\n",
    "axarr['a'].set_yscale('log')\n",
    "axarr['a'].set_xscale('log')\n",
    "\n",
    "axarr['a'].axvline(x=10.0,\n",
    "            color='black',\n",
    "            linestyle='--')\n",
    "\n",
    "axarr['a'].axhline(y=1000,\n",
    "            color='black',\n",
    "            linestyle='--')\n",
    "\n",
    "sns.scatterplot(ax=axarr['b'],\n",
    "                data=tf,\n",
    "                x='prevalence',\n",
    "                y='number of c_AMPs',\n",
    "                hue='high',\n",
    "                s=5)\n",
    "\n",
    "axarr['b'].set_yscale('log')\n",
    "#axarr['b'].set_xscale('log')\n",
    "\n",
    "axarr['b'].set_xlabel('prevalence %')\n",
    "axarr['b'].set_ylabel(None)\n",
    "axarr['b'].set_yticks([])\n",
    "\n",
    "axarr['b'].axvline(x=10.0,\n",
    "            color='black',\n",
    "            linestyle='--')\n",
    "\n",
    "axarr['b'].axhline(y=1000,\n",
    "            color='black',\n",
    "            linestyle='--')\n",
    "\n",
    "axarr['a'].legend('')\n",
    "#axarr['b'].legend('')"
   ]
  },
  {
   "cell_type": "code",
   "execution_count": null,
   "id": "7660d402",
   "metadata": {},
   "outputs": [],
   "source": [
    "# show proportions of genes with 10 or less detections in each environment:\n",
    "prop = []    \n",
    "for h in set(tf.high):\n",
    "    c = tf[(tf.high == h)]\n",
    "    l = c['number of c_AMPs'].sum()\n",
    "    n = c.loc[c['number of detections'] <= 10, 'number of c_AMPs'].sum()\n",
    "    p = n * 100 / l\n",
    "    prop.append((h, p, l))\n",
    "\n",
    "prop = pd.DataFrame(prop, columns=['habitat', 'proportion', 'c_AMPs'])\n",
    "prop"
   ]
  },
  {
   "cell_type": "code",
   "execution_count": null,
   "id": "f6eb8a72",
   "metadata": {},
   "outputs": [],
   "source": [
    "spearmanr(prop.proportion, prop.c_AMPs)"
   ]
  },
  {
   "cell_type": "code",
   "execution_count": null,
   "id": "06728510",
   "metadata": {},
   "outputs": [],
   "source": [
    "for h in set(tf.high):\n",
    "    \n",
    "    print(f'Habitat: {h}')\n",
    "    \n",
    "    k1 = 1 / tf[tf.high == h]['number of c_AMPs']\n",
    "    \n",
    "    r, p = pearsonr(tf[tf.high == h]['number of detections'],\n",
    "                    k1)\n",
    "    \n",
    "    print(f'Linear relationship, Pearson r: {r} and p: {p}')\n",
    "    \n",
    "    r, p = pearsonr(np.log10(tf[tf.high == h]['number of detections']),\n",
    "                    np.log10(k1))\n",
    "\n",
    "    print(f'Log-log linear relationship, Pearson r: {r} and p: {p}\\n')\n",
    "    "
   ]
  },
  {
   "cell_type": "code",
   "execution_count": null,
   "id": "08456428",
   "metadata": {},
   "outputs": [],
   "source": [
    "import json\n",
    "\n",
    "genevariant = json.load(open('data/ampsphere_gene_variant.json'))\n",
    "\n",
    "metadata = pd.read_table('data/reduced_metadata.tsv.gz')\n",
    "metadata = metadata[['sample_accession', 'general_envo_name']]\n",
    "metadata = metadata.rename({'sample_accession': 'sample'}, axis=1)\n",
    "\n",
    "# load data\n",
    "amp_fam = pd.read_table('data/SPHERE_v.2022-03.levels_assessment.tsv.gz', sep='\\t', header='infer')\n",
    "amp_fam = amp_fam[['AMP accession', 'SPHERE_fam level III']]\n",
    "amp_fam = amp_fam.rename({'AMP accession': 'amp',\n",
    "                          'SPHERE_fam level III': 'family'},\n",
    "                          axis=1)\n",
    "\n",
    "# species level AMPs\n",
    "df = pd.read_table('data/complete_amps_associated_taxonomy.tsv.gz')\n",
    "df = df[df.level == 'species']\n",
    "df = df.merge(on='sample', right=metadata)\n",
    "df = df.merge(on='amp', right=amp_fam)"
   ]
  },
  {
   "cell_type": "code",
   "execution_count": null,
   "id": "21872bee",
   "metadata": {},
   "outputs": [],
   "source": [
    "df['high'] = df.general_envo_name.map(lambda x: higher_level.get(x))\n",
    "df['gene_var'] = df.gmsc.map(lambda x: genevariant.get(x))\n",
    "df"
   ]
  },
  {
   "cell_type": "code",
   "execution_count": null,
   "id": "72b1e40f",
   "metadata": {},
   "outputs": [],
   "source": [
    "#df[df.source.str.contains('Shimwellia')].groupby(['amp', 'high']).agg('size').reset_index().rename({0: 'samples'}, axis=1)\n",
    "df.loc[df.amp == 'AMP10.000_436', 'source'].value_counts()\n",
    "\n",
    "# d = pd.read_table('data/gmsc_amp_genes_envohr_source.tsv.gz')\n",
    "# d = d[d.is_metagenomic == False]\n",
    "# d = d.fillna('NA')\n",
    "# d[d.source.str.contains('Shimwellia')]"
   ]
  },
  {
   "cell_type": "code",
   "execution_count": null,
   "id": "2c310c9a",
   "metadata": {},
   "outputs": [],
   "source": [
    "# samples\n",
    "f0 = df[['source', 'sample']].drop_duplicates()\n",
    "f0 = f0['source'].value_counts()\n",
    "\n",
    "# amps\n",
    "f1 = df[['source', 'amp']].drop_duplicates()\n",
    "f1 = f1['source'].value_counts()\n",
    "\n",
    "# genes\n",
    "f2 = df['source'].value_counts()\n",
    "\n",
    "# gene_var\n",
    "f4 = df[['source', 'gene_var']].drop_duplicates()\n",
    "f4 = f4.source.value_counts()\n",
    "\n",
    "# families\n",
    "f3 = df[['source', 'family']].drop_duplicates()\n",
    "f3 = f3.source.value_counts()\n",
    "\n",
    "newdf = pd.concat([f0, f1, f2, f4, f3], axis=1)\n",
    "newdf.columns = ['sample', 'amp', 'gene', 'gene_var', 'family']\n",
    "newdf = newdf.sort_values(by=['sample', 'amp', 'gene', 'gene_var', 'family'])\n",
    "newdf"
   ]
  },
  {
   "cell_type": "code",
   "execution_count": null,
   "id": "cfe7f4be",
   "metadata": {},
   "outputs": [],
   "source": [
    "altdf = newdf[newdf['sample'] > 634]\n",
    "print(altdf.columns)\n",
    "sns.scatterplot(data=altdf, x='gene_var', y='family')"
   ]
  },
  {
   "cell_type": "code",
   "execution_count": null,
   "id": "721b0c91",
   "metadata": {},
   "outputs": [],
   "source": [
    "newdf['var_per_fam'] = newdf.gene_var / newdf.family\n",
    "newdf['var_per_amp'] = newdf.gene_var / newdf.amp\n",
    "\n",
    "print(spearmanr(altdf.amp, altdf.gene))\n",
    "print(spearmanr(altdf.amp, altdf.gene_var))\n",
    "print(spearmanr(altdf.gene, altdf.gene_var))\n",
    "print(spearmanr(altdf.amp, altdf.family))\n",
    "print(spearmanr(altdf.gene, altdf.family))\n",
    "print(spearmanr(altdf.gene_var, altdf.family))"
   ]
  },
  {
   "cell_type": "code",
   "execution_count": null,
   "id": "5fc342c9",
   "metadata": {},
   "outputs": [],
   "source": [
    "amps_per_sps = df[['source', 'gene_var', 'amp']]\n",
    "amps_per_sps = amps_per_sps.drop_duplicates()\n",
    "amps_per_sps = amps_per_sps.groupby(['source', 'amp']).agg('size')\n",
    "amps_per_sps = amps_per_sps.reset_index()\n",
    "amps_per_sps = amps_per_sps.groupby('source').agg('size')\n",
    "amps_per_sps"
   ]
  },
  {
   "cell_type": "code",
   "execution_count": null,
   "id": "90411721",
   "metadata": {},
   "outputs": [],
   "source": [
    "itf = df[df.general_envo_name.str.contains('human')]\n",
    "itf = itf[['amp', 'gene_var', 'general_envo_name', 'source']]\n",
    "itf = itf.drop_duplicates()\n",
    "itf = itf.groupby(['general_envo_name', 'source'])\n",
    "itf = itf.agg('size')\n",
    "itf = itf.reset_index()\n",
    "itf = itf.rename({0: 'gene_variants'}, axis=1)\n",
    "\n",
    "ftf = df[df.general_envo_name.str.contains('human')]\n",
    "ftf = ftf[['family', 'general_envo_name', 'source']]\n",
    "ftf = ftf.drop_duplicates()\n",
    "ftf = ftf.groupby(['general_envo_name', 'source'])\n",
    "ftf = ftf.agg('size')\n",
    "ftf = ftf.reset_index()\n",
    "ftf = ftf.rename({0: 'families'}, axis=1)\n",
    "\n",
    "\n",
    "itf = itf.merge(on=['general_envo_name', 'source'], \n",
    "               right=ftf)\n",
    "\n",
    "itf['uni_per_fam'] = itf.gene_variants / itf.families\n",
    "\n",
    "sns.kdeplot(data=itf,\n",
    "            x='uni_per_fam',\n",
    "            hue='general_envo_name',\n",
    "            clip=(0, 5),\n",
    "            fill=True,\n",
    "            alpha=0.15)"
   ]
  }
 ],
 "metadata": {
  "kernelspec": {
   "display_name": "Python 3 (ipykernel)",
   "language": "python",
   "name": "python3"
  },
  "language_info": {
   "codemirror_mode": {
    "name": "ipython",
    "version": 3
   },
   "file_extension": ".py",
   "mimetype": "text/x-python",
   "name": "python",
   "nbconvert_exporter": "python",
   "pygments_lexer": "ipython3",
   "version": "3.9.0"
  }
 },
 "nbformat": 4,
 "nbformat_minor": 5
}
