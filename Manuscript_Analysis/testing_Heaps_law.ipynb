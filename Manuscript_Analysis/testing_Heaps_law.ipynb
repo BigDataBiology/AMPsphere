{
 "cells": [
  {
   "cell_type": "markdown",
   "id": "20287790",
   "metadata": {},
   "source": [
    "# AMPSphere v.2022-03\n",
    "\n",
    "This is a notebook meant to form the set of notebooks used to analyze the data in AMPSphere and write the manuscript:\n",
    "\n",
    "__AMPSphere: Global survey of prokaryotic antimicrobial peptides shaping microbiomes__"
   ]
  },
  {
   "cell_type": "markdown",
   "id": "273c5b18",
   "metadata": {},
   "source": [
    "### Testing Heap's Law for c_AMPs from high-quality microbial genomes (ProGenomes2)\n",
    "\n",
    "We tested the adjustment of rarefaction curves of c_AMPs from high-quality microbial genomes to the Heap's Law, which states: \n",
    "\n",
    "n = k*N<sup>Y</sup>, Where:\n",
    "\n",
    "- n represents the number of newly added c_AMPs to the pan-genome,\n",
    "- N is the number of sampled genomes, and\n",
    "- k and Y represent fitting parameters.\n",
    "\n",
    "If Y > 0 it is verified that the pan-genome is open and new genomes tend to add more and more c_AMPs to the pan-genome, instead of estabilizing. To more details of how this work, please refer to this [link](https://www.ncbi.nlm.nih.gov/pmc/articles/PMC6491781/pdf/fmicb-10-00834.pdf)"
   ]
  },
  {
   "cell_type": "code",
   "execution_count": 1,
   "id": "a2176f6e",
   "metadata": {},
   "outputs": [],
   "source": [
    "import pandas as pd\n",
    "import seaborn as sns\n",
    "import matplotlib.pyplot as plt\n",
    "\n",
    "from itertools import chain\n",
    "from collections import Counter\n",
    "from scipy.stats import shapiro"
   ]
  },
  {
   "cell_type": "code",
   "execution_count": 2,
   "id": "bf84af9f",
   "metadata": {},
   "outputs": [],
   "source": [
    "def heapslaw(t):\n",
    "    from scipy.optimize import curve_fit\n",
    "    from sklearn.metrics import r2_score\n",
    "    \n",
    "    t = pd.DataFrame(t, columns=['genomes', 'families'])\n",
    "    \n",
    "    def func_powerlaw(x, k, a):\n",
    "        return k*(x**a)\n",
    "    \n",
    "    target_func = func_powerlaw\n",
    "    \n",
    "    popt, pcov = curve_fit(target_func, t['genomes'], t['families'])\n",
    "    \n",
    "    t['pred'] = [func_powerlaw(x, popt[0], popt[1]) for x in t['genomes']]\n",
    "    \n",
    "    r2 = r2_score(t['families'], t['pred'])\n",
    "    \n",
    "    return popt, r2"
   ]
  },
  {
   "cell_type": "code",
   "execution_count": 3,
   "id": "e0e70cf9",
   "metadata": {},
   "outputs": [],
   "source": [
    "def countclasses(df, sp: str, rep=None, step=None, verbose=False) -> tuple:\n",
    "    spdf = df[df.source == sp]['family']\n",
    "    spdf = spdf.apply(lambda x: list(x))\n",
    "    L = len(spdf)\n",
    "    if rep == None: rep = 32\n",
    "    if (step == None) and (L < 50): step = 1\n",
    "    elif (step == None) and (L < 100): step = 5\n",
    "    elif (step == None) and (L >= 100): step = 10\n",
    "    t = []\n",
    "    for n in range(L, 0, -step):\n",
    "        if n != L:\n",
    "            k = 0\n",
    "            for _ in range(rep):\n",
    "                freqs = Counter(chain.from_iterable(spdf.sample(n)))\n",
    "                k += len(freqs)\n",
    "            t.append([n, k/rep])\n",
    "    popt, r2 = heapslaw(t)\n",
    "    if verbose:\n",
    "        return (sp, L, rep, popt[0], popt[1], r2, t)\n",
    "    else:\n",
    "        return (sp, L, rep, popt[0], popt[1], r2)"
   ]
  },
  {
   "cell_type": "code",
   "execution_count": 4,
   "id": "73872cf6",
   "metadata": {},
   "outputs": [],
   "source": [
    "# load c_AMPs\n",
    "refdata = pd.read_table('data/gmsc_amp_genes_envohr_source.tsv.gz',\n",
    "                        sep='\\t',\n",
    "                        header='infer')\n",
    "refdata = refdata[refdata.is_metagenomic == False]\n",
    "refdata = refdata[~(refdata.specI.isna())]\n",
    "refdata = refdata[['amp','sample','specI']]"
   ]
  },
  {
   "cell_type": "code",
   "execution_count": 5,
   "id": "10a21f30",
   "metadata": {},
   "outputs": [
    {
     "data": {
      "text/html": [
       "<div>\n",
       "<style scoped>\n",
       "    .dataframe tbody tr th:only-of-type {\n",
       "        vertical-align: middle;\n",
       "    }\n",
       "\n",
       "    .dataframe tbody tr th {\n",
       "        vertical-align: top;\n",
       "    }\n",
       "\n",
       "    .dataframe thead th {\n",
       "        text-align: right;\n",
       "    }\n",
       "</style>\n",
       "<table border=\"1\" class=\"dataframe\">\n",
       "  <thead>\n",
       "    <tr style=\"text-align: right;\">\n",
       "      <th></th>\n",
       "      <th>amp</th>\n",
       "      <th>sample</th>\n",
       "      <th>specI</th>\n",
       "      <th>family</th>\n",
       "    </tr>\n",
       "  </thead>\n",
       "  <tbody>\n",
       "    <tr>\n",
       "      <th>0</th>\n",
       "      <td>AMP10.000_000</td>\n",
       "      <td>435590.SAMN02604309</td>\n",
       "      <td>specI_v3_Cluster2367</td>\n",
       "      <td>SPHERE-III.001_493</td>\n",
       "    </tr>\n",
       "    <tr>\n",
       "      <th>1</th>\n",
       "      <td>AMP10.000_000</td>\n",
       "      <td>457394.SAMN02463694</td>\n",
       "      <td>specI_v3_Cluster2367</td>\n",
       "      <td>SPHERE-III.001_493</td>\n",
       "    </tr>\n",
       "    <tr>\n",
       "      <th>2</th>\n",
       "      <td>AMP10.000_000</td>\n",
       "      <td>469593.SAMN02463762</td>\n",
       "      <td>specI_v3_Cluster2367</td>\n",
       "      <td>SPHERE-III.001_493</td>\n",
       "    </tr>\n",
       "    <tr>\n",
       "      <th>3</th>\n",
       "      <td>AMP10.000_000</td>\n",
       "      <td>997891.SAMN02463934</td>\n",
       "      <td>specI_v3_Cluster2367</td>\n",
       "      <td>SPHERE-III.001_493</td>\n",
       "    </tr>\n",
       "    <tr>\n",
       "      <th>4</th>\n",
       "      <td>AMP10.000_000</td>\n",
       "      <td>1235786.SAMN01730984</td>\n",
       "      <td>specI_v3_Cluster2367</td>\n",
       "      <td>SPHERE-III.001_493</td>\n",
       "    </tr>\n",
       "    <tr>\n",
       "      <th>...</th>\n",
       "      <td>...</td>\n",
       "      <td>...</td>\n",
       "      <td>...</td>\n",
       "      <td>...</td>\n",
       "    </tr>\n",
       "    <tr>\n",
       "      <th>85293</th>\n",
       "      <td>AMP10.862_632</td>\n",
       "      <td>665959.SAMN02463787</td>\n",
       "      <td>specI_v3_Cluster2986</td>\n",
       "      <td>SPHERE-III.012_226</td>\n",
       "    </tr>\n",
       "    <tr>\n",
       "      <th>85294</th>\n",
       "      <td>AMP10.862_909</td>\n",
       "      <td>1351.SAMN04621616</td>\n",
       "      <td>specI_v3_Cluster318</td>\n",
       "      <td>SPHERE-III.008_035</td>\n",
       "    </tr>\n",
       "    <tr>\n",
       "      <th>85295</th>\n",
       "      <td>AMP10.862_925</td>\n",
       "      <td>1423686.SAMN02414603</td>\n",
       "      <td>specI_v3_Cluster278</td>\n",
       "      <td>SPHERE-III.098_713</td>\n",
       "    </tr>\n",
       "    <tr>\n",
       "      <th>85296</th>\n",
       "      <td>AMP10.863_414</td>\n",
       "      <td>1390373.SAMN02712082</td>\n",
       "      <td>specI_v3_Cluster930</td>\n",
       "      <td>SPHERE-III.046_975</td>\n",
       "    </tr>\n",
       "    <tr>\n",
       "      <th>85297</th>\n",
       "      <td>AMP10.863_432</td>\n",
       "      <td>1423796.SAMN02369383</td>\n",
       "      <td>specI_v3_Cluster8260</td>\n",
       "      <td>SPHERE-III.046_975</td>\n",
       "    </tr>\n",
       "  </tbody>\n",
       "</table>\n",
       "<p>85298 rows × 4 columns</p>\n",
       "</div>"
      ],
      "text/plain": [
       "                 amp                sample                 specI  \\\n",
       "0      AMP10.000_000   435590.SAMN02604309  specI_v3_Cluster2367   \n",
       "1      AMP10.000_000   457394.SAMN02463694  specI_v3_Cluster2367   \n",
       "2      AMP10.000_000   469593.SAMN02463762  specI_v3_Cluster2367   \n",
       "3      AMP10.000_000   997891.SAMN02463934  specI_v3_Cluster2367   \n",
       "4      AMP10.000_000  1235786.SAMN01730984  specI_v3_Cluster2367   \n",
       "...              ...                   ...                   ...   \n",
       "85293  AMP10.862_632   665959.SAMN02463787  specI_v3_Cluster2986   \n",
       "85294  AMP10.862_909     1351.SAMN04621616   specI_v3_Cluster318   \n",
       "85295  AMP10.862_925  1423686.SAMN02414603   specI_v3_Cluster278   \n",
       "85296  AMP10.863_414  1390373.SAMN02712082   specI_v3_Cluster930   \n",
       "85297  AMP10.863_432  1423796.SAMN02369383  specI_v3_Cluster8260   \n",
       "\n",
       "                   family  \n",
       "0      SPHERE-III.001_493  \n",
       "1      SPHERE-III.001_493  \n",
       "2      SPHERE-III.001_493  \n",
       "3      SPHERE-III.001_493  \n",
       "4      SPHERE-III.001_493  \n",
       "...                   ...  \n",
       "85293  SPHERE-III.012_226  \n",
       "85294  SPHERE-III.008_035  \n",
       "85295  SPHERE-III.098_713  \n",
       "85296  SPHERE-III.046_975  \n",
       "85297  SPHERE-III.046_975  \n",
       "\n",
       "[85298 rows x 4 columns]"
      ]
     },
     "execution_count": 5,
     "metadata": {},
     "output_type": "execute_result"
    }
   ],
   "source": [
    "families = pd.read_table('data/SPHERE_v.2022-03.levels_assessment.tsv.gz')\n",
    "families = families[['AMP accession', 'SPHERE_fam level III']]\n",
    "families.columns = ['amp', 'family']\n",
    "\n",
    "refdata = refdata.merge(on='amp', right=families)\n",
    "refdata"
   ]
  },
  {
   "cell_type": "code",
   "execution_count": 6,
   "id": "ce1afb7d",
   "metadata": {},
   "outputs": [],
   "source": [
    "refdata = refdata.drop('amp', axis=1).drop_duplicates()\n",
    "refdata = refdata.groupby(['specI', 'sample'])['family']\n",
    "refdata = refdata.apply(lambda x: set(x))\n",
    "refdata = refdata.reset_index()\n",
    "refdata.rename({'specI': 'source'}, axis=1, inplace=True)\n",
    "refdata.to_csv('test.tsv', sep='\\t', header=True, index=None)"
   ]
  },
  {
   "cell_type": "markdown",
   "id": "9ea128de",
   "metadata": {},
   "source": [
    "We then calculate the number of samples without c_AMPs we need to add to each species cluster."
   ]
  },
  {
   "cell_type": "code",
   "execution_count": 7,
   "id": "5943ec27",
   "metadata": {},
   "outputs": [],
   "source": [
    "# calculate the size of species clusters\n",
    "df = pd.read_table('data/pgenomes_samples.tsv.gz',\n",
    "                       sep='\\t',\n",
    "                       header=None,\n",
    "                       names=['specI', 'genome'])\n",
    "df = df.specI.value_counts()\n",
    "df = df[df >= 10]\n",
    "\n",
    "# refdata cluster size\n",
    "rdf = refdata.source.value_counts()\n",
    "rdf = pd.concat([rdf, df], axis=1)\n",
    "rdf = rdf.dropna()\n",
    "rdf['replicate'] = rdf.specI - rdf.source"
   ]
  },
  {
   "cell_type": "code",
   "execution_count": 8,
   "id": "5f65ae7c",
   "metadata": {},
   "outputs": [
    {
     "data": {
      "text/html": [
       "<div>\n",
       "<style scoped>\n",
       "    .dataframe tbody tr th:only-of-type {\n",
       "        vertical-align: middle;\n",
       "    }\n",
       "\n",
       "    .dataframe tbody tr th {\n",
       "        vertical-align: top;\n",
       "    }\n",
       "\n",
       "    .dataframe thead th {\n",
       "        text-align: right;\n",
       "    }\n",
       "</style>\n",
       "<table border=\"1\" class=\"dataframe\">\n",
       "  <thead>\n",
       "    <tr style=\"text-align: right;\">\n",
       "      <th></th>\n",
       "      <th>source</th>\n",
       "      <th>sample</th>\n",
       "      <th>family</th>\n",
       "    </tr>\n",
       "  </thead>\n",
       "  <tbody>\n",
       "    <tr>\n",
       "      <th>0</th>\n",
       "      <td>specI_v3_Cluster10</td>\n",
       "      <td>1423959.SAMN05444407</td>\n",
       "      <td>{SPHERE-III.003_446}</td>\n",
       "    </tr>\n",
       "    <tr>\n",
       "      <th>1</th>\n",
       "      <td>specI_v3_Cluster100</td>\n",
       "      <td>1218085.SAMD00019864</td>\n",
       "      <td>{SPHERE-III.456_616}</td>\n",
       "    </tr>\n",
       "    <tr>\n",
       "      <th>2</th>\n",
       "      <td>specI_v3_Cluster100</td>\n",
       "      <td>637910.SAMEA2272524</td>\n",
       "      <td>{SPHERE-III.456_616}</td>\n",
       "    </tr>\n",
       "    <tr>\n",
       "      <th>3</th>\n",
       "      <td>specI_v3_Cluster10002</td>\n",
       "      <td>1805714.SAMEA4475147</td>\n",
       "      <td>{SPHERE-III.435_492}</td>\n",
       "    </tr>\n",
       "    <tr>\n",
       "      <th>4</th>\n",
       "      <td>specI_v3_Cluster1001</td>\n",
       "      <td>1262900.PRJEB972</td>\n",
       "      <td>{SPHERE-III.146_896, SPHERE-III.060_926}</td>\n",
       "    </tr>\n",
       "    <tr>\n",
       "      <th>...</th>\n",
       "      <td>...</td>\n",
       "      <td>...</td>\n",
       "      <td>...</td>\n",
       "    </tr>\n",
       "    <tr>\n",
       "      <th>0</th>\n",
       "      <td>specI_v3_Cluster3117</td>\n",
       "      <td>mocksample</td>\n",
       "      <td>{}</td>\n",
       "    </tr>\n",
       "    <tr>\n",
       "      <th>0</th>\n",
       "      <td>specI_v3_Cluster3117</td>\n",
       "      <td>mocksample</td>\n",
       "      <td>{}</td>\n",
       "    </tr>\n",
       "    <tr>\n",
       "      <th>0</th>\n",
       "      <td>specI_v3_Cluster3117</td>\n",
       "      <td>mocksample</td>\n",
       "      <td>{}</td>\n",
       "    </tr>\n",
       "    <tr>\n",
       "      <th>0</th>\n",
       "      <td>specI_v3_Cluster3117</td>\n",
       "      <td>mocksample</td>\n",
       "      <td>{}</td>\n",
       "    </tr>\n",
       "    <tr>\n",
       "      <th>0</th>\n",
       "      <td>specI_v3_Cluster3117</td>\n",
       "      <td>mocksample</td>\n",
       "      <td>{}</td>\n",
       "    </tr>\n",
       "  </tbody>\n",
       "</table>\n",
       "<p>70647 rows × 3 columns</p>\n",
       "</div>"
      ],
      "text/plain": [
       "                   source                sample  \\\n",
       "0      specI_v3_Cluster10  1423959.SAMN05444407   \n",
       "1     specI_v3_Cluster100  1218085.SAMD00019864   \n",
       "2     specI_v3_Cluster100   637910.SAMEA2272524   \n",
       "3   specI_v3_Cluster10002  1805714.SAMEA4475147   \n",
       "4    specI_v3_Cluster1001      1262900.PRJEB972   \n",
       "..                    ...                   ...   \n",
       "0    specI_v3_Cluster3117            mocksample   \n",
       "0    specI_v3_Cluster3117            mocksample   \n",
       "0    specI_v3_Cluster3117            mocksample   \n",
       "0    specI_v3_Cluster3117            mocksample   \n",
       "0    specI_v3_Cluster3117            mocksample   \n",
       "\n",
       "                                      family  \n",
       "0                       {SPHERE-III.003_446}  \n",
       "1                       {SPHERE-III.456_616}  \n",
       "2                       {SPHERE-III.456_616}  \n",
       "3                       {SPHERE-III.435_492}  \n",
       "4   {SPHERE-III.146_896, SPHERE-III.060_926}  \n",
       "..                                       ...  \n",
       "0                                         {}  \n",
       "0                                         {}  \n",
       "0                                         {}  \n",
       "0                                         {}  \n",
       "0                                         {}  \n",
       "\n",
       "[70647 rows x 3 columns]"
      ]
     },
     "execution_count": 8,
     "metadata": {},
     "output_type": "execute_result"
    }
   ],
   "source": [
    "# adding mock samples without c_AMPs\n",
    "rdf.replicate = rdf.replicate.astype('int')\n",
    "\n",
    "for spec, _, _, replicate in rdf.itertuples():\n",
    "    itdf = pd.DataFrame([[spec, 'mocksample', {}]], columns=['source', 'sample', 'family'])\n",
    "    itdf = itdf.sample(replicate, replace=True)\n",
    "    refdata = pd.concat([refdata, itdf])\n",
    "\n",
    "refdata"
   ]
  },
  {
   "cell_type": "code",
   "execution_count": 9,
   "id": "b2f7c49e",
   "metadata": {},
   "outputs": [
    {
     "name": "stderr",
     "output_type": "stream",
     "text": [
      "/home/celio/miniconda3/lib/python3.9/site-packages/sklearn/utils/multiclass.py:13: DeprecationWarning: Please use `spmatrix` from the `scipy.sparse` namespace, the `scipy.sparse.base` namespace is deprecated.\n",
      "  from scipy.sparse.base import spmatrix\n"
     ]
    }
   ],
   "source": [
    "k = refdata.source.value_counts()\n",
    "k = k[k >= 10].index\n",
    "\n",
    "splist = []\n",
    "for sp in k:\n",
    "    t = countclasses(refdata, sp, verbose=True)\n",
    "    splist.append(t)"
   ]
  },
  {
   "cell_type": "code",
   "execution_count": 10,
   "id": "7032f232",
   "metadata": {},
   "outputs": [],
   "source": [
    "splist = pd.DataFrame(splist,\n",
    "                      columns=['species',\n",
    "                               'samples',\n",
    "                               'replicates',\n",
    "                               'k',\n",
    "                               'alpha',\n",
    "                               'r2',\n",
    "                               'curve'])\n",
    "\n",
    "splist\n",
    "\n",
    "splist.to_csv('specI_heapslaw.tsv.gz', sep='\\t', header=True, index=None)"
   ]
  },
  {
   "cell_type": "code",
   "execution_count": 11,
   "id": "d0b6486d",
   "metadata": {},
   "outputs": [
    {
     "name": "stdout",
     "output_type": "stream",
     "text": [
      "0.49677621343418427\n"
     ]
    },
    {
     "data": {
      "text/plain": [
       "ShapiroResult(statistic=0.9485883116722107, pvalue=3.308499252341335e-09)"
      ]
     },
     "execution_count": 11,
     "metadata": {},
     "output_type": "execute_result"
    },
    {
     "data": {
      "image/png": "[encoded data removed]",
      "text/plain": [
       "<Figure size 432x288 with 1 Axes>"
      ]
     },
     "metadata": {
      "needs_background": "light"
     },
     "output_type": "display_data"
    }
   ],
   "source": [
    "splist[splist.r2 > 0.9].alpha.hist(bins=100)\n",
    "print(splist[splist.r2 > 0.9].alpha.mean())\n",
    "plt.xlabel('Y from Heaps Law')\n",
    "plt.ylabel('Counts')\n",
    "plt.savefig('distribution_of_coefficients.svg')\n",
    "\n",
    "shapiro(splist[splist.r2 > 0.9].alpha)"
   ]
  },
  {
   "cell_type": "code",
   "execution_count": 12,
   "id": "b1cb9516",
   "metadata": {},
   "outputs": [
    {
     "data": {
      "image/png": "[encoded data removed]",
      "text/plain": [
       "<Figure size 432x288 with 1 Axes>"
      ]
     },
     "metadata": {
      "needs_background": "light"
     },
     "output_type": "display_data"
    }
   ],
   "source": [
    "sns.scatterplot(data=splist,\n",
    "               x='r2',\n",
    "               y='alpha',\n",
    "               s=3)\n",
    "\n",
    "plt.xlabel('R² score')\n",
    "plt.ylabel('Y from Heaps Law')\n",
    "plt.savefig('Heaps_law_adjustment_vs_score.svg')"
   ]
  },
  {
   "cell_type": "code",
   "execution_count": 13,
   "id": "4fee695b",
   "metadata": {},
   "outputs": [
    {
     "data": {
      "text/plain": [
       "(0.12725759128521405, 1.1011341195640507)"
      ]
     },
     "execution_count": 13,
     "metadata": {},
     "output_type": "execute_result"
    }
   ],
   "source": [
    "L = splist[splist.r2 > 0.9].alpha.tolist()\n",
    "min(L), max(L)"
   ]
  },
  {
   "cell_type": "code",
   "execution_count": 14,
   "id": "9c267ec4",
   "metadata": {},
   "outputs": [],
   "source": [
    "# plot graphs comparing prediction and real data\n",
    "def plot_heaps(sp: str, df, loadfromfile=False):\n",
    "    def powerlaw(x, k, g):\n",
    "        return k*(x**g)    \n",
    "    # 1. check sps\n",
    "    if sp in df.species.tolist():\n",
    "        idx = df[df.species == sp].index[0]\n",
    "        (_, N, _, k, g, _, L) = df.iloc[idx]\n",
    "        # 3. retrieve curve (only needed if you load from a file)\n",
    "        if loadfromfile:\n",
    "            L = [x.replace(']]', '').split(', ') for x in L.split('], [')]\n",
    "        # 4. convert avg_curve into df\n",
    "        intdf = pd.DataFrame(L, columns=['samples', 'families'])\n",
    "        intdf = intdf.astype(float)\n",
    "        # 5. include prediction\n",
    "        intdf['predicted'] = [powerlaw(x, k, g) for x in intdf.samples]\n",
    "        # 6. plot\n",
    "        sns.lineplot(data=intdf,\n",
    "                    x='samples',\n",
    "                    y='families',\n",
    "                    label='Measured',\n",
    "                    color='black')\n",
    "        sns.lineplot(data=intdf,\n",
    "                    x='samples',\n",
    "                    y='predicted',\n",
    "                    label=\"Heap's Law Prediction\",\n",
    "                    color='red')\n",
    "        plt.xlabel('Random samples')\n",
    "        plt.ylabel('c_AMP clusters')\n",
    "        plt.ylim(bottom=0.)\n",
    "        plt.title(sp)\n",
    "        plt.savefig(f'{sp}_heaps.svg')\n",
    "        plt.close()\n",
    "\n",
    "\n",
    "high_sp = splist.sort_values(by='samples').tail(3)['species'].tolist()\n",
    "for sp in high_sp: plot_heaps(sp, splist)"
   ]
  }
 ],
 "metadata": {
  "kernelspec": {
   "display_name": "Python 3 (ipykernel)",
   "language": "python",
   "name": "python3"
  },
  "language_info": {
   "codemirror_mode": {
    "name": "ipython",
    "version": 3
   },
   "file_extension": ".py",
   "mimetype": "text/x-python",
   "name": "python",
   "nbconvert_exporter": "python",
   "pygments_lexer": "ipython3",
   "version": "3.9.0"
  }
 },
 "nbformat": 4,
 "nbformat_minor": 5
}
